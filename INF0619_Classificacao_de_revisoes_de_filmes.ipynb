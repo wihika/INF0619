{
  "cells": [
    {
      "cell_type": "markdown",
      "metadata": {
        "id": "view-in-github",
        "colab_type": "text"
      },
      "source": [
        "<a href=\"https://colab.research.google.com/github/wihika/INF0619/blob/main/INF0619_Classificacao_de_revisoes_de_filmes.ipynb\" target=\"_parent\"><img src=\"https://colab.research.google.com/assets/colab-badge.svg\" alt=\"Open In Colab\"/></a>"
      ]
    },
    {
      "cell_type": "markdown",
      "metadata": {
        "id": "3tzsmU3M6CQs"
      },
      "source": [
        "## Trabalho Final — INF-0619 Classificação de Revisões de Filmes  \n",
        "Alunos:\n",
        "\n"
      ]
    },
    {
      "cell_type": "markdown",
      "source": [
        "#Descrição\n",
        "O site Rotten Tomatoes é uma plataforma amplamente reconhecida que coleta e exibe avaliações de filmes feitas tanto\n",
        "por usuários comuns, referidos como audiência, quanto por críticos especializados em cinema, o que proporciona\n",
        "uma visão abrangente sobre a recepção de um filme. Uma tarefa crítica que surge desse conjunto de dados é a\n",
        "classificação das avaliações, que pode ser realizada de diferentes maneiras, incluindo a análise do sentimento, que\n",
        "identifica opiniões expressas nas críticas como positivas, negativas ou neutras, e a atribuição de notas, que facilita\n",
        "a comparação entre diferentes filmes. Realizar essas análises de forma automática é de grande importância, pois\n",
        "permite processar uma quantidade significativa de dados de maneira eficiente e precisa, ajudando os usuários a\n",
        "fazer escolhas informadas sobre quais filmes assistir e fornecendo insights valiosos sobre tendências de recepção\n",
        "cinematográfica ao longo do tempo.\n",
        "A base de dados deste projeto contém avaliações de usuários, com notas variando entre 0.5 e 5, de 0.5 em 0.5, e\n",
        "avaliações de críticos de cinema, com o sentimento associado (positivo ou negativo).\n",
        "\n",
        "#Objetivo Principal\n",
        "Este projeto envolve dois problemas, sendo uma tarefa binária e uma tarefa multi-classe, cujo objetivo é predizer\n",
        "corretamente o sentimento da avaliação do crítico (classificação binária) e a nota de avaliação do usuário (multiclasse) baseado no texto da avaliação. A métrica que deverá ser utilizada neste projeto é a Acurácia Balanceada.\n",
        "\n",
        "#Técnicas Envolvidas\n",
        "*   Processamento de linguagem natural;\n",
        "*   Processamento e representação de dados textuais;\n",
        "*   Classificação binária;\n",
        "*   Classificação multi-classe.\n",
        "\n",
        "#Desafios\n",
        "*   Para esse projeto, alguns desafios são:\n",
        "*   Explorar técnicas de processamento de linguagem natural;\n",
        "*   Analisar as palavras e termos-chaves de cada classe;\n",
        "*   Lidar com o desbalanceamento de classes;\n",
        "*   Classificar corretamente o sentimento das revisões dos críticos;\n",
        "*   Classificar corretamente a nota da avaliação dos usuários.\n",
        "\n",
        "#Conjunto de Dados\n",
        "*   Kaggle da base de dados (https://www.kaggle.com/datasets/coltonbarger/rotten-tomatoes-reviews-for-online-streaming-shows/data);\n",
        "*   Conjunto de dados (https://drive.google.com/drive/folders/10wfbJmPUqfZNs3HY4_Y_Uw1Ef0hFMRU5).\n"
      ],
      "metadata": {
        "id": "5PYraWzxzYlP"
      }
    },
    {
      "cell_type": "markdown",
      "metadata": {
        "id": "oWk3u7rHw3MF"
      },
      "source": [
        "## Instalação das Bibliotecas"
      ]
    },
    {
      "cell_type": "markdown",
      "source": [
        "Instalar as bibliotecas necessárias:"
      ],
      "metadata": {
        "id": "TQM2-64T1HMS"
      }
    },
    {
      "cell_type": "code",
      "execution_count": 1,
      "metadata": {
        "colab": {
          "base_uri": "https://localhost:8080/"
        },
        "id": "-vNcKGybw3MF",
        "outputId": "8e0412c3-adfe-42c0-a701-4295477b14d4"
      },
      "outputs": [
        {
          "output_type": "stream",
          "name": "stdout",
          "text": [
            "Requirement already satisfied: pandas in /usr/local/lib/python3.10/dist-packages (2.2.2)\n",
            "Requirement already satisfied: numpy>=1.22.4 in /usr/local/lib/python3.10/dist-packages (from pandas) (1.26.4)\n",
            "Requirement already satisfied: python-dateutil>=2.8.2 in /usr/local/lib/python3.10/dist-packages (from pandas) (2.8.2)\n",
            "Requirement already satisfied: pytz>=2020.1 in /usr/local/lib/python3.10/dist-packages (from pandas) (2024.2)\n",
            "Requirement already satisfied: tzdata>=2022.7 in /usr/local/lib/python3.10/dist-packages (from pandas) (2024.2)\n",
            "Requirement already satisfied: six>=1.5 in /usr/local/lib/python3.10/dist-packages (from python-dateutil>=2.8.2->pandas) (1.16.0)\n",
            "Requirement already satisfied: transformers in /usr/local/lib/python3.10/dist-packages (4.46.2)\n",
            "Requirement already satisfied: filelock in /usr/local/lib/python3.10/dist-packages (from transformers) (3.16.1)\n",
            "Requirement already satisfied: huggingface-hub<1.0,>=0.23.2 in /usr/local/lib/python3.10/dist-packages (from transformers) (0.26.2)\n",
            "Requirement already satisfied: numpy>=1.17 in /usr/local/lib/python3.10/dist-packages (from transformers) (1.26.4)\n",
            "Requirement already satisfied: packaging>=20.0 in /usr/local/lib/python3.10/dist-packages (from transformers) (24.2)\n",
            "Requirement already satisfied: pyyaml>=5.1 in /usr/local/lib/python3.10/dist-packages (from transformers) (6.0.2)\n",
            "Requirement already satisfied: regex!=2019.12.17 in /usr/local/lib/python3.10/dist-packages (from transformers) (2024.9.11)\n",
            "Requirement already satisfied: requests in /usr/local/lib/python3.10/dist-packages (from transformers) (2.32.3)\n",
            "Requirement already satisfied: safetensors>=0.4.1 in /usr/local/lib/python3.10/dist-packages (from transformers) (0.4.5)\n",
            "Requirement already satisfied: tokenizers<0.21,>=0.20 in /usr/local/lib/python3.10/dist-packages (from transformers) (0.20.3)\n",
            "Requirement already satisfied: tqdm>=4.27 in /usr/local/lib/python3.10/dist-packages (from transformers) (4.66.6)\n",
            "Requirement already satisfied: fsspec>=2023.5.0 in /usr/local/lib/python3.10/dist-packages (from huggingface-hub<1.0,>=0.23.2->transformers) (2024.9.0)\n",
            "Requirement already satisfied: typing-extensions>=3.7.4.3 in /usr/local/lib/python3.10/dist-packages (from huggingface-hub<1.0,>=0.23.2->transformers) (4.12.2)\n",
            "Requirement already satisfied: charset-normalizer<4,>=2 in /usr/local/lib/python3.10/dist-packages (from requests->transformers) (3.4.0)\n",
            "Requirement already satisfied: idna<4,>=2.5 in /usr/local/lib/python3.10/dist-packages (from requests->transformers) (3.10)\n",
            "Requirement already satisfied: urllib3<3,>=1.21.1 in /usr/local/lib/python3.10/dist-packages (from requests->transformers) (2.2.3)\n",
            "Requirement already satisfied: certifi>=2017.4.17 in /usr/local/lib/python3.10/dist-packages (from requests->transformers) (2024.8.30)\n",
            "Requirement already satisfied: bertviz in /usr/local/lib/python3.10/dist-packages (1.4.0)\n",
            "Requirement already satisfied: transformers>=2.0 in /usr/local/lib/python3.10/dist-packages (from bertviz) (4.46.2)\n",
            "Requirement already satisfied: torch>=1.0 in /usr/local/lib/python3.10/dist-packages (from bertviz) (2.5.1+cu121)\n",
            "Requirement already satisfied: tqdm in /usr/local/lib/python3.10/dist-packages (from bertviz) (4.66.6)\n",
            "Requirement already satisfied: boto3 in /usr/local/lib/python3.10/dist-packages (from bertviz) (1.35.68)\n",
            "Requirement already satisfied: requests in /usr/local/lib/python3.10/dist-packages (from bertviz) (2.32.3)\n",
            "Requirement already satisfied: regex in /usr/local/lib/python3.10/dist-packages (from bertviz) (2024.9.11)\n",
            "Requirement already satisfied: sentencepiece in /usr/local/lib/python3.10/dist-packages (from bertviz) (0.2.0)\n",
            "Requirement already satisfied: filelock in /usr/local/lib/python3.10/dist-packages (from torch>=1.0->bertviz) (3.16.1)\n",
            "Requirement already satisfied: typing-extensions>=4.8.0 in /usr/local/lib/python3.10/dist-packages (from torch>=1.0->bertviz) (4.12.2)\n",
            "Requirement already satisfied: networkx in /usr/local/lib/python3.10/dist-packages (from torch>=1.0->bertviz) (3.4.2)\n",
            "Requirement already satisfied: jinja2 in /usr/local/lib/python3.10/dist-packages (from torch>=1.0->bertviz) (3.1.4)\n",
            "Requirement already satisfied: fsspec in /usr/local/lib/python3.10/dist-packages (from torch>=1.0->bertviz) (2024.9.0)\n",
            "Requirement already satisfied: sympy==1.13.1 in /usr/local/lib/python3.10/dist-packages (from torch>=1.0->bertviz) (1.13.1)\n",
            "Requirement already satisfied: mpmath<1.4,>=1.1.0 in /usr/local/lib/python3.10/dist-packages (from sympy==1.13.1->torch>=1.0->bertviz) (1.3.0)\n",
            "Requirement already satisfied: huggingface-hub<1.0,>=0.23.2 in /usr/local/lib/python3.10/dist-packages (from transformers>=2.0->bertviz) (0.26.2)\n",
            "Requirement already satisfied: numpy>=1.17 in /usr/local/lib/python3.10/dist-packages (from transformers>=2.0->bertviz) (1.26.4)\n",
            "Requirement already satisfied: packaging>=20.0 in /usr/local/lib/python3.10/dist-packages (from transformers>=2.0->bertviz) (24.2)\n",
            "Requirement already satisfied: pyyaml>=5.1 in /usr/local/lib/python3.10/dist-packages (from transformers>=2.0->bertviz) (6.0.2)\n",
            "Requirement already satisfied: safetensors>=0.4.1 in /usr/local/lib/python3.10/dist-packages (from transformers>=2.0->bertviz) (0.4.5)\n",
            "Requirement already satisfied: tokenizers<0.21,>=0.20 in /usr/local/lib/python3.10/dist-packages (from transformers>=2.0->bertviz) (0.20.3)\n",
            "Requirement already satisfied: botocore<1.36.0,>=1.35.68 in /usr/local/lib/python3.10/dist-packages (from boto3->bertviz) (1.35.68)\n",
            "Requirement already satisfied: jmespath<2.0.0,>=0.7.1 in /usr/local/lib/python3.10/dist-packages (from boto3->bertviz) (1.0.1)\n",
            "Requirement already satisfied: s3transfer<0.11.0,>=0.10.0 in /usr/local/lib/python3.10/dist-packages (from boto3->bertviz) (0.10.4)\n",
            "Requirement already satisfied: charset-normalizer<4,>=2 in /usr/local/lib/python3.10/dist-packages (from requests->bertviz) (3.4.0)\n",
            "Requirement already satisfied: idna<4,>=2.5 in /usr/local/lib/python3.10/dist-packages (from requests->bertviz) (3.10)\n",
            "Requirement already satisfied: urllib3<3,>=1.21.1 in /usr/local/lib/python3.10/dist-packages (from requests->bertviz) (2.2.3)\n",
            "Requirement already satisfied: certifi>=2017.4.17 in /usr/local/lib/python3.10/dist-packages (from requests->bertviz) (2024.8.30)\n",
            "Requirement already satisfied: python-dateutil<3.0.0,>=2.1 in /usr/local/lib/python3.10/dist-packages (from botocore<1.36.0,>=1.35.68->boto3->bertviz) (2.8.2)\n",
            "Requirement already satisfied: MarkupSafe>=2.0 in /usr/local/lib/python3.10/dist-packages (from jinja2->torch>=1.0->bertviz) (3.0.2)\n",
            "Requirement already satisfied: six>=1.5 in /usr/local/lib/python3.10/dist-packages (from python-dateutil<3.0.0,>=2.1->botocore<1.36.0,>=1.35.68->boto3->bertviz) (1.16.0)\n",
            "Requirement already satisfied: datasets in /usr/local/lib/python3.10/dist-packages (3.1.0)\n",
            "Requirement already satisfied: filelock in /usr/local/lib/python3.10/dist-packages (from datasets) (3.16.1)\n",
            "Requirement already satisfied: numpy>=1.17 in /usr/local/lib/python3.10/dist-packages (from datasets) (1.26.4)\n",
            "Requirement already satisfied: pyarrow>=15.0.0 in /usr/local/lib/python3.10/dist-packages (from datasets) (17.0.0)\n",
            "Requirement already satisfied: dill<0.3.9,>=0.3.0 in /usr/local/lib/python3.10/dist-packages (from datasets) (0.3.8)\n",
            "Requirement already satisfied: pandas in /usr/local/lib/python3.10/dist-packages (from datasets) (2.2.2)\n",
            "Requirement already satisfied: requests>=2.32.2 in /usr/local/lib/python3.10/dist-packages (from datasets) (2.32.3)\n",
            "Requirement already satisfied: tqdm>=4.66.3 in /usr/local/lib/python3.10/dist-packages (from datasets) (4.66.6)\n",
            "Requirement already satisfied: xxhash in /usr/local/lib/python3.10/dist-packages (from datasets) (3.5.0)\n",
            "Requirement already satisfied: multiprocess<0.70.17 in /usr/local/lib/python3.10/dist-packages (from datasets) (0.70.16)\n",
            "Requirement already satisfied: fsspec<=2024.9.0,>=2023.1.0 in /usr/local/lib/python3.10/dist-packages (from fsspec[http]<=2024.9.0,>=2023.1.0->datasets) (2024.9.0)\n",
            "Requirement already satisfied: aiohttp in /usr/local/lib/python3.10/dist-packages (from datasets) (3.11.2)\n",
            "Requirement already satisfied: huggingface-hub>=0.23.0 in /usr/local/lib/python3.10/dist-packages (from datasets) (0.26.2)\n",
            "Requirement already satisfied: packaging in /usr/local/lib/python3.10/dist-packages (from datasets) (24.2)\n",
            "Requirement already satisfied: pyyaml>=5.1 in /usr/local/lib/python3.10/dist-packages (from datasets) (6.0.2)\n",
            "Requirement already satisfied: aiohappyeyeballs>=2.3.0 in /usr/local/lib/python3.10/dist-packages (from aiohttp->datasets) (2.4.3)\n",
            "Requirement already satisfied: aiosignal>=1.1.2 in /usr/local/lib/python3.10/dist-packages (from aiohttp->datasets) (1.3.1)\n",
            "Requirement already satisfied: attrs>=17.3.0 in /usr/local/lib/python3.10/dist-packages (from aiohttp->datasets) (24.2.0)\n",
            "Requirement already satisfied: frozenlist>=1.1.1 in /usr/local/lib/python3.10/dist-packages (from aiohttp->datasets) (1.5.0)\n",
            "Requirement already satisfied: multidict<7.0,>=4.5 in /usr/local/lib/python3.10/dist-packages (from aiohttp->datasets) (6.1.0)\n",
            "Requirement already satisfied: propcache>=0.2.0 in /usr/local/lib/python3.10/dist-packages (from aiohttp->datasets) (0.2.0)\n",
            "Requirement already satisfied: yarl<2.0,>=1.17.0 in /usr/local/lib/python3.10/dist-packages (from aiohttp->datasets) (1.17.2)\n",
            "Requirement already satisfied: async-timeout<6.0,>=4.0 in /usr/local/lib/python3.10/dist-packages (from aiohttp->datasets) (4.0.3)\n",
            "Requirement already satisfied: typing-extensions>=3.7.4.3 in /usr/local/lib/python3.10/dist-packages (from huggingface-hub>=0.23.0->datasets) (4.12.2)\n",
            "Requirement already satisfied: charset-normalizer<4,>=2 in /usr/local/lib/python3.10/dist-packages (from requests>=2.32.2->datasets) (3.4.0)\n",
            "Requirement already satisfied: idna<4,>=2.5 in /usr/local/lib/python3.10/dist-packages (from requests>=2.32.2->datasets) (3.10)\n",
            "Requirement already satisfied: urllib3<3,>=1.21.1 in /usr/local/lib/python3.10/dist-packages (from requests>=2.32.2->datasets) (2.2.3)\n",
            "Requirement already satisfied: certifi>=2017.4.17 in /usr/local/lib/python3.10/dist-packages (from requests>=2.32.2->datasets) (2024.8.30)\n",
            "Requirement already satisfied: python-dateutil>=2.8.2 in /usr/local/lib/python3.10/dist-packages (from pandas->datasets) (2.8.2)\n",
            "Requirement already satisfied: pytz>=2020.1 in /usr/local/lib/python3.10/dist-packages (from pandas->datasets) (2024.2)\n",
            "Requirement already satisfied: tzdata>=2022.7 in /usr/local/lib/python3.10/dist-packages (from pandas->datasets) (2024.2)\n",
            "Requirement already satisfied: six>=1.5 in /usr/local/lib/python3.10/dist-packages (from python-dateutil>=2.8.2->pandas->datasets) (1.16.0)\n"
          ]
        }
      ],
      "source": [
        "!pip install pandas\n",
        "!pip install transformers\n",
        "!pip install bertviz\n",
        "!pip install datasets"
      ]
    },
    {
      "cell_type": "markdown",
      "source": [
        "Chamada das bibliotecas necessárias:"
      ],
      "metadata": {
        "id": "3sEOASEz02Cg"
      }
    },
    {
      "cell_type": "code",
      "source": [
        "import pandas\n",
        "import numpy\n",
        "import torch\n",
        "import seaborn\n",
        "import matplotlib.pyplot as plot\n",
        "from datasets import Dataset\n",
        "from transformers import AutoTokenizer, AutoModelForSequenceClassification, get_scheduler\n",
        "from torch.utils.data import TensorDataset, DataLoader\n",
        "from torch.optim import AdamW\n",
        "from sklearn.metrics import balanced_accuracy_score, accuracy_score, confusion_matrix\n",
        "from sklearn.model_selection import train_test_split\n",
        "from bertviz import model_view, head_view"
      ],
      "metadata": {
        "id": "-W-fnmLX1RXn"
      },
      "execution_count": 2,
      "outputs": []
    },
    {
      "cell_type": "markdown",
      "metadata": {
        "id": "qMfcgO1L8j8_"
      },
      "source": [
        "## Carregar e preparar os dados"
      ]
    },
    {
      "cell_type": "markdown",
      "source": [
        "**critic_reviews**\n",
        "- **Show**: titulo do show avaliado\n",
        "- **Sentiment**: Sentimento sendo 0 negativo e 1 positivo (2 classes)\n",
        "- **Review**: conteúdo da avaliação"
      ],
      "metadata": {
        "id": "BRROKpiS4A-9"
      }
    },
    {
      "cell_type": "code",
      "source": [
        "critic_df = pandas.read_csv(\"train_critic.csv\", header=0)\n",
        "test_critic_df = pandas.read_csv(\"test_critic.csv\", header=0)"
      ],
      "metadata": {
        "id": "9ujm6YsZ5ZFe"
      },
      "execution_count": 3,
      "outputs": []
    },
    {
      "cell_type": "markdown",
      "source": [
        "| **Show**                           | **Review**                                                                                       | **Sentiment** |\n",
        "|------------------------------------|--------------------------------------------------------------------------------------------------|---------------|\n",
        "| Bodyguard                          | This has been a brilliant, compulsive, five-star drama...                                        | 1             |\n",
        "| Mad Men                            | With each new season, I try to remind myself that...                                             | 0             |\n",
        "| 1971: The Year That Music Changed Everything | Here's one of the most all-encompassing and stunning...                                         | 1             |\n",
        "| Six Feet Under                     | To me, it was one of the most clever, funny, smart...                                            | 1             |\n",
        "| Pieces of Her                      | Well acted and highly suspenseful, the eight-part drama...                                       | 0             |\n",
        "| ...                                | ...                                                                                              | ...           |\n",
        "| Freaks and Geeks                   | Freaks and Geeks boasts an extremely talented cast...                                            | 1             |\n",
        "| The Gilded Age                     | It's a period piece set in 1882 New York that captures...                                        | 1             |\n",
        "| Joe vs Carole                      | McKinnon and her co-producers must be credited for...                                            | 1             |\n",
        "| Rick and Morty                     | As season openers go, this is a really solid entry...                                            | 1             |\n",
        "| Y: The Last Man                    | Once the show moves past its been-there, watched-that...                                         | 1             |\n"
      ],
      "metadata": {
        "id": "jyiQ9Rci_GWj"
      }
    },
    {
      "cell_type": "markdown",
      "source": [
        "**audience_reviews**\n",
        "- **Show**: titulo do show avaliado\n",
        "- **Rating**: nota do show de 0 a 5, com steps de 0.5 (10 classes)\n",
        "- **Review**: conteúdo da avaliação"
      ],
      "metadata": {
        "id": "d-aMdYUn5bs0"
      }
    },
    {
      "cell_type": "code",
      "execution_count": 4,
      "metadata": {
        "id": "eZ5H4gzR4VSU"
      },
      "outputs": [],
      "source": [
        "audience_df = pandas.read_csv(\"train_audience.csv\", header=0)\n",
        "test_audience_df = pandas.read_csv(\"test_audience.csv\", header=0)"
      ]
    },
    {
      "cell_type": "markdown",
      "source": [
        "| **Show**                | **Review**                                                                                         | **Rating** |\n",
        "|--------------------------|---------------------------------------------------------------------------------------------------|------------|\n",
        "| Game of Thrones          | Lost all guidance without the book. Somehow ruined the entire legacy...                          | 0.5        |\n",
        "| The Book of Boba Fett    | It felt mostly bizarre. Boba Fett himself seems out of place...                                   | 2.5        |\n",
        "| Safe                     | It started well and got me hooked, but it gets dull by the end...                                 | 3.0        |\n",
        "| Midnight Mass            | Here's what you get in this series: Long-winded speeches, some clever moments...                 | 2.0        |\n",
        "| Star Wars: Visions       | I am a big fan of Star Wars and anime, so I really enjoyed this...                                | 4.5        |\n",
        "| ...                      | ...                                                                                               | ...        |\n",
        "| Ozark                    | Don't watch the last season - anticlimactic. Very disappointing...                                | 1.0        |\n",
        "| Game of Thrones          | I wanted to give this higher for the excellent earlier seasons, but the ending ruins it...        | 1.5        |\n",
        "| Attack on Titan          | This season will make Attack on Titan a masterpiece in storytelling and animation...              | 5.0        |\n",
        "| Watchmen                 | Looks terrible. Story is about some sort of random nonsense...                                    | 0.5        |\n",
        "| Peacemaker               | Fun, exciting, well-written, and enjoyable are the words that come to mind for this series...     | 5.0        |\n"
      ],
      "metadata": {
        "id": "E8kFPxw8_gnE"
      }
    },
    {
      "cell_type": "markdown",
      "metadata": {
        "id": "zJqtVALjw3MJ"
      },
      "source": [
        "## Variaveis de configuração\n"
      ]
    },
    {
      "cell_type": "markdown",
      "source": [
        "Variaveis gerais"
      ],
      "metadata": {
        "id": "x9ziHsnA8FXG"
      }
    },
    {
      "cell_type": "code",
      "source": [
        "IS_TEST = True  # Variavel para deixar as runs menores para testar o codigo mais rapido\n",
        "MODEL_NAME = \"prajjwal1/bert-tiny\"  # Escolha o modelo conforme sua necessidade\n",
        "NUM_EPOCHS = 35 # Número de épocas\n",
        "DEVICE = torch.device('cuda' if torch.cuda.is_available() else 'cpu') # Define como rodar dependendo se houver GPU\n",
        "MAX_LEN = 256 # Parametro usado no tokenizer"
      ],
      "metadata": {
        "id": "5s3k3RZw7z0W"
      },
      "execution_count": 5,
      "outputs": []
    },
    {
      "cell_type": "markdown",
      "source": [
        "Variaveis Critic"
      ],
      "metadata": {
        "id": "jP_xFh9y8Hbq"
      }
    },
    {
      "cell_type": "code",
      "execution_count": 6,
      "metadata": {
        "colab": {
          "base_uri": "https://localhost:8080/"
        },
        "id": "zT9WEDxVw3MJ",
        "outputId": "da904495-aece-4584-ba40-3d48d0d2767c"
      },
      "outputs": [
        {
          "output_type": "stream",
          "name": "stderr",
          "text": [
            "/usr/local/lib/python3.10/dist-packages/huggingface_hub/utils/_auth.py:94: UserWarning: \n",
            "The secret `HF_TOKEN` does not exist in your Colab secrets.\n",
            "To authenticate with the Hugging Face Hub, create a token in your settings tab (https://huggingface.co/settings/tokens), set it as secret in your Google Colab and restart your session.\n",
            "You will be able to reuse this secret in all of your notebooks.\n",
            "Please note that authentication is recommended but still optional to access public models or datasets.\n",
            "  warnings.warn(\n",
            "Some weights of BertForSequenceClassification were not initialized from the model checkpoint at prajjwal1/bert-tiny and are newly initialized: ['classifier.bias', 'classifier.weight']\n",
            "You should probably TRAIN this model on a down-stream task to be able to use it for predictions and inference.\n"
          ]
        }
      ],
      "source": [
        "NUM_LABELS_CRITIC = 2 # Número de classes para a base critic\n",
        "TOKENIZER_CRITIC =  AutoTokenizer.from_pretrained(MODEL_NAME, num_labels=NUM_LABELS_CRITIC)  # Carregar o tokenizer para o critic\n",
        "MODEL_CRITIC = AutoModelForSequenceClassification.from_pretrained(MODEL_NAME, num_labels=NUM_LABELS_CRITIC, output_attentions=False, output_hidden_states=False).to(DEVICE)  # Carregar o modelo de classificação para 2 classes"
      ]
    },
    {
      "cell_type": "markdown",
      "source": [
        "Variaveis Audience"
      ],
      "metadata": {
        "id": "CFjTKNG98KVd"
      }
    },
    {
      "cell_type": "code",
      "source": [
        "NUM_LABELS_AUDIENCE = 10 # Número de classes para a base audience\n",
        "TOKENIZER_AUDIENCE =  AutoTokenizer.from_pretrained(MODEL_NAME, num_labels=NUM_LABELS_AUDIENCE)  # Carregar o tokenizer para o audience\n",
        "MODEL_AUDIENCE = AutoModelForSequenceClassification.from_pretrained(MODEL_NAME, num_labels=NUM_LABELS_AUDIENCE, output_attentions=False, output_hidden_states=False).to(DEVICE)   # Carregar o modelo de classificação para 2 classes"
      ],
      "metadata": {
        "id": "P2L6gkhc7qAV",
        "colab": {
          "base_uri": "https://localhost:8080/"
        },
        "outputId": "e06617c9-8499-48ac-dc28-df94576aca4c"
      },
      "execution_count": 7,
      "outputs": [
        {
          "output_type": "stream",
          "name": "stderr",
          "text": [
            "Some weights of BertForSequenceClassification were not initialized from the model checkpoint at prajjwal1/bert-tiny and are newly initialized: ['classifier.bias', 'classifier.weight']\n",
            "You should probably TRAIN this model on a down-stream task to be able to use it for predictions and inference.\n"
          ]
        }
      ]
    },
    {
      "cell_type": "markdown",
      "metadata": {
        "id": "73j5C6qlw3MK"
      },
      "source": [
        "### Preparação dos Conjuntos de Dados\n"
      ]
    },
    {
      "cell_type": "markdown",
      "source": [
        "Preparação dos dados Critic"
      ],
      "metadata": {
        "id": "8n0I2wKx8oGe"
      }
    },
    {
      "cell_type": "code",
      "execution_count": 8,
      "metadata": {
        "id": "pMQarjciw3MK"
      },
      "outputs": [],
      "source": [
        "critic_df = critic_df.replace([numpy.inf, -numpy.inf], numpy.nan)\n",
        "critic_df.dropna(inplace=True)\n",
        "test_critic_df = test_critic_df.replace([numpy.inf, -numpy.inf], numpy.nan)\n",
        "test_critic_df.dropna(inplace=True)\n",
        "distinct_sentiment_labels = critic_df.Sentiment.unique()\n",
        "distinct_sentiment_label_dict = {}\n",
        "for index, label in enumerate(distinct_sentiment_labels):\n",
        "    distinct_sentiment_label_dict[label] = index\n",
        "\n",
        "critic_df['label'] = critic_df.Sentiment.replace(distinct_sentiment_label_dict)\n",
        "critic_df.label = critic_df.label.astype(int)\n",
        "test_critic_df['label'] = test_critic_df.Sentiment.replace(distinct_sentiment_label_dict)\n",
        "test_critic_df.label = test_critic_df.label.astype(int)\n",
        "\n",
        "critic_df['Review'] = critic_df['Review'].astype(str)\n",
        "test_critic_df['Review'] = test_critic_df['Review'].astype(str)\n",
        "\n",
        "# balanceando os dados de treino\n",
        "train_critic_class0 = critic_df[critic_df['label'] == 0]\n",
        "train_critic_class1 = critic_df[critic_df['label'] == 1]\n",
        "sample_size = min(len(train_critic_class0), len(train_critic_class1))\n",
        "train_critic_class0_sample = train_critic_class0.sample(n=sample_size, random_state=42)\n",
        "train_critic_class1_sample = train_critic_class1.sample(n=sample_size, random_state=42)\n",
        "balanced_train_critic_df = pandas.concat([train_critic_class0_sample, train_critic_class1_sample], ignore_index=True)\n",
        "\n",
        "train_critic_data, val_critic_data, train_critic_labels, val_critic_labels = train_test_split(balanced_train_critic_df.index.values,\n",
        "                                                                                              balanced_train_critic_df.label.values,\n",
        "                                                                                              test_size=0.2, random_state=42,\n",
        "                                                                                              stratify=balanced_train_critic_df.label.values)"
      ]
    },
    {
      "cell_type": "code",
      "source": [
        "critic_df.label.value_counts()"
      ],
      "metadata": {
        "id": "xXRgWPK124dc",
        "colab": {
          "base_uri": "https://localhost:8080/",
          "height": 178
        },
        "outputId": "1207b3ed-8941-4715-9090-2eb9c8acfabf"
      },
      "execution_count": 9,
      "outputs": [
        {
          "output_type": "execute_result",
          "data": {
            "text/plain": [
              "label\n",
              "0    9995\n",
              "1    1836\n",
              "Name: count, dtype: int64"
            ],
            "text/html": [
              "<div>\n",
              "<style scoped>\n",
              "    .dataframe tbody tr th:only-of-type {\n",
              "        vertical-align: middle;\n",
              "    }\n",
              "\n",
              "    .dataframe tbody tr th {\n",
              "        vertical-align: top;\n",
              "    }\n",
              "\n",
              "    .dataframe thead th {\n",
              "        text-align: right;\n",
              "    }\n",
              "</style>\n",
              "<table border=\"1\" class=\"dataframe\">\n",
              "  <thead>\n",
              "    <tr style=\"text-align: right;\">\n",
              "      <th></th>\n",
              "      <th>count</th>\n",
              "    </tr>\n",
              "    <tr>\n",
              "      <th>label</th>\n",
              "      <th></th>\n",
              "    </tr>\n",
              "  </thead>\n",
              "  <tbody>\n",
              "    <tr>\n",
              "      <th>0</th>\n",
              "      <td>9995</td>\n",
              "    </tr>\n",
              "    <tr>\n",
              "      <th>1</th>\n",
              "      <td>1836</td>\n",
              "    </tr>\n",
              "  </tbody>\n",
              "</table>\n",
              "</div><br><label><b>dtype:</b> int64</label>"
            ]
          },
          "metadata": {},
          "execution_count": 9
        }
      ]
    },
    {
      "cell_type": "code",
      "source": [
        " pandas.Series(train_critic_labels).value_counts()"
      ],
      "metadata": {
        "colab": {
          "base_uri": "https://localhost:8080/",
          "height": 147
        },
        "id": "yBpatW8gq-1v",
        "outputId": "e6b821d4-addc-493b-ac8c-e1b36d781fac"
      },
      "execution_count": 10,
      "outputs": [
        {
          "output_type": "execute_result",
          "data": {
            "text/plain": [
              "1    1469\n",
              "0    1468\n",
              "Name: count, dtype: int64"
            ],
            "text/html": [
              "<div>\n",
              "<style scoped>\n",
              "    .dataframe tbody tr th:only-of-type {\n",
              "        vertical-align: middle;\n",
              "    }\n",
              "\n",
              "    .dataframe tbody tr th {\n",
              "        vertical-align: top;\n",
              "    }\n",
              "\n",
              "    .dataframe thead th {\n",
              "        text-align: right;\n",
              "    }\n",
              "</style>\n",
              "<table border=\"1\" class=\"dataframe\">\n",
              "  <thead>\n",
              "    <tr style=\"text-align: right;\">\n",
              "      <th></th>\n",
              "      <th>count</th>\n",
              "    </tr>\n",
              "  </thead>\n",
              "  <tbody>\n",
              "    <tr>\n",
              "      <th>1</th>\n",
              "      <td>1469</td>\n",
              "    </tr>\n",
              "    <tr>\n",
              "      <th>0</th>\n",
              "      <td>1468</td>\n",
              "    </tr>\n",
              "  </tbody>\n",
              "</table>\n",
              "</div><br><label><b>dtype:</b> int64</label>"
            ]
          },
          "metadata": {},
          "execution_count": 10
        }
      ]
    },
    {
      "cell_type": "code",
      "source": [
        "encoded_critic_data_train = TOKENIZER_CRITIC.batch_encode_plus(\n",
        "    balanced_train_critic_df.loc[train_critic_data].Review.values.tolist(),\n",
        "    add_special_tokens=True,\n",
        "    return_attention_mask=True,\n",
        "    pad_to_max_length=True,\n",
        "    max_length = MAX_LEN,\n",
        "    return_tensors='pt'\n",
        ")\n",
        "\n",
        "encoded_critic_data_val = TOKENIZER_CRITIC.batch_encode_plus(\n",
        "    balanced_train_critic_df.loc[val_critic_data].Review.values.tolist(),\n",
        "    add_special_tokens=True,\n",
        "    return_attention_mask=True,\n",
        "    pad_to_max_length=True,\n",
        "    max_length = MAX_LEN,\n",
        "    return_tensors='pt'\n",
        ")\n",
        "\n",
        "encoded_critic_data_test = TOKENIZER_CRITIC.batch_encode_plus(\n",
        "    test_critic_df.Review.values.tolist(),\n",
        "    add_special_tokens=True,\n",
        "    return_attention_mask=True,\n",
        "    pad_to_max_length=True,\n",
        "    max_length = MAX_LEN,\n",
        "    return_tensors='pt'\n",
        ")\n",
        "\n",
        "input_ids_train_critic = encoded_critic_data_train['input_ids']\n",
        "input_ids_val_critic = encoded_critic_data_val['input_ids']\n",
        "input_ids_test_critic = encoded_critic_data_test['input_ids']\n",
        "\n",
        "attention_mask_train_critic = encoded_critic_data_train['attention_mask']\n",
        "attention_mask_val_critic = encoded_critic_data_val['attention_mask']\n",
        "attention_mask_test_critic = encoded_critic_data_test['attention_mask']\n",
        "\n",
        "labels_train_critic = torch.tensor(balanced_train_critic_df.loc[train_critic_data].label.values)\n",
        "labels_val_critic =  torch.tensor(balanced_train_critic_df.loc[val_critic_data].label.values)\n",
        "labels_test_critic = torch.tensor(test_critic_df.label.values)\n",
        "\n",
        "dataset_train_critic = TensorDataset(input_ids_train_critic, attention_mask_train_critic, labels_train_critic)\n",
        "dataset_val_critic = TensorDataset(input_ids_val_critic, attention_mask_val_critic, labels_val_critic)\n",
        "dataset_test_critic = TensorDataset(input_ids_test_critic, attention_mask_test_critic, labels_test_critic)\n",
        "\n",
        "dataloader_train_critic = DataLoader(dataset_train_critic)\n",
        "dataloader_val_critic = DataLoader(dataset_val_critic)\n",
        "dataloader_test_critic = DataLoader(dataset_test_critic)"
      ],
      "metadata": {
        "id": "jejtSjiM-jY1",
        "colab": {
          "base_uri": "https://localhost:8080/"
        },
        "outputId": "fddcb79e-a39c-4372-9b18-cc1b32d60191"
      },
      "execution_count": 11,
      "outputs": [
        {
          "output_type": "stream",
          "name": "stderr",
          "text": [
            "Truncation was not explicitly activated but `max_length` is provided a specific value, please use `truncation=True` to explicitly truncate examples to max length. Defaulting to 'longest_first' truncation strategy. If you encode pairs of sequences (GLUE-style) with the tokenizer you can select this strategy more precisely by providing a specific strategy to `truncation`.\n",
            "/usr/local/lib/python3.10/dist-packages/transformers/tokenization_utils_base.py:2834: FutureWarning: The `pad_to_max_length` argument is deprecated and will be removed in a future version, use `padding=True` or `padding='longest'` to pad to the longest sequence in the batch, or use `padding='max_length'` to pad to a max length. In this case, you can give a specific length with `max_length` (e.g. `max_length=45`) or leave max_length to None to pad to the maximal input size of the model (e.g. 512 for Bert).\n",
            "  warnings.warn(\n",
            "/usr/local/lib/python3.10/dist-packages/transformers/tokenization_utils_base.py:2834: FutureWarning: The `pad_to_max_length` argument is deprecated and will be removed in a future version, use `padding=True` or `padding='longest'` to pad to the longest sequence in the batch, or use `padding='max_length'` to pad to a max length. In this case, you can give a specific length with `max_length` (e.g. `max_length=45`) or leave max_length to None to pad to the maximal input size of the model (e.g. 512 for Bert).\n",
            "  warnings.warn(\n"
          ]
        }
      ]
    },
    {
      "cell_type": "markdown",
      "source": [
        "Preparação dos dados Audience"
      ],
      "metadata": {
        "id": "ygXHGAP99zn3"
      }
    },
    {
      "cell_type": "code",
      "source": [
        "audience_df = audience_df.replace([numpy.inf, -numpy.inf], numpy.nan)\n",
        "audience_df.dropna(inplace=True)\n",
        "test_audience_df = test_audience_df.replace([numpy.inf, -numpy.inf], numpy.nan)\n",
        "test_audience_df.dropna(inplace=True)\n",
        "distinct_rating_labels = audience_df.Rating.unique()\n",
        "distinct_rating_label_dict = {}\n",
        "for index, label in enumerate(distinct_rating_labels):\n",
        "    distinct_rating_label_dict[label] = index\n",
        "\n",
        "audience_df['label'] = audience_df.Rating.replace(distinct_rating_label_dict)\n",
        "audience_df.label = audience_df.label.astype(int)\n",
        "test_audience_df['label'] = test_audience_df.Rating.replace(distinct_rating_label_dict)\n",
        "test_audience_df.label = test_audience_df.label.astype(int)\n",
        "\n",
        "audience_df['Review'] = audience_df['Review'].astype(str)\n",
        "test_audience_df['Review'] = test_audience_df['Review'].astype(str)\n",
        "\n",
        "# balanceando os dados de treino\n",
        "train_audience_class0 = audience_df[audience_df['label'] == 0]\n",
        "train_audience_class1 = audience_df[audience_df['label'] == 1]\n",
        "train_audience_class2 = audience_df[audience_df['label'] == 2]\n",
        "train_audience_class3 = audience_df[audience_df['label'] == 3]\n",
        "train_audience_class4 = audience_df[audience_df['label'] == 4]\n",
        "train_audience_class5 = audience_df[audience_df['label'] == 5]\n",
        "train_audience_class6 = audience_df[audience_df['label'] == 6]\n",
        "train_audience_class7 = audience_df[audience_df['label'] == 7]\n",
        "train_audience_class8 = audience_df[audience_df['label'] == 8]\n",
        "train_audience_class9 = audience_df[audience_df['label'] == 9]\n",
        "sample_size = min(len(train_audience_class0), len(train_audience_class1), len(train_audience_class2), len(train_audience_class3), len(train_audience_class4), len(train_audience_class5), len(train_audience_class6), len(train_audience_class7), len(train_audience_class8), len(train_audience_class9))\n",
        "train_audience_class0_sample = train_audience_class0.sample(n=sample_size, random_state=42)\n",
        "train_audience_class1_sample = train_audience_class1.sample(n=sample_size, random_state=42)\n",
        "train_audience_class2_sample = train_audience_class2.sample(n=sample_size, random_state=42)\n",
        "train_audience_class3_sample = train_audience_class3.sample(n=sample_size, random_state=42)\n",
        "train_audience_class4_sample = train_audience_class4.sample(n=sample_size, random_state=42)\n",
        "train_audience_class5_sample = train_audience_class5.sample(n=sample_size, random_state=42)\n",
        "train_audience_class6_sample = train_audience_class6.sample(n=sample_size, random_state=42)\n",
        "train_audience_class7_sample = train_audience_class7.sample(n=sample_size, random_state=42)\n",
        "train_audience_class8_sample = train_audience_class8.sample(n=sample_size, random_state=42)\n",
        "train_audience_class9_sample = train_audience_class9.sample(n=sample_size, random_state=42)\n",
        "balanced_train_audience_df = pandas.concat([train_audience_class0_sample, train_audience_class1_sample, train_audience_class2_sample, train_audience_class3_sample, train_audience_class4_sample, train_audience_class5_sample, train_audience_class6_sample, train_audience_class7_sample, train_audience_class8_sample, train_audience_class9_sample], ignore_index=True)\n",
        "\n",
        "train_audience_data, val_audience_data, train_audience_labels, val_audience_labels = train_test_split(balanced_train_audience_df.index.values,\n",
        "                                                                                                      balanced_train_audience_df.label.values,\n",
        "                                                                                                      test_size=0.2, random_state=42,\n",
        "                                                                                                      stratify=balanced_train_audience_df.label.values)"
      ],
      "metadata": {
        "id": "OAJx7Zyy95eS"
      },
      "execution_count": 12,
      "outputs": []
    },
    {
      "cell_type": "code",
      "source": [
        "audience_df.label.value_counts()"
      ],
      "metadata": {
        "id": "p_xB-bD53A0x",
        "colab": {
          "base_uri": "https://localhost:8080/",
          "height": 429
        },
        "outputId": "a719b01f-fa57-4071-949b-0d1a6aae7292"
      },
      "execution_count": 13,
      "outputs": [
        {
          "output_type": "execute_result",
          "data": {
            "text/plain": [
              "label\n",
              "5    23642\n",
              "0     7016\n",
              "8     3869\n",
              "4     3792\n",
              "7     3309\n",
              "3     2690\n",
              "6     2340\n",
              "2     2141\n",
              "9     2040\n",
              "1     1577\n",
              "Name: count, dtype: int64"
            ],
            "text/html": [
              "<div>\n",
              "<style scoped>\n",
              "    .dataframe tbody tr th:only-of-type {\n",
              "        vertical-align: middle;\n",
              "    }\n",
              "\n",
              "    .dataframe tbody tr th {\n",
              "        vertical-align: top;\n",
              "    }\n",
              "\n",
              "    .dataframe thead th {\n",
              "        text-align: right;\n",
              "    }\n",
              "</style>\n",
              "<table border=\"1\" class=\"dataframe\">\n",
              "  <thead>\n",
              "    <tr style=\"text-align: right;\">\n",
              "      <th></th>\n",
              "      <th>count</th>\n",
              "    </tr>\n",
              "    <tr>\n",
              "      <th>label</th>\n",
              "      <th></th>\n",
              "    </tr>\n",
              "  </thead>\n",
              "  <tbody>\n",
              "    <tr>\n",
              "      <th>5</th>\n",
              "      <td>23642</td>\n",
              "    </tr>\n",
              "    <tr>\n",
              "      <th>0</th>\n",
              "      <td>7016</td>\n",
              "    </tr>\n",
              "    <tr>\n",
              "      <th>8</th>\n",
              "      <td>3869</td>\n",
              "    </tr>\n",
              "    <tr>\n",
              "      <th>4</th>\n",
              "      <td>3792</td>\n",
              "    </tr>\n",
              "    <tr>\n",
              "      <th>7</th>\n",
              "      <td>3309</td>\n",
              "    </tr>\n",
              "    <tr>\n",
              "      <th>3</th>\n",
              "      <td>2690</td>\n",
              "    </tr>\n",
              "    <tr>\n",
              "      <th>6</th>\n",
              "      <td>2340</td>\n",
              "    </tr>\n",
              "    <tr>\n",
              "      <th>2</th>\n",
              "      <td>2141</td>\n",
              "    </tr>\n",
              "    <tr>\n",
              "      <th>9</th>\n",
              "      <td>2040</td>\n",
              "    </tr>\n",
              "    <tr>\n",
              "      <th>1</th>\n",
              "      <td>1577</td>\n",
              "    </tr>\n",
              "  </tbody>\n",
              "</table>\n",
              "</div><br><label><b>dtype:</b> int64</label>"
            ]
          },
          "metadata": {},
          "execution_count": 13
        }
      ]
    },
    {
      "cell_type": "code",
      "source": [
        " pandas.Series(train_audience_labels).value_counts()"
      ],
      "metadata": {
        "id": "kwv01TxsQpTg",
        "colab": {
          "base_uri": "https://localhost:8080/",
          "height": 397
        },
        "outputId": "c43f4262-889d-4aa7-b708-c005ff53ce9b"
      },
      "execution_count": 14,
      "outputs": [
        {
          "output_type": "execute_result",
          "data": {
            "text/plain": [
              "8    1262\n",
              "2    1262\n",
              "1    1262\n",
              "5    1262\n",
              "0    1262\n",
              "7    1262\n",
              "9    1261\n",
              "3    1261\n",
              "4    1261\n",
              "6    1261\n",
              "Name: count, dtype: int64"
            ],
            "text/html": [
              "<div>\n",
              "<style scoped>\n",
              "    .dataframe tbody tr th:only-of-type {\n",
              "        vertical-align: middle;\n",
              "    }\n",
              "\n",
              "    .dataframe tbody tr th {\n",
              "        vertical-align: top;\n",
              "    }\n",
              "\n",
              "    .dataframe thead th {\n",
              "        text-align: right;\n",
              "    }\n",
              "</style>\n",
              "<table border=\"1\" class=\"dataframe\">\n",
              "  <thead>\n",
              "    <tr style=\"text-align: right;\">\n",
              "      <th></th>\n",
              "      <th>count</th>\n",
              "    </tr>\n",
              "  </thead>\n",
              "  <tbody>\n",
              "    <tr>\n",
              "      <th>8</th>\n",
              "      <td>1262</td>\n",
              "    </tr>\n",
              "    <tr>\n",
              "      <th>2</th>\n",
              "      <td>1262</td>\n",
              "    </tr>\n",
              "    <tr>\n",
              "      <th>1</th>\n",
              "      <td>1262</td>\n",
              "    </tr>\n",
              "    <tr>\n",
              "      <th>5</th>\n",
              "      <td>1262</td>\n",
              "    </tr>\n",
              "    <tr>\n",
              "      <th>0</th>\n",
              "      <td>1262</td>\n",
              "    </tr>\n",
              "    <tr>\n",
              "      <th>7</th>\n",
              "      <td>1262</td>\n",
              "    </tr>\n",
              "    <tr>\n",
              "      <th>9</th>\n",
              "      <td>1261</td>\n",
              "    </tr>\n",
              "    <tr>\n",
              "      <th>3</th>\n",
              "      <td>1261</td>\n",
              "    </tr>\n",
              "    <tr>\n",
              "      <th>4</th>\n",
              "      <td>1261</td>\n",
              "    </tr>\n",
              "    <tr>\n",
              "      <th>6</th>\n",
              "      <td>1261</td>\n",
              "    </tr>\n",
              "  </tbody>\n",
              "</table>\n",
              "</div><br><label><b>dtype:</b> int64</label>"
            ]
          },
          "metadata": {},
          "execution_count": 14
        }
      ]
    },
    {
      "cell_type": "code",
      "source": [
        "encoded_audience_data_train = TOKENIZER_AUDIENCE.batch_encode_plus(\n",
        "    balanced_train_audience_df.loc[train_audience_data].Review.values.tolist(),\n",
        "    add_special_tokens=True,\n",
        "    return_attention_mask=True,\n",
        "    pad_to_max_length=True,\n",
        "    max_length = MAX_LEN,\n",
        "    return_tensors='pt'\n",
        ")\n",
        "\n",
        "encoded_audience_data_val = TOKENIZER_AUDIENCE.batch_encode_plus(\n",
        "    balanced_train_audience_df.loc[val_audience_data].Review.values.tolist(),\n",
        "    add_special_tokens=True,\n",
        "    return_attention_mask=True,\n",
        "    pad_to_max_length=True,\n",
        "    max_length = MAX_LEN,\n",
        "    return_tensors='pt'\n",
        ")\n",
        "\n",
        "encoded_audience_data_test = TOKENIZER_AUDIENCE.batch_encode_plus(\n",
        "    test_audience_df.Review.values.tolist(),\n",
        "    add_special_tokens=True,\n",
        "    return_attention_mask=True,\n",
        "    pad_to_max_length=True,\n",
        "    max_length = MAX_LEN,\n",
        "    return_tensors='pt'\n",
        ")\n",
        "\n",
        "input_ids_train_audience = encoded_audience_data_train['input_ids']\n",
        "input_ids_val_audience = encoded_audience_data_val['input_ids']\n",
        "input_ids_test_audience = encoded_audience_data_test['input_ids']\n",
        "\n",
        "attention_mask_train_audience = encoded_audience_data_train['attention_mask']\n",
        "attention_mask_val_audience = encoded_audience_data_val['attention_mask']\n",
        "attention_mask_test_audience = encoded_audience_data_test['attention_mask']\n",
        "\n",
        "labels_train_audience = torch.tensor(balanced_train_audience_df.loc[train_audience_data].label.values)\n",
        "labels_val_audience =  torch.tensor(balanced_train_audience_df.loc[val_audience_data].label.values)\n",
        "labels_test_audience = torch.tensor(test_audience_df.label.values)\n",
        "\n",
        "dataset_train_audience = TensorDataset(input_ids_train_audience, attention_mask_train_audience, labels_train_audience)\n",
        "dataset_val_audience = TensorDataset(input_ids_val_audience, attention_mask_val_audience, labels_val_audience)\n",
        "dataset_test_audience = TensorDataset(input_ids_test_audience, attention_mask_test_audience, labels_test_audience)\n",
        "\n",
        "dataloader_train_audience = DataLoader(dataset_train_audience)\n",
        "dataloader_val_audience = DataLoader(dataset_val_audience)\n",
        "dataloader_test_audience = DataLoader(dataset_test_audience)"
      ],
      "metadata": {
        "id": "CYOKKCw0CALZ",
        "colab": {
          "base_uri": "https://localhost:8080/"
        },
        "outputId": "9c55eda1-c386-4f0f-b59b-bf85e758f478"
      },
      "execution_count": 15,
      "outputs": [
        {
          "output_type": "stream",
          "name": "stderr",
          "text": [
            "Truncation was not explicitly activated but `max_length` is provided a specific value, please use `truncation=True` to explicitly truncate examples to max length. Defaulting to 'longest_first' truncation strategy. If you encode pairs of sequences (GLUE-style) with the tokenizer you can select this strategy more precisely by providing a specific strategy to `truncation`.\n",
            "/usr/local/lib/python3.10/dist-packages/transformers/tokenization_utils_base.py:2834: FutureWarning: The `pad_to_max_length` argument is deprecated and will be removed in a future version, use `padding=True` or `padding='longest'` to pad to the longest sequence in the batch, or use `padding='max_length'` to pad to a max length. In this case, you can give a specific length with `max_length` (e.g. `max_length=45`) or leave max_length to None to pad to the maximal input size of the model (e.g. 512 for Bert).\n",
            "  warnings.warn(\n",
            "/usr/local/lib/python3.10/dist-packages/transformers/tokenization_utils_base.py:2834: FutureWarning: The `pad_to_max_length` argument is deprecated and will be removed in a future version, use `padding=True` or `padding='longest'` to pad to the longest sequence in the batch, or use `padding='max_length'` to pad to a max length. In this case, you can give a specific length with `max_length` (e.g. `max_length=45`) or leave max_length to None to pad to the maximal input size of the model (e.g. 512 for Bert).\n",
            "  warnings.warn(\n"
          ]
        }
      ]
    },
    {
      "cell_type": "markdown",
      "metadata": {
        "id": "PhgoibF2w3ML"
      },
      "source": [
        "### Funções auxiliares\n"
      ]
    },
    {
      "cell_type": "markdown",
      "source": [
        "**Função Test** para testar o modelo, parametros são modelo e o dataloader (inputs, attention masks e labels) usados na avaliação. Retorna o loss, o array com a probabilidade de cada classe possível e os labels verdade usados."
      ],
      "metadata": {
        "id": "aAcKPEK9DMJp"
      }
    },
    {
      "cell_type": "code",
      "execution_count": 16,
      "metadata": {
        "tags": [],
        "id": "bBMvVPzjybxT"
      },
      "outputs": [],
      "source": [
        "def Test(model, dataloader, device):\n",
        "    model.eval()\n",
        "\n",
        "    loss_total = 0\n",
        "    pred, label = [], []\n",
        "\n",
        "    for batch in dataloader:\n",
        "        batch = tuple(b.to(device) for b in batch)\n",
        "        inputs = {\n",
        "                    'input_ids': batch[0].to(device),\n",
        "                    'attention_mask': batch[1].to(device),\n",
        "                    'labels': batch[2].to(device)\n",
        "                  }\n",
        "        with torch.no_grad():\n",
        "            outputs = model(**inputs)\n",
        "\n",
        "        loss = outputs[0]\n",
        "        logits = outputs[1]\n",
        "        loss_total = loss_total + loss.item()\n",
        "\n",
        "        logits = logits.detach().cpu().numpy()\n",
        "        label_ids = inputs['labels'].cpu().numpy()\n",
        "        pred.append(logits)\n",
        "        label.append(label_ids)\n",
        "\n",
        "    average_loss = loss_total/len(dataloader)\n",
        "    pred = numpy.concatenate(pred, axis=0)\n",
        "    label = numpy.concatenate(label, axis=0)\n",
        "    return average_loss, pred, label\n"
      ]
    },
    {
      "cell_type": "markdown",
      "source": [
        "**Função Treino** para treinar o modelo, parametros são modelo, nome do modelo, o dataloader de treino (inputs, attention masks e labels), o dataloader de validação, o otimizador, um scheduler (outro tipo de otimizador), numero de épocas e o device (cpu ou gpu) usados no treino. Retorna o modelo treinado."
      ],
      "metadata": {
        "id": "RW6jHXKCj5es"
      }
    },
    {
      "cell_type": "code",
      "source": [
        "def Train(model, model_name, dataloader_train, dataloader_val, optimizer, scheduler, num_epochs, device):\n",
        "  train_loss_list = []\n",
        "  val_loss_list = []\n",
        "  train_accuracy_list = []\n",
        "  val_accuracy_list = []\n",
        "  train_balanced_accuracy_list = []\n",
        "  val_balanced_accuracy_list = []\n",
        "\n",
        "  for epoch in range(1, num_epochs + 1):\n",
        "      model.train()\n",
        "\n",
        "      loss_total = 0\n",
        "      all_preds = []\n",
        "      all_labels = []\n",
        "\n",
        "      for batch in dataloader_train:\n",
        "          model.zero_grad()\n",
        "\n",
        "          batch = tuple(b.to(device) for b in batch)\n",
        "\n",
        "          inputs = {\n",
        "                      'input_ids': batch[0].to(device),\n",
        "                      'attention_mask': batch[1].to(device),\n",
        "                      'labels': batch[2].to(device)\n",
        "                    }\n",
        "          outputs = model(**inputs)\n",
        "\n",
        "          loss = outputs[0]\n",
        "          loss_total = loss_total + loss.item()\n",
        "          loss.backward()\n",
        "\n",
        "          torch.nn.utils.clip_grad_norm_(model.parameters(), 1.0).to(device)\n",
        "\n",
        "          optimizer.step()\n",
        "          scheduler.step()\n",
        "\n",
        "          _, preds = torch.max(outputs[1], 1)  # Get predicted class labels\n",
        "          all_preds.extend(preds.cpu().numpy())\n",
        "          all_labels.extend(batch[2].cpu().numpy())\n",
        "\n",
        "      torch.save(model.state_dict(), f'finetuned_{model_name}_{epoch}.model')\n",
        "      print(f'Epoca {epoch}')\n",
        "\n",
        "      loss_avg_train = loss_total/len(dataloader_train)\n",
        "      train_loss_list.append(loss_avg_train)\n",
        "      print(f'Traning Loss: {loss_avg_train}')\n",
        "      val_loss, preds, labels = Test(model, dataloader_val, device)\n",
        "      val_loss_list.append(val_loss)\n",
        "      print(f'Validation Loss: {val_loss}')\n",
        "\n",
        "      train_accuracy = accuracy_score(all_labels, all_preds)\n",
        "      train_accuracy_list.append(train_accuracy)\n",
        "      print(f'Train Accuracy: {train_accuracy}')\n",
        "      preds_array = numpy.argmax(preds, axis=1)\n",
        "      val_accuracy = accuracy_score(labels, preds_array)\n",
        "      val_accuracy_list.append(val_accuracy)\n",
        "      print(f'Validation Accuracy: {val_accuracy}')\n",
        "\n",
        "      train_balanced_accuracy = balanced_accuracy_score(all_labels, all_preds)\n",
        "      train_balanced_accuracy_list.append(train_balanced_accuracy)\n",
        "      print(f'Train Balanced Accuracy: {train_balanced_accuracy}')\n",
        "      val_balanced_accuracy = balanced_accuracy_score(labels, preds_array)\n",
        "      val_balanced_accuracy_list.append(val_balanced_accuracy)\n",
        "      print(f'Validation Balanced Accuracy: {val_balanced_accuracy}')\n",
        "\n",
        "  data = {'train_loss': train_loss_list, 'val_loss': val_loss_list, 'train_accuracy': train_accuracy_list, 'val_accuracy': val_accuracy_list, 'train_balanced_accuracy': train_balanced_accuracy_list, 'val_balanced_accuracy': val_balanced_accuracy_list}\n",
        "  df = pandas.DataFrame(data)\n",
        "\n",
        "  return model, df"
      ],
      "metadata": {
        "id": "8WyjA1dLH6GA"
      },
      "execution_count": 17,
      "outputs": []
    },
    {
      "cell_type": "markdown",
      "source": [
        "**Função de Plot da Matriz de Confusão** para analisar o modelo, parametros labels verdade, classes preditas, titulo e lista de possiveis classes. Plota a matriz."
      ],
      "metadata": {
        "id": "W0M7NgHJkicV"
      }
    },
    {
      "cell_type": "code",
      "source": [
        "def ConfusionMatrix(labels, preds_array, title, classes_list):\n",
        "  cm = confusion_matrix(labels, preds_array)\n",
        "  cm_normalized = cm.astype('float') / len(labels)\n",
        "\n",
        "  plot.figure(figsize=(8, 6))\n",
        "  seaborn.heatmap(cm_normalized, annot=True, fmt=\".0%\", cmap=\"Blues\",\n",
        "              xticklabels=classes_list, yticklabels=classes_list)\n",
        "  plot.xlabel(\"Predicted Labels\")\n",
        "  plot.ylabel(\"True Labels\")\n",
        "  plot.title(title)\n",
        "  plot.show()"
      ],
      "metadata": {
        "id": "ZJnycd-Id12x"
      },
      "execution_count": 18,
      "outputs": []
    },
    {
      "cell_type": "markdown",
      "metadata": {
        "id": "LC01Yf6iw3MM"
      },
      "source": [
        "### Treino Modelo"
      ]
    },
    {
      "cell_type": "markdown",
      "source": [
        "Modelo Critic"
      ],
      "metadata": {
        "id": "f4Hd5oQOII-b"
      }
    },
    {
      "cell_type": "code",
      "execution_count": 19,
      "metadata": {
        "tags": [],
        "id": "VfBev8v-ybxU",
        "colab": {
          "base_uri": "https://localhost:8080/"
        },
        "outputId": "617824fe-0b06-4ab1-bd19-eab1232abc67"
      },
      "outputs": [
        {
          "output_type": "stream",
          "name": "stdout",
          "text": [
            "Epoca 1\n",
            "Traning Loss: 0.7042456899405256\n",
            "Validation Loss: 0.6991569519853916\n",
            "Train Accuracy: 0.49982975825672454\n",
            "Validation Accuracy: 0.5006802721088436\n",
            "Train Balanced Accuracy: 0.4999988407098195\n",
            "Validation Balanced Accuracy: 0.5\n",
            "Epoca 2\n",
            "Traning Loss: 0.6956433136425824\n",
            "Validation Loss: 0.6837732218560718\n",
            "Train Accuracy: 0.5042560435818862\n",
            "Validation Accuracy: 0.5510204081632653\n",
            "Train Balanced Accuracy: 0.5044187504521231\n",
            "Validation Balanced Accuracy: 0.5506456580973819\n",
            "Epoca 3\n",
            "Traning Loss: 0.6758997279809452\n",
            "Validation Loss: 0.6692155496603778\n",
            "Train Accuracy: 0.5635001702417433\n",
            "Validation Accuracy: 0.5782312925170068\n",
            "Train Balanced Accuracy: 0.5636019053165975\n",
            "Validation Balanced Accuracy: 0.5785970264186707\n",
            "Epoca 4\n",
            "Traning Loss: 0.6797012942438837\n",
            "Validation Loss: 1.1516332182754465\n",
            "Train Accuracy: 0.6418113721484509\n",
            "Validation Accuracy: 0.5755102040816327\n",
            "Train Balanced Accuracy: 0.6418008970123701\n",
            "Validation Balanced Accuracy: 0.5759758914820519\n",
            "Epoca 5\n",
            "Traning Loss: 0.9750007823046841\n",
            "Validation Loss: 1.4943372859739932\n",
            "Train Accuracy: 0.6809669731018045\n",
            "Validation Accuracy: 0.6149659863945578\n",
            "Train Balanced Accuracy: 0.6809454892482791\n",
            "Validation Balanced Accuracy: 0.6152781068593769\n",
            "Epoca 6\n",
            "Traning Loss: 1.0184658272147489\n",
            "Validation Loss: 1.4970196755552272\n",
            "Train Accuracy: 0.7238678924072183\n",
            "Validation Accuracy: 0.6448979591836734\n",
            "Train Balanced Accuracy: 0.7238556878485986\n",
            "Validation Balanced Accuracy: 0.6451471981992655\n",
            "Epoca 7\n",
            "Traning Loss: 0.9666491331599822\n",
            "Validation Loss: 1.5072342061228594\n",
            "Train Accuracy: 0.7548518896833504\n",
            "Validation Accuracy: 0.6530612244897959\n",
            "Train Balanced Accuracy: 0.754843746232307\n",
            "Validation Balanced Accuracy: 0.6532882656083403\n",
            "Epoca 8\n",
            "Traning Loss: 0.8838112790704028\n",
            "Validation Loss: 1.5203459771235988\n",
            "Train Accuracy: 0.783792986040177\n",
            "Validation Accuracy: 0.6693877551020408\n",
            "Train Balanced Accuracy: 0.7837835707250479\n",
            "Validation Balanced Accuracy: 0.669559293922521\n",
            "Epoca 9\n",
            "Traning Loss: 0.8161559713588837\n",
            "Validation Loss: 1.526611172425605\n",
            "Train Accuracy: 0.8120531154239019\n",
            "Validation Accuracy: 0.672108843537415\n",
            "Train Balanced Accuracy: 0.8120468334684292\n",
            "Validation Balanced Accuracy: 0.6722729830588793\n",
            "Epoca 10\n",
            "Traning Loss: 0.7855187443339963\n",
            "Validation Loss: 1.5672380251749767\n",
            "Train Accuracy: 0.822267620020429\n",
            "Validation Accuracy: 0.6843537414965987\n",
            "Train Balanced Accuracy: 0.8222604118169694\n",
            "Validation Balanced Accuracy: 0.684523456936382\n",
            "Epoca 11\n",
            "Traning Loss: 0.6880114572755307\n",
            "Validation Loss: 1.6111141782760823\n",
            "Train Accuracy: 0.8525706503234594\n",
            "Validation Accuracy: 0.672108843537415\n",
            "Train Balanced Accuracy: 0.8525651845682711\n",
            "Validation Balanced Accuracy: 0.6722877917308376\n",
            "Epoca 12\n",
            "Traning Loss: 0.6702950173938361\n",
            "Validation Loss: 1.5630973772953587\n",
            "Train Accuracy: 0.8552945182158666\n",
            "Validation Accuracy: 0.6938775510204082\n",
            "Train Balanced Accuracy: 0.8552890527764536\n",
            "Validation Balanced Accuracy: 0.6940121134936619\n",
            "Epoca 13\n",
            "Traning Loss: 0.6183028093503188\n",
            "Validation Loss: 1.619446010932605\n",
            "Train Accuracy: 0.8678924072182499\n",
            "Validation Accuracy: 0.6965986394557823\n",
            "Train Balanced Accuracy: 0.8678879866004604\n",
            "Validation Balanced Accuracy: 0.6967369091339889\n",
            "Epoca 14\n",
            "Traning Loss: 0.5632556314352782\n",
            "Validation Loss: 1.6884751613536964\n",
            "Train Accuracy: 0.8798093292475315\n",
            "Validation Accuracy: 0.6870748299319728\n",
            "Train Balanced Accuracy: 0.879805025940277\n",
            "Validation Balanced Accuracy: 0.6872408482407297\n",
            "Epoca 15\n",
            "Traning Loss: 0.5397156875618284\n",
            "Validation Loss: 1.684857522789389\n",
            "Train Accuracy: 0.8907048008171604\n",
            "Validation Accuracy: 0.7006802721088435\n",
            "Train Balanced Accuracy: 0.8907014262051518\n",
            "Validation Balanced Accuracy: 0.7007796765786044\n",
            "Epoca 16\n",
            "Traning Loss: 0.5125955569943994\n",
            "Validation Loss: 1.756382498671269\n",
            "Train Accuracy: 0.895471569628873\n",
            "Validation Accuracy: 0.691156462585034\n",
            "Train Balanced Accuracy: 0.8954681955694712\n",
            "Validation Balanced Accuracy: 0.6913058286932827\n",
            "Epoca 17\n",
            "Traning Loss: 0.45527539335316586\n",
            "Validation Loss: 1.8086167861880151\n",
            "Train Accuracy: 0.9107933265236636\n",
            "Validation Accuracy: 0.6938775510204082\n",
            "Train Balanced Accuracy: 0.9107919250338049\n",
            "Validation Balanced Accuracy: 0.6940380286695889\n",
            "Epoca 18\n",
            "Traning Loss: 0.44930087632612126\n",
            "Validation Loss: 1.8128559254341106\n",
            "Train Accuracy: 0.9114742934967655\n",
            "Validation Accuracy: 0.6979591836734694\n",
            "Train Balanced Accuracy: 0.9114731239438867\n",
            "Validation Balanced Accuracy: 0.6981141156261106\n",
            "Epoca 19\n",
            "Traning Loss: 0.3960345758531351\n",
            "Validation Loss: 1.8334577888792039\n",
            "Train Accuracy: 0.9240721824991488\n",
            "Validation Accuracy: 0.6993197278911565\n",
            "Train Balanced Accuracy: 0.9240706666196767\n",
            "Validation Balanced Accuracy: 0.6994839177822533\n",
            "Epoca 20\n",
            "Traning Loss: 0.41283843452754204\n",
            "Validation Loss: 1.8819034037134312\n",
            "Train Accuracy: 0.923391215526047\n",
            "Validation Accuracy: 0.689795918367347\n",
            "Train Balanced Accuracy: 0.9233901632837034\n",
            "Validation Balanced Accuracy: 0.6899619417130671\n",
            "Epoca 21\n",
            "Traning Loss: 0.3647132479079893\n",
            "Validation Loss: 1.9440937787922397\n",
            "Train Accuracy: 0.9295199182839632\n",
            "Validation Accuracy: 0.6870748299319728\n",
            "Train Balanced Accuracy: 0.9295202579003308\n",
            "Validation Balanced Accuracy: 0.6872408482407297\n",
            "Epoca 22\n",
            "Traning Loss: 0.31802131274801\n",
            "Validation Loss: 1.9290871187515533\n",
            "Train Accuracy: 0.9393939393939394\n",
            "Validation Accuracy: 0.6979591836734694\n",
            "Train Balanced Accuracy: 0.9393925412197217\n",
            "Validation Balanced Accuracy: 0.6980807961142045\n",
            "Epoca 23\n",
            "Traning Loss: 0.3492784010646477\n",
            "Validation Loss: 1.941369883792212\n",
            "Train Accuracy: 0.9376915219611849\n",
            "Validation Accuracy: 0.6938775510204082\n",
            "Train Balanced Accuracy: 0.9376897758025534\n",
            "Validation Balanced Accuracy: 0.6940232199976306\n",
            "Epoca 24\n",
            "Traning Loss: 0.28115896972057497\n",
            "Validation Loss: 2.0349100118006427\n",
            "Train Accuracy: 0.9485869935308138\n",
            "Validation Accuracy: 0.6843537414965987\n",
            "Train Balanced Accuracy: 0.9485854804933197\n",
            "Validation Balanced Accuracy: 0.6845123504324132\n",
            "Epoca 25\n",
            "Traning Loss: 0.34589790459009795\n",
            "Validation Loss: 2.048256325371069\n",
            "Train Accuracy: 0.9383724889342867\n",
            "Validation Accuracy: 0.6843537414965987\n",
            "Train Balanced Accuracy: 0.9383723658608518\n",
            "Validation Balanced Accuracy: 0.6845123504324132\n",
            "Epoca 26\n",
            "Traning Loss: 0.28174423170866586\n",
            "Validation Loss: 2.078031910183526\n",
            "Train Accuracy: 0.947565543071161\n",
            "Validation Accuracy: 0.6816326530612244\n",
            "Train Balanced Accuracy: 0.9475653051344499\n",
            "Validation Balanced Accuracy: 0.6817838526240967\n",
            "Epoca 27\n",
            "Traning Loss: 0.28223283832626134\n",
            "Validation Loss: 1.9901239965600437\n",
            "Train Accuracy: 0.9489274770173647\n",
            "Validation Accuracy: 0.7047619047619048\n",
            "Train Balanced Accuracy: 0.948927007380505\n",
            "Validation Balanced Accuracy: 0.7048668700390949\n",
            "Epoca 28\n",
            "Traning Loss: 0.2859465259121353\n",
            "Validation Loss: 2.0171397605415935\n",
            "Train Accuracy: 0.9489274770173647\n",
            "Validation Accuracy: 0.7006802721088435\n",
            "Train Balanced Accuracy: 0.9489265436644327\n",
            "Validation Balanced Accuracy: 0.7007870809145835\n",
            "Epoca 29\n",
            "Traning Loss: 0.29468614018238515\n",
            "Validation Loss: 2.0118521712052786\n",
            "Train Accuracy: 0.9468845760980592\n",
            "Validation Accuracy: 0.7006802721088435\n",
            "Train Balanced Accuracy: 0.9468820195020431\n",
            "Validation Balanced Accuracy: 0.700783378746594\n",
            "Epoca 30\n",
            "Traning Loss: 0.23732649587837948\n",
            "Validation Loss: 2.0780714116293657\n",
            "Train Accuracy: 0.9564181137214846\n",
            "Validation Accuracy: 0.6938775510204082\n",
            "Train Balanced Accuracy: 0.9564164856628264\n",
            "Validation Balanced Accuracy: 0.6939861983177349\n",
            "Epoca 31\n",
            "Traning Loss: 0.2754722684161818\n",
            "Validation Loss: 2.0987852731854244\n",
            "Train Accuracy: 0.9516513449097719\n",
            "Validation Accuracy: 0.6938775510204082\n",
            "Train Balanced Accuracy: 0.9516492525824347\n",
            "Validation Balanced Accuracy: 0.6939973048217036\n",
            "Epoca 32\n",
            "Traning Loss: 0.24012479770844866\n",
            "Validation Loss: 2.0751343175629073\n",
            "Train Accuracy: 0.9557371467483827\n",
            "Validation Accuracy: 0.7020408163265306\n",
            "Train Balanced Accuracy: 0.9557355186107809\n",
            "Validation Balanced Accuracy: 0.7021457765667575\n",
            "Epoca 33\n",
            "Traning Loss: 0.22019154051412348\n",
            "Validation Loss: 2.100923990791697\n",
            "Train Accuracy: 0.9625468164794008\n",
            "Validation Accuracy: 0.6979591836734694\n",
            "Train Balanced Accuracy: 0.9625454209892733\n",
            "Validation Balanced Accuracy: 0.6980696896102357\n",
            "Epoca 34\n",
            "Traning Loss: 0.25972619057864627\n",
            "Validation Loss: 2.0718443496831056\n",
            "Train Accuracy: 0.9516513449097719\n",
            "Validation Accuracy: 0.7020408163265306\n",
            "Train Balanced Accuracy: 0.9516506437306514\n",
            "Validation Balanced Accuracy: 0.7021383722307784\n",
            "Epoca 35\n",
            "Traning Loss: 0.23672492646331078\n",
            "Validation Loss: 2.057653886080303\n",
            "Train Accuracy: 0.9564181137214846\n",
            "Validation Accuracy: 0.7061224489795919\n",
            "Train Balanced Accuracy: 0.9564181086690793\n",
            "Validation Balanced Accuracy: 0.7062144591873001\n"
          ]
        }
      ],
      "source": [
        "optimizer_critic = AdamW(MODEL_CRITIC.parameters(),\n",
        "                  lr=1e-5)\n",
        "\n",
        "num_training_steps = len(dataloader_train_critic) * NUM_EPOCHS\n",
        "\n",
        "num_warmup_steps = int(0.1 * num_training_steps)\n",
        "\n",
        "scheduler_critic = get_scheduler(\n",
        "    \"linear\",\n",
        "    optimizer=optimizer_critic,\n",
        "    num_warmup_steps=num_warmup_steps,\n",
        "    num_training_steps=num_training_steps\n",
        ")\n",
        "\n",
        "MODEL_CRITIC, model_critic_train_results = Train(MODEL_CRITIC, 'CRITIC', dataloader_train_critic, dataloader_val_critic, optimizer_critic, scheduler_critic, NUM_EPOCHS, DEVICE)"
      ]
    },
    {
      "cell_type": "code",
      "source": [
        "model_critic_train_results.plot(kind='line')\n",
        "plot.title('Loss e Acuracia Critic pós Treino')\n",
        "plot.xticks(range(0, len(model_critic_train_results), 1))\n",
        "plot.xlabel('Época')\n",
        "plot.ylabel('Valores')\n",
        "plot.legend(loc='best')\n",
        "plot.show()"
      ],
      "metadata": {
        "colab": {
          "base_uri": "https://localhost:8080/",
          "height": 474
        },
        "id": "5taylaC0tSRY",
        "outputId": "605242b6-ba20-42ed-c23f-d648b6197ba8"
      },
      "execution_count": 20,
      "outputs": [
        {
          "output_type": "display_data",
          "data": {
            "text/plain": [
              "<Figure size 640x480 with 1 Axes>"
            ],
            "image/png": "[encoded data removed]"
          },
          "metadata": {}
        }
      ]
    },
    {
      "cell_type": "markdown",
      "source": [
        "Modelo Audience"
      ],
      "metadata": {
        "id": "eAzZvkjFIPbd"
      }
    },
    {
      "cell_type": "code",
      "source": [
        "optimizer_audience = AdamW(MODEL_AUDIENCE.parameters(),\n",
        "                  lr=1e-5)\n",
        "\n",
        "num_training_steps = len(dataloader_train_audience) * NUM_EPOCHS\n",
        "\n",
        "num_warmup_steps = int(0.1 * num_training_steps)\n",
        "\n",
        "scheduler_audience = get_scheduler(\n",
        "    \"linear\",\n",
        "    optimizer=optimizer_audience,\n",
        "    num_warmup_steps=num_warmup_steps,\n",
        "    num_training_steps=num_training_steps\n",
        ")\n",
        "\n",
        "MODEL_AUDIENCE, model_audience_train_results = Train(MODEL_AUDIENCE, 'AUDIENCE', dataloader_train_audience, dataloader_val_audience, optimizer_audience, scheduler_audience, NUM_EPOCHS, DEVICE)"
      ],
      "metadata": {
        "id": "Nl5GE-HmIM1r",
        "colab": {
          "base_uri": "https://localhost:8080/"
        },
        "outputId": "099f05bb-157c-47fa-dfb7-ca98ef9c2291"
      },
      "execution_count": null,
      "outputs": [
        {
          "output_type": "stream",
          "name": "stdout",
          "text": [
            "Epoca 1\n",
            "Traning Loss: 2.3108202627303105\n",
            "Validation Loss: 2.2993700772656167\n",
            "Train Accuracy: 0.10962270133164236\n",
            "Validation Accuracy: 0.13157894736842105\n",
            "Train Balanced Accuracy: 0.10960448214193699\n",
            "Validation Balanced Accuracy: 0.13165461121157324\n",
            "Epoca 2\n",
            "Traning Loss: 2.285793256914608\n",
            "Validation Loss: 2.2489485028202805\n",
            "Train Accuracy: 0.13577996195307546\n",
            "Validation Accuracy: 0.16677235256816741\n",
            "Train Balanced Accuracy: 0.1357775820010532\n",
            "Validation Balanced Accuracy: 0.16670986538075144\n",
            "Epoca 3\n",
            "Traning Loss: 2.15163631268559\n",
            "Validation Loss: 2.0344189471206713\n",
            "Train Accuracy: 0.1945149017121116\n",
            "Validation Accuracy: 0.2206721623335447\n",
            "Train Balanced Accuracy: 0.19451099735952776\n",
            "Validation Balanced Accuracy: 0.22076451677717496\n",
            "Epoca 4\n",
            "Traning Loss: 1.987934013853439\n",
            "Validation Loss: 1.9360103307642662\n",
            "Train Accuracy: 0.2310558021559924\n",
            "Validation Accuracy: 0.2568167406467977\n",
            "Train Balanced Accuracy: 0.2310542032019967\n",
            "Validation Balanced Accuracy: 0.25679123970263207\n",
            "Epoca 5\n",
            "Traning Loss: 1.9153920603796755\n",
            "Validation Loss: 1.9196239688026806\n",
            "Train Accuracy: 0.26276157260621436\n",
            "Validation Accuracy: 0.2584020291693088\n",
            "Train Balanced Accuracy: 0.26275897301842044\n",
            "Validation Balanced Accuracy: 0.25841571227647175\n",
            "Epoca 6\n",
            "Traning Loss: 1.8744338191502368\n",
            "Validation Loss: 1.9411903644286534\n",
            "Train Accuracy: 0.28487634749524415\n",
            "Validation Accuracy: 0.267279644895371\n",
            "Train Balanced Accuracy: 0.2848692520086315\n",
            "Validation Balanced Accuracy: 0.26732167972674303\n",
            "Epoca 7\n",
            "Traning Loss: 1.8503431331745148\n",
            "Validation Loss: 1.988885279238158\n",
            "Train Accuracy: 0.301997463538364\n",
            "Validation Accuracy: 0.26093849080532655\n",
            "Train Balanced Accuracy: 0.3019825535289453\n",
            "Validation Balanced Accuracy: 0.26098553345388786\n",
            "Epoca 8\n",
            "Traning Loss: 1.8279817378548249\n",
            "Validation Loss: 2.0172953643560287\n",
            "Train Accuracy: 0.31436271401395055\n",
            "Validation Accuracy: 0.2742549143944198\n",
            "Train Balanced Accuracy: 0.31435060846484375\n",
            "Validation Balanced Accuracy: 0.2743098251959012\n",
            "Epoca 9\n",
            "Traning Loss: 1.7990036045434248\n",
            "Validation Loss: 2.035620871872553\n",
            "Train Accuracy: 0.32910589727330375\n",
            "Validation Accuracy: 0.2726696258719087\n",
            "Train Balanced Accuracy: 0.3290930775891646\n",
            "Validation Balanced Accuracy: 0.27270544504721717\n",
            "Epoca 10\n",
            "Traning Loss: 1.7677085129559642\n",
            "Validation Loss: 2.0725360660788357\n",
            "Train Accuracy: 0.35066582117945466\n",
            "Validation Accuracy: 0.2796448953709575\n",
            "Train Balanced Accuracy: 0.3506567247838671\n",
            "Validation Balanced Accuracy: 0.27967751657625073\n",
            "Epoca 11\n",
            "Traning Loss: 1.7317149670109624\n",
            "Validation Loss: 2.10791001434585\n",
            "Train Accuracy: 0.36612238427393784\n",
            "Validation Accuracy: 0.28059606848446417\n",
            "Train Balanced Accuracy: 0.3661128503401446\n",
            "Validation Balanced Accuracy: 0.280646976090014\n",
            "Epoca 12\n",
            "Traning Loss: 1.7032952667569423\n",
            "Validation Loss: 2.1485895743320733\n",
            "Train Accuracy: 0.3837983512999366\n",
            "Validation Accuracy: 0.2761572606214331\n",
            "Train Balanced Accuracy: 0.3837911953258237\n",
            "Validation Balanced Accuracy: 0.27621257785814746\n",
            "Epoca 13\n",
            "Traning Loss: 1.6767373615063443\n",
            "Validation Loss: 2.177483698308288\n",
            "Train Accuracy: 0.3937856689917565\n",
            "Validation Accuracy: 0.2783766645529486\n",
            "Train Balanced Accuracy: 0.39377767248844087\n",
            "Validation Balanced Accuracy: 0.2784167168977295\n",
            "Epoca 14\n",
            "Traning Loss: 1.6541787155226348\n",
            "Validation Loss: 2.184661247503082\n",
            "Train Accuracy: 0.40844958782498414\n",
            "Validation Accuracy: 0.271718452758402\n",
            "Train Balanced Accuracy: 0.40844197056395004\n",
            "Validation Balanced Accuracy: 0.2717500502310629\n",
            "Epoca 15\n",
            "Traning Loss: 1.6313704960721813\n",
            "Validation Loss: 2.2256019745974642\n",
            "Train Accuracy: 0.42129042485732404\n",
            "Validation Accuracy: 0.2729866835764109\n",
            "Train Balanced Accuracy: 0.4212806227543104\n",
            "Validation Balanced Accuracy: 0.27303496081977097\n",
            "Epoca 16\n",
            "Traning Loss: 1.613738538295648\n",
            "Validation Loss: 2.2614309232216625\n",
            "Train Accuracy: 0.4331008243500317\n",
            "Validation Accuracy: 0.2767913760304375\n",
            "Train Balanced Accuracy: 0.4330912376789482\n",
            "Validation Balanced Accuracy: 0.2768555354631304\n",
            "Epoca 17\n",
            "Traning Loss: 1.5950326786172457\n",
            "Validation Loss: 2.3246166933975765\n",
            "Train Accuracy: 0.4419784400760938\n",
            "Validation Accuracy: 0.2767913760304375\n",
            "Train Balanced Accuracy: 0.4419683646038474\n",
            "Validation Balanced Accuracy: 0.27684046614426366\n",
            "Epoca 18\n",
            "Traning Loss: 1.57407206801445\n",
            "Validation Loss: 2.376575535133903\n",
            "Train Accuracy: 0.45339251743817377\n",
            "Validation Accuracy: 0.27805960684844644\n",
            "Train Balanced Accuracy: 0.4533843539766065\n",
            "Validation Balanced Accuracy: 0.2781012658227848\n"
          ]
        }
      ]
    },
    {
      "cell_type": "code",
      "source": [
        "model_audience_train_results.plot(kind='line')\n",
        "plot.title('Loss e Acuracia Audience pós Treino')\n",
        "plot.xticks(range(0, len(model_audience_train_results), 1))\n",
        "plot.xlabel('Época')\n",
        "plot.ylabel('Valores')\n",
        "plot.legend(loc='best')\n",
        "plot.show()"
      ],
      "metadata": {
        "id": "FLcKPAVfvR-I"
      },
      "execution_count": null,
      "outputs": []
    },
    {
      "cell_type": "markdown",
      "metadata": {
        "id": "mmhWYVuxw3MM"
      },
      "source": [
        "### Avaliação do Modelo no Conjunto Test"
      ]
    },
    {
      "cell_type": "markdown",
      "source": [
        "Modelo Critic"
      ],
      "metadata": {
        "id": "0jA-Gt3oI7Hh"
      }
    },
    {
      "cell_type": "code",
      "execution_count": null,
      "metadata": {
        "tags": [],
        "id": "WcG2_Tk9ybxV"
      },
      "outputs": [],
      "source": [
        "best_epoch_critic = 1\n",
        "model_config_critic = f'finetuned_CRITIC_{best_epoch_critic}.model'\n",
        "best_model_critic = AutoModelForSequenceClassification.from_pretrained(MODEL_NAME, num_labels=NUM_LABELS_CRITIC, output_attentions=True, output_hidden_states=False)\n",
        "best_model_critic.load_state_dict(torch.load(model_config_critic, map_location=torch.device('cpu')))\n",
        "best_model_critic.to(DEVICE)\n",
        "\n",
        "print(\"Melhor modelo\")\n",
        "_, preds, labels = Test(best_model_critic, dataloader_test_critic, DEVICE)\n",
        "print(f'Test Loss: {_}')\n",
        "preds_array = numpy.argmax(preds, axis=1)\n",
        "val_accuracy_2 = accuracy_score(labels, preds_array)\n",
        "print(f'Test Accuracy: {val_accuracy_2}')\n",
        "val_balanced_accuracy_2 = balanced_accuracy_score(labels, preds_array)\n",
        "print(f'Test Balanced Accuracy: {val_balanced_accuracy_2}')\n",
        "\n",
        "ConfusionMatrix(labels, preds_array, title=\"Matrix de confusão - Modelo Critic\", classes_list=distinct_sentiment_labels)"
      ]
    },
    {
      "cell_type": "markdown",
      "source": [
        "Modelo Audience"
      ],
      "metadata": {
        "id": "z92QdFJbJrT4"
      }
    },
    {
      "cell_type": "code",
      "source": [
        "best_epoch_audience = 1\n",
        "model_config_audience = f'finetuned_AUDIENCE_{best_epoch_audience}.model'\n",
        "best_model_audience = AutoModelForSequenceClassification.from_pretrained(MODEL_NAME, num_labels=NUM_LABELS_AUDIENCE, output_attentions=True, output_hidden_states=False)\n",
        "best_model_audience.load_state_dict(torch.load(model_config_audience, map_location=torch.device('cpu')))\n",
        "best_model_audience.to(DEVICE)\n",
        "\n",
        "print(\"Melhor modelo\")\n",
        "_, preds, labels = Test(best_model_audience, dataloader_test_audience, DEVICE)\n",
        "print(f'Test Loss: {_}')\n",
        "preds_array = numpy.argmax(preds, axis=1)\n",
        "val_accuracy_2 = accuracy_score(labels, preds_array)\n",
        "print(f'Test Accuracy: {val_accuracy_2}')\n",
        "val_balanced_accuracy_2 = balanced_accuracy_score(labels, preds_array)\n",
        "print(f'Test Balanced Accuracy: {val_balanced_accuracy_2}')\n",
        "\n",
        "ConfusionMatrix(labels, preds_array, title=\"Matrix de confusão - Modelo Audience\", classes_list=distinct_rating_labels)"
      ],
      "metadata": {
        "id": "n6vFHrfMJr6Z"
      },
      "execution_count": null,
      "outputs": []
    },
    {
      "cell_type": "markdown",
      "metadata": {
        "id": "z9GwIIfPw3MN"
      },
      "source": [
        "### Análise do Mecanismo de Atenção com BertViz\n",
        "\n"
      ]
    },
    {
      "cell_type": "markdown",
      "source": [
        "Modelo Critic"
      ],
      "metadata": {
        "id": "riSq6GAkLO5J"
      }
    },
    {
      "cell_type": "code",
      "execution_count": null,
      "metadata": {
        "tags": [],
        "id": "MP2-rOdFybxW"
      },
      "outputs": [],
      "source": [
        "input_ids=[]\n",
        "for batch in dataloader_test_critic:\n",
        "    input_ids.append(batch[0])\n",
        "\n",
        "print(f'Modelo Critic')\n",
        "correct_cases_critic = [(text, true, pred) for text, true, pred in zip(input_ids, labels_test_critic, preds_array) if true == pred]\n",
        "print(f'Número de acertos: {len(correct_cases_critic)}')\n",
        "\n",
        "decoded_correct_text_critic = TOKENIZER_CRITIC.decode(torch.tensor(correct_cases_critic[0][0][0].tolist()), skip_special_tokens=True)\n",
        "print(f'Texto caso correto: {decoded_correct_text_critic}')\n",
        "\n",
        "incorrect_cases_critic =[(text, true, pred) for text, true, pred in zip(input_ids, labels_test_critic, preds_array) if true != pred]\n",
        "print(f'Número de incorretos: {len(incorrect_cases_critic)}')\n",
        "\n",
        "decoded_incorrect_text_critic = TOKENIZER_CRITIC.decode(torch.tensor(incorrect_cases_critic[0][0][0].tolist()), skip_special_tokens=True)\n",
        "print(f'Texto caso incorreto: {decoded_incorrect_text_critic}')"
      ]
    },
    {
      "cell_type": "code",
      "execution_count": null,
      "metadata": {
        "tags": [],
        "id": "JskSaLU7ybxW"
      },
      "outputs": [],
      "source": [
        "model = best_model_critic\n",
        "print(\"Análise para um comentário que foi corretamente predito\")\n",
        "inputs = TOKENIZER_CRITIC.encode(decoded_correct_text_critic, return_tensors='pt').to(DEVICE)\n",
        "outputs = model(inputs)\n",
        "attention = outputs[-1]\n",
        "tokens = TOKENIZER_CRITIC.convert_ids_to_tokens(inputs[0])\n",
        "head_view(attention, tokens)\n",
        "model_view(attention, tokens)\n",
        "\n",
        "print(\"Análise para um comentário que foi incorretamente predito\")\n",
        "inputs = TOKENIZER_CRITIC.encode(decoded_incorrect_text_critic, return_tensors='pt').to(DEVICE)\n",
        "outputs = model(inputs)\n",
        "attention = outputs[-1]\n",
        "tokens = TOKENIZER_CRITIC.convert_ids_to_tokens(inputs[0])\n",
        "head_view(attention, tokens)\n",
        "model_view(attention, tokens)"
      ]
    },
    {
      "cell_type": "markdown",
      "source": [
        "Modelo Audience"
      ],
      "metadata": {
        "id": "u0EI0NaiK9iv"
      }
    },
    {
      "cell_type": "code",
      "source": [
        "input_ids=[]\n",
        "for batch in dataloader_test_audience:\n",
        "    input_ids.append(batch[0])\n",
        "\n",
        "print(f'Modelo Audience')\n",
        "correct_cases_audience = [(text, true, pred) for text, true, pred in zip(input_ids, labels_test_audience, preds_array) if true == pred]\n",
        "print(f'Número de acertos: {len(correct_cases_audience)}')\n",
        "\n",
        "decoded_correct_text_audience = TOKENIZER_AUDIENCE.decode(torch.tensor(correct_cases_audience[0][0][0].tolist()), skip_special_tokens=True)\n",
        "print(f'Texto caso correto: {decoded_correct_text_audience}')\n",
        "\n",
        "incorrect_cases_audience =[(text, true, pred) for text, true, pred in zip(input_ids, labels_test_audience, preds_array) if true != pred]\n",
        "print(f'Número de incorretos: {len(incorrect_cases_audience)}')\n",
        "\n",
        "decoded_incorrect_text_audience = TOKENIZER_AUDIENCE.decode(torch.tensor(incorrect_cases_audience[0][0][0].tolist()), skip_special_tokens=True)\n",
        "print(f'Texto caso incorreto: {decoded_incorrect_text_audience}')"
      ],
      "metadata": {
        "id": "GEqPvWQBK864"
      },
      "execution_count": null,
      "outputs": []
    },
    {
      "cell_type": "code",
      "source": [
        "model = best_model_audience\n",
        "print(\"Análise para um comentário que foi corretamente predito\")\n",
        "inputs = TOKENIZER_AUDIENCE.encode(decoded_correct_text_audience, return_tensors='pt').to(DEVICE)\n",
        "outputs = model(inputs)\n",
        "attention = outputs[-1]\n",
        "tokens = TOKENIZER_AUDIENCE.convert_ids_to_tokens(inputs[0])\n",
        "head_view(attention, tokens)\n",
        "model_view(attention, tokens)\n",
        "\n",
        "print(\"Análise para um comentário que foi incorretamente predito\")\n",
        "inputs = TOKENIZER_AUDIENCE.encode(decoded_incorrect_text_audience, return_tensors='pt').to(DEVICE)\n",
        "outputs = model(inputs)\n",
        "attention = outputs[-1]\n",
        "tokens = TOKENIZER_AUDIENCE.convert_ids_to_tokens(inputs[0])\n",
        "head_view(attention, tokens)\n",
        "model_view(attention, tokens)"
      ],
      "metadata": {
        "id": "Mq7Lkn4RMgCv"
      },
      "execution_count": null,
      "outputs": []
    }
  ],
  "metadata": {
    "colab": {
      "provenance": [],
      "gpuType": "T4",
      "include_colab_link": true
    },
    "kernelspec": {
      "display_name": "conda_pytorch_p310",
      "language": "python",
      "name": "conda_pytorch_p310"
    },
    "language_info": {
      "codemirror_mode": {
        "name": "ipython",
        "version": 3
      },
      "file_extension": ".py",
      "mimetype": "text/x-python",
      "name": "python",
      "nbconvert_exporter": "python",
      "pygments_lexer": "ipython3",
      "version": "3.10.14"
    },
    "accelerator": "GPU"
  },
  "nbformat": 4,
  "nbformat_minor": 0
}