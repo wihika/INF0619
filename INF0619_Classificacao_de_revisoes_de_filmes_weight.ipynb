{
  "cells": [
    {
      "cell_type": "markdown",
      "metadata": {
        "id": "view-in-github",
        "colab_type": "text"
      },
      "source": [
        "<a href=\"https://colab.research.google.com/github/wihika/INF0619/blob/main/INF0619_Classificacao_de_revisoes_de_filmes_weight.ipynb\" target=\"_parent\"><img src=\"https://colab.research.google.com/assets/colab-badge.svg\" alt=\"Open In Colab\"/></a>"
      ]
    },
    {
      "cell_type": "markdown",
      "metadata": {
        "id": "3tzsmU3M6CQs"
      },
      "source": [
        "## Trabalho Final — INF-0619 Classificação de Revisões de Filmes  \n",
        "Alunos:\n",
        "\n"
      ]
    },
    {
      "cell_type": "markdown",
      "source": [
        "#Descrição\n",
        "O site Rotten Tomatoes é uma plataforma amplamente reconhecida que coleta e exibe avaliações de filmes feitas tanto\n",
        "por usuários comuns, referidos como audiência, quanto por críticos especializados em cinema, o que proporciona\n",
        "uma visão abrangente sobre a recepção de um filme. Uma tarefa crítica que surge desse conjunto de dados é a\n",
        "classificação das avaliações, que pode ser realizada de diferentes maneiras, incluindo a análise do sentimento, que\n",
        "identifica opiniões expressas nas críticas como positivas, negativas ou neutras, e a atribuição de notas, que facilita\n",
        "a comparação entre diferentes filmes. Realizar essas análises de forma automática é de grande importância, pois\n",
        "permite processar uma quantidade significativa de dados de maneira eficiente e precisa, ajudando os usuários a\n",
        "fazer escolhas informadas sobre quais filmes assistir e fornecendo insights valiosos sobre tendências de recepção\n",
        "cinematográfica ao longo do tempo.\n",
        "A base de dados deste projeto contém avaliações de usuários, com notas variando entre 0.5 e 5, de 0.5 em 0.5, e\n",
        "avaliações de críticos de cinema, com o sentimento associado (positivo ou negativo).\n",
        "\n",
        "#Objetivo Principal\n",
        "Este projeto envolve dois problemas, sendo uma tarefa binária e uma tarefa multi-classe, cujo objetivo é predizer\n",
        "corretamente o sentimento da avaliação do crítico (classificação binária) e a nota de avaliação do usuário (multiclasse) baseado no texto da avaliação. A métrica que deverá ser utilizada neste projeto é a Acurácia Balanceada.\n",
        "\n",
        "#Técnicas Envolvidas\n",
        "*   Processamento de linguagem natural;\n",
        "*   Processamento e representação de dados textuais;\n",
        "*   Classificação binária;\n",
        "*   Classificação multi-classe.\n",
        "\n",
        "#Desafios\n",
        "*   Para esse projeto, alguns desafios são:\n",
        "*   Explorar técnicas de processamento de linguagem natural;\n",
        "*   Analisar as palavras e termos-chaves de cada classe;\n",
        "*   Lidar com o desbalanceamento de classes;\n",
        "*   Classificar corretamente o sentimento das revisões dos críticos;\n",
        "*   Classificar corretamente a nota da avaliação dos usuários.\n",
        "\n",
        "#Conjunto de Dados\n",
        "*   Kaggle da base de dados (https://www.kaggle.com/datasets/coltonbarger/rotten-tomatoes-reviews-for-online-streaming-shows/data);\n",
        "*   Conjunto de dados (https://drive.google.com/drive/folders/10wfbJmPUqfZNs3HY4_Y_Uw1Ef0hFMRU5).\n"
      ],
      "metadata": {
        "id": "5PYraWzxzYlP"
      }
    },
    {
      "cell_type": "markdown",
      "metadata": {
        "id": "oWk3u7rHw3MF"
      },
      "source": [
        "## Instalação das Bibliotecas"
      ]
    },
    {
      "cell_type": "markdown",
      "source": [
        "Instalar as bibliotecas necessárias:"
      ],
      "metadata": {
        "id": "TQM2-64T1HMS"
      }
    },
    {
      "cell_type": "code",
      "execution_count": 2,
      "metadata": {
        "colab": {
          "base_uri": "https://localhost:8080/"
        },
        "id": "-vNcKGybw3MF",
        "outputId": "ef82b2f7-72a5-4430-ae89-6279be4a2faa"
      },
      "outputs": [
        {
          "output_type": "stream",
          "name": "stdout",
          "text": [
            "Requirement already satisfied: pandas in /usr/local/lib/python3.10/dist-packages (2.2.2)\n",
            "Requirement already satisfied: numpy>=1.22.4 in /usr/local/lib/python3.10/dist-packages (from pandas) (1.26.4)\n",
            "Requirement already satisfied: python-dateutil>=2.8.2 in /usr/local/lib/python3.10/dist-packages (from pandas) (2.8.2)\n",
            "Requirement already satisfied: pytz>=2020.1 in /usr/local/lib/python3.10/dist-packages (from pandas) (2024.2)\n",
            "Requirement already satisfied: tzdata>=2022.7 in /usr/local/lib/python3.10/dist-packages (from pandas) (2024.2)\n",
            "Requirement already satisfied: six>=1.5 in /usr/local/lib/python3.10/dist-packages (from python-dateutil>=2.8.2->pandas) (1.16.0)\n",
            "Requirement already satisfied: transformers in /usr/local/lib/python3.10/dist-packages (4.46.2)\n",
            "Requirement already satisfied: filelock in /usr/local/lib/python3.10/dist-packages (from transformers) (3.16.1)\n",
            "Requirement already satisfied: huggingface-hub<1.0,>=0.23.2 in /usr/local/lib/python3.10/dist-packages (from transformers) (0.26.2)\n",
            "Requirement already satisfied: numpy>=1.17 in /usr/local/lib/python3.10/dist-packages (from transformers) (1.26.4)\n",
            "Requirement already satisfied: packaging>=20.0 in /usr/local/lib/python3.10/dist-packages (from transformers) (24.2)\n",
            "Requirement already satisfied: pyyaml>=5.1 in /usr/local/lib/python3.10/dist-packages (from transformers) (6.0.2)\n",
            "Requirement already satisfied: regex!=2019.12.17 in /usr/local/lib/python3.10/dist-packages (from transformers) (2024.9.11)\n",
            "Requirement already satisfied: requests in /usr/local/lib/python3.10/dist-packages (from transformers) (2.32.3)\n",
            "Requirement already satisfied: safetensors>=0.4.1 in /usr/local/lib/python3.10/dist-packages (from transformers) (0.4.5)\n",
            "Requirement already satisfied: tokenizers<0.21,>=0.20 in /usr/local/lib/python3.10/dist-packages (from transformers) (0.20.3)\n",
            "Requirement already satisfied: tqdm>=4.27 in /usr/local/lib/python3.10/dist-packages (from transformers) (4.66.6)\n",
            "Requirement already satisfied: fsspec>=2023.5.0 in /usr/local/lib/python3.10/dist-packages (from huggingface-hub<1.0,>=0.23.2->transformers) (2024.10.0)\n",
            "Requirement already satisfied: typing-extensions>=3.7.4.3 in /usr/local/lib/python3.10/dist-packages (from huggingface-hub<1.0,>=0.23.2->transformers) (4.12.2)\n",
            "Requirement already satisfied: charset-normalizer<4,>=2 in /usr/local/lib/python3.10/dist-packages (from requests->transformers) (3.4.0)\n",
            "Requirement already satisfied: idna<4,>=2.5 in /usr/local/lib/python3.10/dist-packages (from requests->transformers) (3.10)\n",
            "Requirement already satisfied: urllib3<3,>=1.21.1 in /usr/local/lib/python3.10/dist-packages (from requests->transformers) (2.2.3)\n",
            "Requirement already satisfied: certifi>=2017.4.17 in /usr/local/lib/python3.10/dist-packages (from requests->transformers) (2024.8.30)\n",
            "Collecting bertviz\n",
            "  Downloading bertviz-1.4.0-py3-none-any.whl.metadata (19 kB)\n",
            "Requirement already satisfied: transformers>=2.0 in /usr/local/lib/python3.10/dist-packages (from bertviz) (4.46.2)\n",
            "Requirement already satisfied: torch>=1.0 in /usr/local/lib/python3.10/dist-packages (from bertviz) (2.5.1+cu121)\n",
            "Requirement already satisfied: tqdm in /usr/local/lib/python3.10/dist-packages (from bertviz) (4.66.6)\n",
            "Collecting boto3 (from bertviz)\n",
            "  Downloading boto3-1.35.71-py3-none-any.whl.metadata (6.7 kB)\n",
            "Requirement already satisfied: requests in /usr/local/lib/python3.10/dist-packages (from bertviz) (2.32.3)\n",
            "Requirement already satisfied: regex in /usr/local/lib/python3.10/dist-packages (from bertviz) (2024.9.11)\n",
            "Requirement already satisfied: sentencepiece in /usr/local/lib/python3.10/dist-packages (from bertviz) (0.2.0)\n",
            "Requirement already satisfied: filelock in /usr/local/lib/python3.10/dist-packages (from torch>=1.0->bertviz) (3.16.1)\n",
            "Requirement already satisfied: typing-extensions>=4.8.0 in /usr/local/lib/python3.10/dist-packages (from torch>=1.0->bertviz) (4.12.2)\n",
            "Requirement already satisfied: networkx in /usr/local/lib/python3.10/dist-packages (from torch>=1.0->bertviz) (3.4.2)\n",
            "Requirement already satisfied: jinja2 in /usr/local/lib/python3.10/dist-packages (from torch>=1.0->bertviz) (3.1.4)\n",
            "Requirement already satisfied: fsspec in /usr/local/lib/python3.10/dist-packages (from torch>=1.0->bertviz) (2024.10.0)\n",
            "Requirement already satisfied: sympy==1.13.1 in /usr/local/lib/python3.10/dist-packages (from torch>=1.0->bertviz) (1.13.1)\n",
            "Requirement already satisfied: mpmath<1.4,>=1.1.0 in /usr/local/lib/python3.10/dist-packages (from sympy==1.13.1->torch>=1.0->bertviz) (1.3.0)\n",
            "Requirement already satisfied: huggingface-hub<1.0,>=0.23.2 in /usr/local/lib/python3.10/dist-packages (from transformers>=2.0->bertviz) (0.26.2)\n",
            "Requirement already satisfied: numpy>=1.17 in /usr/local/lib/python3.10/dist-packages (from transformers>=2.0->bertviz) (1.26.4)\n",
            "Requirement already satisfied: packaging>=20.0 in /usr/local/lib/python3.10/dist-packages (from transformers>=2.0->bertviz) (24.2)\n",
            "Requirement already satisfied: pyyaml>=5.1 in /usr/local/lib/python3.10/dist-packages (from transformers>=2.0->bertviz) (6.0.2)\n",
            "Requirement already satisfied: safetensors>=0.4.1 in /usr/local/lib/python3.10/dist-packages (from transformers>=2.0->bertviz) (0.4.5)\n",
            "Requirement already satisfied: tokenizers<0.21,>=0.20 in /usr/local/lib/python3.10/dist-packages (from transformers>=2.0->bertviz) (0.20.3)\n",
            "Collecting botocore<1.36.0,>=1.35.71 (from boto3->bertviz)\n",
            "  Downloading botocore-1.35.71-py3-none-any.whl.metadata (5.7 kB)\n",
            "Collecting jmespath<2.0.0,>=0.7.1 (from boto3->bertviz)\n",
            "  Downloading jmespath-1.0.1-py3-none-any.whl.metadata (7.6 kB)\n",
            "Collecting s3transfer<0.11.0,>=0.10.0 (from boto3->bertviz)\n",
            "  Downloading s3transfer-0.10.4-py3-none-any.whl.metadata (1.7 kB)\n",
            "Requirement already satisfied: charset-normalizer<4,>=2 in /usr/local/lib/python3.10/dist-packages (from requests->bertviz) (3.4.0)\n",
            "Requirement already satisfied: idna<4,>=2.5 in /usr/local/lib/python3.10/dist-packages (from requests->bertviz) (3.10)\n",
            "Requirement already satisfied: urllib3<3,>=1.21.1 in /usr/local/lib/python3.10/dist-packages (from requests->bertviz) (2.2.3)\n",
            "Requirement already satisfied: certifi>=2017.4.17 in /usr/local/lib/python3.10/dist-packages (from requests->bertviz) (2024.8.30)\n",
            "Requirement already satisfied: python-dateutil<3.0.0,>=2.1 in /usr/local/lib/python3.10/dist-packages (from botocore<1.36.0,>=1.35.71->boto3->bertviz) (2.8.2)\n",
            "Requirement already satisfied: MarkupSafe>=2.0 in /usr/local/lib/python3.10/dist-packages (from jinja2->torch>=1.0->bertviz) (3.0.2)\n",
            "Requirement already satisfied: six>=1.5 in /usr/local/lib/python3.10/dist-packages (from python-dateutil<3.0.0,>=2.1->botocore<1.36.0,>=1.35.71->boto3->bertviz) (1.16.0)\n",
            "Downloading bertviz-1.4.0-py3-none-any.whl (157 kB)\n",
            "\u001b[2K   \u001b[90m━━━━━━━━━━━━━━━━━━━━━━━━━━━━━━━━━━━━━━━━\u001b[0m \u001b[32m157.6/157.6 kB\u001b[0m \u001b[31m6.0 MB/s\u001b[0m eta \u001b[36m0:00:00\u001b[0m\n",
            "\u001b[?25hDownloading boto3-1.35.71-py3-none-any.whl (139 kB)\n",
            "\u001b[2K   \u001b[90m━━━━━━━━━━━━━━━━━━━━━━━━━━━━━━━━━━━━━━━━\u001b[0m \u001b[32m139.2/139.2 kB\u001b[0m \u001b[31m4.7 MB/s\u001b[0m eta \u001b[36m0:00:00\u001b[0m\n",
            "\u001b[?25hDownloading botocore-1.35.71-py3-none-any.whl (13.0 MB)\n",
            "\u001b[2K   \u001b[90m━━━━━━━━━━━━━━━━━━━━━━━━━━━━━━━━━━━━━━━━\u001b[0m \u001b[32m13.0/13.0 MB\u001b[0m \u001b[31m29.9 MB/s\u001b[0m eta \u001b[36m0:00:00\u001b[0m\n",
            "\u001b[?25hDownloading jmespath-1.0.1-py3-none-any.whl (20 kB)\n",
            "Downloading s3transfer-0.10.4-py3-none-any.whl (83 kB)\n",
            "\u001b[2K   \u001b[90m━━━━━━━━━━━━━━━━━━━━━━━━━━━━━━━━━━━━━━━━\u001b[0m \u001b[32m83.2/83.2 kB\u001b[0m \u001b[31m7.9 MB/s\u001b[0m eta \u001b[36m0:00:00\u001b[0m\n",
            "\u001b[?25hInstalling collected packages: jmespath, botocore, s3transfer, boto3, bertviz\n",
            "Successfully installed bertviz-1.4.0 boto3-1.35.71 botocore-1.35.71 jmespath-1.0.1 s3transfer-0.10.4\n",
            "Collecting datasets\n",
            "  Downloading datasets-3.1.0-py3-none-any.whl.metadata (20 kB)\n",
            "Requirement already satisfied: filelock in /usr/local/lib/python3.10/dist-packages (from datasets) (3.16.1)\n",
            "Requirement already satisfied: numpy>=1.17 in /usr/local/lib/python3.10/dist-packages (from datasets) (1.26.4)\n",
            "Requirement already satisfied: pyarrow>=15.0.0 in /usr/local/lib/python3.10/dist-packages (from datasets) (17.0.0)\n",
            "Collecting dill<0.3.9,>=0.3.0 (from datasets)\n",
            "  Downloading dill-0.3.8-py3-none-any.whl.metadata (10 kB)\n",
            "Requirement already satisfied: pandas in /usr/local/lib/python3.10/dist-packages (from datasets) (2.2.2)\n",
            "Requirement already satisfied: requests>=2.32.2 in /usr/local/lib/python3.10/dist-packages (from datasets) (2.32.3)\n",
            "Requirement already satisfied: tqdm>=4.66.3 in /usr/local/lib/python3.10/dist-packages (from datasets) (4.66.6)\n",
            "Collecting xxhash (from datasets)\n",
            "  Downloading xxhash-3.5.0-cp310-cp310-manylinux_2_17_x86_64.manylinux2014_x86_64.whl.metadata (12 kB)\n",
            "Collecting multiprocess<0.70.17 (from datasets)\n",
            "  Downloading multiprocess-0.70.16-py310-none-any.whl.metadata (7.2 kB)\n",
            "Collecting fsspec<=2024.9.0,>=2023.1.0 (from fsspec[http]<=2024.9.0,>=2023.1.0->datasets)\n",
            "  Downloading fsspec-2024.9.0-py3-none-any.whl.metadata (11 kB)\n",
            "Requirement already satisfied: aiohttp in /usr/local/lib/python3.10/dist-packages (from datasets) (3.11.2)\n",
            "Requirement already satisfied: huggingface-hub>=0.23.0 in /usr/local/lib/python3.10/dist-packages (from datasets) (0.26.2)\n",
            "Requirement already satisfied: packaging in /usr/local/lib/python3.10/dist-packages (from datasets) (24.2)\n",
            "Requirement already satisfied: pyyaml>=5.1 in /usr/local/lib/python3.10/dist-packages (from datasets) (6.0.2)\n",
            "Requirement already satisfied: aiohappyeyeballs>=2.3.0 in /usr/local/lib/python3.10/dist-packages (from aiohttp->datasets) (2.4.3)\n",
            "Requirement already satisfied: aiosignal>=1.1.2 in /usr/local/lib/python3.10/dist-packages (from aiohttp->datasets) (1.3.1)\n",
            "Requirement already satisfied: attrs>=17.3.0 in /usr/local/lib/python3.10/dist-packages (from aiohttp->datasets) (24.2.0)\n",
            "Requirement already satisfied: frozenlist>=1.1.1 in /usr/local/lib/python3.10/dist-packages (from aiohttp->datasets) (1.5.0)\n",
            "Requirement already satisfied: multidict<7.0,>=4.5 in /usr/local/lib/python3.10/dist-packages (from aiohttp->datasets) (6.1.0)\n",
            "Requirement already satisfied: propcache>=0.2.0 in /usr/local/lib/python3.10/dist-packages (from aiohttp->datasets) (0.2.0)\n",
            "Requirement already satisfied: yarl<2.0,>=1.17.0 in /usr/local/lib/python3.10/dist-packages (from aiohttp->datasets) (1.17.2)\n",
            "Requirement already satisfied: async-timeout<6.0,>=4.0 in /usr/local/lib/python3.10/dist-packages (from aiohttp->datasets) (4.0.3)\n",
            "Requirement already satisfied: typing-extensions>=3.7.4.3 in /usr/local/lib/python3.10/dist-packages (from huggingface-hub>=0.23.0->datasets) (4.12.2)\n",
            "Requirement already satisfied: charset-normalizer<4,>=2 in /usr/local/lib/python3.10/dist-packages (from requests>=2.32.2->datasets) (3.4.0)\n",
            "Requirement already satisfied: idna<4,>=2.5 in /usr/local/lib/python3.10/dist-packages (from requests>=2.32.2->datasets) (3.10)\n",
            "Requirement already satisfied: urllib3<3,>=1.21.1 in /usr/local/lib/python3.10/dist-packages (from requests>=2.32.2->datasets) (2.2.3)\n",
            "Requirement already satisfied: certifi>=2017.4.17 in /usr/local/lib/python3.10/dist-packages (from requests>=2.32.2->datasets) (2024.8.30)\n",
            "Requirement already satisfied: python-dateutil>=2.8.2 in /usr/local/lib/python3.10/dist-packages (from pandas->datasets) (2.8.2)\n",
            "Requirement already satisfied: pytz>=2020.1 in /usr/local/lib/python3.10/dist-packages (from pandas->datasets) (2024.2)\n",
            "Requirement already satisfied: tzdata>=2022.7 in /usr/local/lib/python3.10/dist-packages (from pandas->datasets) (2024.2)\n",
            "Requirement already satisfied: six>=1.5 in /usr/local/lib/python3.10/dist-packages (from python-dateutil>=2.8.2->pandas->datasets) (1.16.0)\n",
            "Downloading datasets-3.1.0-py3-none-any.whl (480 kB)\n",
            "\u001b[2K   \u001b[90m━━━━━━━━━━━━━━━━━━━━━━━━━━━━━━━━━━━━━━━━\u001b[0m \u001b[32m480.6/480.6 kB\u001b[0m \u001b[31m20.3 MB/s\u001b[0m eta \u001b[36m0:00:00\u001b[0m\n",
            "\u001b[?25hDownloading dill-0.3.8-py3-none-any.whl (116 kB)\n",
            "\u001b[2K   \u001b[90m━━━━━━━━━━━━━━━━━━━━━━━━━━━━━━━━━━━━━━━━\u001b[0m \u001b[32m116.3/116.3 kB\u001b[0m \u001b[31m10.7 MB/s\u001b[0m eta \u001b[36m0:00:00\u001b[0m\n",
            "\u001b[?25hDownloading fsspec-2024.9.0-py3-none-any.whl (179 kB)\n",
            "\u001b[2K   \u001b[90m━━━━━━━━━━━━━━━━━━━━━━━━━━━━━━━━━━━━━━━━\u001b[0m \u001b[32m179.3/179.3 kB\u001b[0m \u001b[31m9.0 MB/s\u001b[0m eta \u001b[36m0:00:00\u001b[0m\n",
            "\u001b[?25hDownloading multiprocess-0.70.16-py310-none-any.whl (134 kB)\n",
            "\u001b[2K   \u001b[90m━━━━━━━━━━━━━━━━━━━━━━━━━━━━━━━━━━━━━━━━\u001b[0m \u001b[32m134.8/134.8 kB\u001b[0m \u001b[31m12.2 MB/s\u001b[0m eta \u001b[36m0:00:00\u001b[0m\n",
            "\u001b[?25hDownloading xxhash-3.5.0-cp310-cp310-manylinux_2_17_x86_64.manylinux2014_x86_64.whl (194 kB)\n",
            "\u001b[2K   \u001b[90m━━━━━━━━━━━━━━━━━━━━━━━━━━━━━━━━━━━━━━━━\u001b[0m \u001b[32m194.1/194.1 kB\u001b[0m \u001b[31m15.6 MB/s\u001b[0m eta \u001b[36m0:00:00\u001b[0m\n",
            "\u001b[?25hInstalling collected packages: xxhash, fsspec, dill, multiprocess, datasets\n",
            "  Attempting uninstall: fsspec\n",
            "    Found existing installation: fsspec 2024.10.0\n",
            "    Uninstalling fsspec-2024.10.0:\n",
            "      Successfully uninstalled fsspec-2024.10.0\n",
            "\u001b[31mERROR: pip's dependency resolver does not currently take into account all the packages that are installed. This behaviour is the source of the following dependency conflicts.\n",
            "gcsfs 2024.10.0 requires fsspec==2024.10.0, but you have fsspec 2024.9.0 which is incompatible.\u001b[0m\u001b[31m\n",
            "\u001b[0mSuccessfully installed datasets-3.1.0 dill-0.3.8 fsspec-2024.9.0 multiprocess-0.70.16 xxhash-3.5.0\n"
          ]
        }
      ],
      "source": [
        "!pip install pandas\n",
        "!pip install transformers\n",
        "!pip install bertviz\n",
        "!pip install datasets"
      ]
    },
    {
      "cell_type": "markdown",
      "source": [
        "Chamada das bibliotecas necessárias:"
      ],
      "metadata": {
        "id": "3sEOASEz02Cg"
      }
    },
    {
      "cell_type": "code",
      "source": [
        "import pandas\n",
        "import numpy\n",
        "import torch\n",
        "import seaborn\n",
        "import matplotlib.pyplot as plot\n",
        "from datasets import Dataset\n",
        "from transformers import AutoTokenizer, AutoModelForSequenceClassification, get_scheduler\n",
        "from torch.utils.data import TensorDataset, DataLoader\n",
        "from torch.optim import AdamW\n",
        "from sklearn.metrics import balanced_accuracy_score, accuracy_score, confusion_matrix\n",
        "from sklearn.model_selection import train_test_split\n",
        "from sklearn.utils.class_weight import compute_class_weight\n",
        "from bertviz import model_view, head_view"
      ],
      "metadata": {
        "id": "-W-fnmLX1RXn"
      },
      "execution_count": 8,
      "outputs": []
    },
    {
      "cell_type": "markdown",
      "metadata": {
        "id": "qMfcgO1L8j8_"
      },
      "source": [
        "## Carregar e preparar os dados"
      ]
    },
    {
      "cell_type": "markdown",
      "source": [
        "**critic_reviews**\n",
        "- **Show**: titulo do show avaliado\n",
        "- **Sentiment**: Sentimento sendo 0 negativo e 1 positivo (2 classes)\n",
        "- **Review**: conteúdo da avaliação"
      ],
      "metadata": {
        "id": "BRROKpiS4A-9"
      }
    },
    {
      "cell_type": "code",
      "source": [
        "critic_df = pandas.read_csv(\"train_critic.csv\", header=0)\n",
        "test_critic_df = pandas.read_csv(\"test_critic.csv\", header=0)"
      ],
      "metadata": {
        "id": "9ujm6YsZ5ZFe"
      },
      "execution_count": 9,
      "outputs": []
    },
    {
      "cell_type": "markdown",
      "source": [
        "| **Show**                           | **Review**                                                                                       | **Sentiment** |\n",
        "|------------------------------------|--------------------------------------------------------------------------------------------------|---------------|\n",
        "| Bodyguard                          | This has been a brilliant, compulsive, five-star drama...                                        | 1             |\n",
        "| Mad Men                            | With each new season, I try to remind myself that...                                             | 0             |\n",
        "| 1971: The Year That Music Changed Everything | Here's one of the most all-encompassing and stunning...                                         | 1             |\n",
        "| Six Feet Under                     | To me, it was one of the most clever, funny, smart...                                            | 1             |\n",
        "| Pieces of Her                      | Well acted and highly suspenseful, the eight-part drama...                                       | 0             |\n",
        "| ...                                | ...                                                                                              | ...           |\n",
        "| Freaks and Geeks                   | Freaks and Geeks boasts an extremely talented cast...                                            | 1             |\n",
        "| The Gilded Age                     | It's a period piece set in 1882 New York that captures...                                        | 1             |\n",
        "| Joe vs Carole                      | McKinnon and her co-producers must be credited for...                                            | 1             |\n",
        "| Rick and Morty                     | As season openers go, this is a really solid entry...                                            | 1             |\n",
        "| Y: The Last Man                    | Once the show moves past its been-there, watched-that...                                         | 1             |\n"
      ],
      "metadata": {
        "id": "jyiQ9Rci_GWj"
      }
    },
    {
      "cell_type": "markdown",
      "source": [
        "**audience_reviews**\n",
        "- **Show**: titulo do show avaliado\n",
        "- **Rating**: nota do show de 0 a 5, com steps de 0.5 (10 classes)\n",
        "- **Review**: conteúdo da avaliação"
      ],
      "metadata": {
        "id": "d-aMdYUn5bs0"
      }
    },
    {
      "cell_type": "code",
      "execution_count": 10,
      "metadata": {
        "id": "eZ5H4gzR4VSU"
      },
      "outputs": [],
      "source": [
        "audience_df = pandas.read_csv(\"train_audience.csv\", header=0)\n",
        "test_audience_df = pandas.read_csv(\"test_audience.csv\", header=0)"
      ]
    },
    {
      "cell_type": "markdown",
      "source": [
        "| **Show**                | **Review**                                                                                         | **Rating** |\n",
        "|--------------------------|---------------------------------------------------------------------------------------------------|------------|\n",
        "| Game of Thrones          | Lost all guidance without the book. Somehow ruined the entire legacy...                          | 0.5        |\n",
        "| The Book of Boba Fett    | It felt mostly bizarre. Boba Fett himself seems out of place...                                   | 2.5        |\n",
        "| Safe                     | It started well and got me hooked, but it gets dull by the end...                                 | 3.0        |\n",
        "| Midnight Mass            | Here's what you get in this series: Long-winded speeches, some clever moments...                 | 2.0        |\n",
        "| Star Wars: Visions       | I am a big fan of Star Wars and anime, so I really enjoyed this...                                | 4.5        |\n",
        "| ...                      | ...                                                                                               | ...        |\n",
        "| Ozark                    | Don't watch the last season - anticlimactic. Very disappointing...                                | 1.0        |\n",
        "| Game of Thrones          | I wanted to give this higher for the excellent earlier seasons, but the ending ruins it...        | 1.5        |\n",
        "| Attack on Titan          | This season will make Attack on Titan a masterpiece in storytelling and animation...              | 5.0        |\n",
        "| Watchmen                 | Looks terrible. Story is about some sort of random nonsense...                                    | 0.5        |\n",
        "| Peacemaker               | Fun, exciting, well-written, and enjoyable are the words that come to mind for this series...     | 5.0        |\n"
      ],
      "metadata": {
        "id": "E8kFPxw8_gnE"
      }
    },
    {
      "cell_type": "markdown",
      "metadata": {
        "id": "zJqtVALjw3MJ"
      },
      "source": [
        "## Variaveis de configuração\n"
      ]
    },
    {
      "cell_type": "markdown",
      "source": [
        "Variaveis gerais"
      ],
      "metadata": {
        "id": "x9ziHsnA8FXG"
      }
    },
    {
      "cell_type": "code",
      "source": [
        "IS_TEST = True  # Variavel para deixar as runs menores para testar o codigo mais rapido\n",
        "MODEL_NAME = \"prajjwal1/bert-tiny\"  # Escolha o modelo conforme sua necessidade\n",
        "NUM_EPOCHS = 2 # Número de épocas\n",
        "DEVICE = torch.device('cuda' if torch.cuda.is_available() else 'cpu') # Define como rodar dependendo se houver GPU\n",
        "MAX_LEN = 256 # Parametro usado no tokenizer"
      ],
      "metadata": {
        "id": "5s3k3RZw7z0W"
      },
      "execution_count": 11,
      "outputs": []
    },
    {
      "cell_type": "markdown",
      "source": [
        "Variaveis Critic"
      ],
      "metadata": {
        "id": "jP_xFh9y8Hbq"
      }
    },
    {
      "cell_type": "code",
      "execution_count": 12,
      "metadata": {
        "colab": {
          "base_uri": "https://localhost:8080/"
        },
        "id": "zT9WEDxVw3MJ",
        "outputId": "cc64bf84-faad-47d9-986e-22d335d4446a"
      },
      "outputs": [
        {
          "output_type": "stream",
          "name": "stderr",
          "text": [
            "Some weights of BertForSequenceClassification were not initialized from the model checkpoint at prajjwal1/bert-tiny and are newly initialized: ['classifier.bias', 'classifier.weight']\n",
            "You should probably TRAIN this model on a down-stream task to be able to use it for predictions and inference.\n"
          ]
        }
      ],
      "source": [
        "NUM_LABELS_CRITIC = 2 # Número de classes para a base critic\n",
        "TOKENIZER_CRITIC =  AutoTokenizer.from_pretrained(MODEL_NAME, num_labels=NUM_LABELS_CRITIC)  # Carregar o tokenizer para o critic\n",
        "MODEL_CRITIC = AutoModelForSequenceClassification.from_pretrained(MODEL_NAME, num_labels=NUM_LABELS_CRITIC, output_attentions=False, output_hidden_states=False).to(DEVICE)  # Carregar o modelo de classificação para 2 classes"
      ]
    },
    {
      "cell_type": "markdown",
      "source": [
        "Variaveis Audience"
      ],
      "metadata": {
        "id": "CFjTKNG98KVd"
      }
    },
    {
      "cell_type": "code",
      "source": [
        "NUM_LABELS_AUDIENCE = 10 # Número de classes para a base audience\n",
        "TOKENIZER_AUDIENCE =  AutoTokenizer.from_pretrained(MODEL_NAME, num_labels=NUM_LABELS_AUDIENCE)  # Carregar o tokenizer para o audience\n",
        "MODEL_AUDIENCE = AutoModelForSequenceClassification.from_pretrained(MODEL_NAME, num_labels=NUM_LABELS_AUDIENCE, output_attentions=False, output_hidden_states=False).to(DEVICE)   # Carregar o modelo de classificação para 2 classes"
      ],
      "metadata": {
        "id": "P2L6gkhc7qAV",
        "colab": {
          "base_uri": "https://localhost:8080/"
        },
        "outputId": "f4d2c826-01fb-48e8-e7a7-edcdadbbb5a9"
      },
      "execution_count": 13,
      "outputs": [
        {
          "output_type": "stream",
          "name": "stderr",
          "text": [
            "Some weights of BertForSequenceClassification were not initialized from the model checkpoint at prajjwal1/bert-tiny and are newly initialized: ['classifier.bias', 'classifier.weight']\n",
            "You should probably TRAIN this model on a down-stream task to be able to use it for predictions and inference.\n"
          ]
        }
      ]
    },
    {
      "cell_type": "markdown",
      "metadata": {
        "id": "73j5C6qlw3MK"
      },
      "source": [
        "### Preparação dos Conjuntos de Dados\n"
      ]
    },
    {
      "cell_type": "markdown",
      "source": [
        "Preparação dos dados Critic"
      ],
      "metadata": {
        "id": "8n0I2wKx8oGe"
      }
    },
    {
      "cell_type": "code",
      "execution_count": 28,
      "metadata": {
        "id": "pMQarjciw3MK"
      },
      "outputs": [],
      "source": [
        "critic_df = critic_df.replace([numpy.inf, -numpy.inf], numpy.nan)\n",
        "critic_df.dropna(inplace=True)\n",
        "test_critic_df = test_critic_df.replace([numpy.inf, -numpy.inf], numpy.nan)\n",
        "test_critic_df.dropna(inplace=True)\n",
        "distinct_sentiment_labels = critic_df.Sentiment.unique()\n",
        "distinct_sentiment_label_dict = {}\n",
        "for index, label in enumerate(distinct_sentiment_labels):\n",
        "    distinct_sentiment_label_dict[label] = index\n",
        "\n",
        "critic_df['label'] = critic_df.Sentiment.replace(distinct_sentiment_label_dict)\n",
        "critic_df.label = critic_df.label.astype(int)\n",
        "test_critic_df['label'] = test_critic_df.Sentiment.replace(distinct_sentiment_label_dict)\n",
        "test_critic_df.label = test_critic_df.label.astype(int)\n",
        "\n",
        "critic_df['Review'] = critic_df['Review'].astype(str)\n",
        "test_critic_df['Review'] = test_critic_df['Review'].astype(str)\n",
        "\n",
        "train_critic_data, val_critic_data, train_critic_labels, val_critic_labels = train_test_split(critic_df.index.values,\n",
        "                                                                                              critic_df.label.values,\n",
        "                                                                                              test_size=0.2, random_state=42,\n",
        "                                                                                              stratify=critic_df.label.values)\n",
        "\n",
        "# balanceando os dados de treino\n",
        "class_weights_critic = compute_class_weight('balanced', classes=numpy.unique(train_critic_labels), y=train_critic_labels)\n",
        "class_weight_critic_dict = dict(enumerate(class_weights_critic))"
      ]
    },
    {
      "cell_type": "code",
      "source": [
        "critic_df.label.value_counts()"
      ],
      "metadata": {
        "id": "xXRgWPK124dc",
        "colab": {
          "base_uri": "https://localhost:8080/",
          "height": 178
        },
        "outputId": "b6b0a714-d004-410e-d06b-25bfdcc996cb"
      },
      "execution_count": 16,
      "outputs": [
        {
          "output_type": "execute_result",
          "data": {
            "text/plain": [
              "label\n",
              "0    9995\n",
              "1    1836\n",
              "Name: count, dtype: int64"
            ],
            "text/html": [
              "<div>\n",
              "<style scoped>\n",
              "    .dataframe tbody tr th:only-of-type {\n",
              "        vertical-align: middle;\n",
              "    }\n",
              "\n",
              "    .dataframe tbody tr th {\n",
              "        vertical-align: top;\n",
              "    }\n",
              "\n",
              "    .dataframe thead th {\n",
              "        text-align: right;\n",
              "    }\n",
              "</style>\n",
              "<table border=\"1\" class=\"dataframe\">\n",
              "  <thead>\n",
              "    <tr style=\"text-align: right;\">\n",
              "      <th></th>\n",
              "      <th>count</th>\n",
              "    </tr>\n",
              "    <tr>\n",
              "      <th>label</th>\n",
              "      <th></th>\n",
              "    </tr>\n",
              "  </thead>\n",
              "  <tbody>\n",
              "    <tr>\n",
              "      <th>0</th>\n",
              "      <td>9995</td>\n",
              "    </tr>\n",
              "    <tr>\n",
              "      <th>1</th>\n",
              "      <td>1836</td>\n",
              "    </tr>\n",
              "  </tbody>\n",
              "</table>\n",
              "</div><br><label><b>dtype:</b> int64</label>"
            ]
          },
          "metadata": {},
          "execution_count": 16
        }
      ]
    },
    {
      "cell_type": "code",
      "source": [
        " pandas.Series(train_critic_labels).value_counts()"
      ],
      "metadata": {
        "colab": {
          "base_uri": "https://localhost:8080/",
          "height": 147
        },
        "id": "yBpatW8gq-1v",
        "outputId": "1c624bda-0544-4f37-fe91-bf947a6c9ae5"
      },
      "execution_count": 17,
      "outputs": [
        {
          "output_type": "execute_result",
          "data": {
            "text/plain": [
              "0    2008\n",
              "1     359\n",
              "Name: count, dtype: int64"
            ],
            "text/html": [
              "<div>\n",
              "<style scoped>\n",
              "    .dataframe tbody tr th:only-of-type {\n",
              "        vertical-align: middle;\n",
              "    }\n",
              "\n",
              "    .dataframe tbody tr th {\n",
              "        vertical-align: top;\n",
              "    }\n",
              "\n",
              "    .dataframe thead th {\n",
              "        text-align: right;\n",
              "    }\n",
              "</style>\n",
              "<table border=\"1\" class=\"dataframe\">\n",
              "  <thead>\n",
              "    <tr style=\"text-align: right;\">\n",
              "      <th></th>\n",
              "      <th>count</th>\n",
              "    </tr>\n",
              "  </thead>\n",
              "  <tbody>\n",
              "    <tr>\n",
              "      <th>0</th>\n",
              "      <td>2008</td>\n",
              "    </tr>\n",
              "    <tr>\n",
              "      <th>1</th>\n",
              "      <td>359</td>\n",
              "    </tr>\n",
              "  </tbody>\n",
              "</table>\n",
              "</div><br><label><b>dtype:</b> int64</label>"
            ]
          },
          "metadata": {},
          "execution_count": 17
        }
      ]
    },
    {
      "cell_type": "code",
      "source": [
        "encoded_critic_data_train = TOKENIZER_CRITIC.batch_encode_plus(\n",
        "    critic_df.loc[train_critic_data, 'Review'].values.tolist(),\n",
        "    add_special_tokens=True,\n",
        "    return_attention_mask=True,\n",
        "    pad_to_max_length=True,\n",
        "    max_length = MAX_LEN,\n",
        "    return_tensors='pt'\n",
        ")\n",
        "\n",
        "encoded_critic_data_val = TOKENIZER_CRITIC.batch_encode_plus(\n",
        "    critic_df.loc[val_critic_data, 'Review'].values.tolist(),\n",
        "    add_special_tokens=True,\n",
        "    return_attention_mask=True,\n",
        "    pad_to_max_length=True,\n",
        "    max_length = MAX_LEN,\n",
        "    return_tensors='pt'\n",
        ")\n",
        "\n",
        "encoded_critic_data_test = TOKENIZER_CRITIC.batch_encode_plus(\n",
        "    test_critic_df.Review.values.tolist(),\n",
        "    add_special_tokens=True,\n",
        "    return_attention_mask=True,\n",
        "    pad_to_max_length=True,\n",
        "    max_length = MAX_LEN,\n",
        "    return_tensors='pt'\n",
        ")\n",
        "\n",
        "input_ids_train_critic = encoded_critic_data_train['input_ids']\n",
        "input_ids_val_critic = encoded_critic_data_val['input_ids']\n",
        "input_ids_test_critic = encoded_critic_data_test['input_ids']\n",
        "\n",
        "attention_mask_train_critic = encoded_critic_data_train['attention_mask']\n",
        "attention_mask_val_critic = encoded_critic_data_val['attention_mask']\n",
        "attention_mask_test_critic = encoded_critic_data_test['attention_mask']\n",
        "\n",
        "labels_train_critic = torch.tensor(critic_df.loc[train_critic_data, 'label'].values)\n",
        "labels_val_critic = torch.tensor(critic_df.loc[val_critic_data, 'label'].values)\n",
        "labels_test_critic = torch.tensor(test_critic_df.label.values)\n",
        "\n",
        "dataset_train_critic = TensorDataset(input_ids_train_critic, attention_mask_train_critic, labels_train_critic)\n",
        "dataset_val_critic = TensorDataset(input_ids_val_critic, attention_mask_val_critic, labels_val_critic)\n",
        "dataset_test_critic = TensorDataset(input_ids_test_critic, attention_mask_test_critic, labels_test_critic)\n",
        "\n",
        "dataloader_train_critic = DataLoader(dataset_train_critic)\n",
        "dataloader_val_critic = DataLoader(dataset_val_critic)\n",
        "dataloader_test_critic = DataLoader(dataset_test_critic)"
      ],
      "metadata": {
        "id": "jejtSjiM-jY1",
        "colab": {
          "base_uri": "https://localhost:8080/"
        },
        "outputId": "931481d7-eddc-4b44-c4b2-9a73f36af04e"
      },
      "execution_count": 33,
      "outputs": [
        {
          "output_type": "stream",
          "name": "stderr",
          "text": [
            "/usr/local/lib/python3.10/dist-packages/transformers/tokenization_utils_base.py:2834: FutureWarning: The `pad_to_max_length` argument is deprecated and will be removed in a future version, use `padding=True` or `padding='longest'` to pad to the longest sequence in the batch, or use `padding='max_length'` to pad to a max length. In this case, you can give a specific length with `max_length` (e.g. `max_length=45`) or leave max_length to None to pad to the maximal input size of the model (e.g. 512 for Bert).\n",
            "  warnings.warn(\n",
            "/usr/local/lib/python3.10/dist-packages/transformers/tokenization_utils_base.py:2834: FutureWarning: The `pad_to_max_length` argument is deprecated and will be removed in a future version, use `padding=True` or `padding='longest'` to pad to the longest sequence in the batch, or use `padding='max_length'` to pad to a max length. In this case, you can give a specific length with `max_length` (e.g. `max_length=45`) or leave max_length to None to pad to the maximal input size of the model (e.g. 512 for Bert).\n",
            "  warnings.warn(\n"
          ]
        }
      ]
    },
    {
      "cell_type": "markdown",
      "source": [
        "Preparação dos dados Audience"
      ],
      "metadata": {
        "id": "ygXHGAP99zn3"
      }
    },
    {
      "cell_type": "code",
      "source": [
        "audience_df = audience_df.replace([numpy.inf, -numpy.inf], numpy.nan)\n",
        "audience_df.dropna(inplace=True)\n",
        "test_audience_df = test_audience_df.replace([numpy.inf, -numpy.inf], numpy.nan)\n",
        "test_audience_df.dropna(inplace=True)\n",
        "distinct_rating_labels = audience_df.Rating.unique()\n",
        "distinct_rating_label_dict = {}\n",
        "for index, label in enumerate(distinct_rating_labels):\n",
        "    distinct_rating_label_dict[label] = index\n",
        "\n",
        "audience_df['label'] = audience_df.Rating.replace(distinct_rating_label_dict)\n",
        "audience_df.label = audience_df.label.astype(int)\n",
        "test_audience_df['label'] = test_audience_df.Rating.replace(distinct_rating_label_dict)\n",
        "test_audience_df.label = test_audience_df.label.astype(int)\n",
        "\n",
        "audience_df['Review'] = audience_df['Review'].astype(str)\n",
        "test_audience_df['Review'] = test_audience_df['Review'].astype(str)\n",
        "\n",
        "train_audience_data, val_audience_data, train_audience_labels, val_audience_labels = train_test_split(test_audience_df.index.values,\n",
        "                                                                                                      test_audience_df.label.values,\n",
        "                                                                                                      test_size=0.2, random_state=42,\n",
        "                                                                                                      stratify=test_audience_df.label.values)\n",
        "\n",
        "# balanceando os dados de treino\n",
        "class_weights_audience = compute_class_weight('balanced', classes=numpy.unique(train_audience_labels), y=train_audience_labels)\n",
        "class_weight_audience_dict = dict(enumerate(class_weights_audience))"
      ],
      "metadata": {
        "id": "OAJx7Zyy95eS"
      },
      "execution_count": 35,
      "outputs": []
    },
    {
      "cell_type": "code",
      "source": [
        "audience_df.label.value_counts()"
      ],
      "metadata": {
        "id": "p_xB-bD53A0x",
        "colab": {
          "base_uri": "https://localhost:8080/",
          "height": 429
        },
        "outputId": "9c8c5677-6ac1-4d31-e036-e0f0c7b8a5e3"
      },
      "execution_count": 36,
      "outputs": [
        {
          "output_type": "execute_result",
          "data": {
            "text/plain": [
              "label\n",
              "5    23642\n",
              "0     7016\n",
              "8     3869\n",
              "4     3792\n",
              "7     3309\n",
              "3     2690\n",
              "6     2340\n",
              "2     2141\n",
              "9     2040\n",
              "1     1577\n",
              "Name: count, dtype: int64"
            ],
            "text/html": [
              "<div>\n",
              "<style scoped>\n",
              "    .dataframe tbody tr th:only-of-type {\n",
              "        vertical-align: middle;\n",
              "    }\n",
              "\n",
              "    .dataframe tbody tr th {\n",
              "        vertical-align: top;\n",
              "    }\n",
              "\n",
              "    .dataframe thead th {\n",
              "        text-align: right;\n",
              "    }\n",
              "</style>\n",
              "<table border=\"1\" class=\"dataframe\">\n",
              "  <thead>\n",
              "    <tr style=\"text-align: right;\">\n",
              "      <th></th>\n",
              "      <th>count</th>\n",
              "    </tr>\n",
              "    <tr>\n",
              "      <th>label</th>\n",
              "      <th></th>\n",
              "    </tr>\n",
              "  </thead>\n",
              "  <tbody>\n",
              "    <tr>\n",
              "      <th>5</th>\n",
              "      <td>23642</td>\n",
              "    </tr>\n",
              "    <tr>\n",
              "      <th>0</th>\n",
              "      <td>7016</td>\n",
              "    </tr>\n",
              "    <tr>\n",
              "      <th>8</th>\n",
              "      <td>3869</td>\n",
              "    </tr>\n",
              "    <tr>\n",
              "      <th>4</th>\n",
              "      <td>3792</td>\n",
              "    </tr>\n",
              "    <tr>\n",
              "      <th>7</th>\n",
              "      <td>3309</td>\n",
              "    </tr>\n",
              "    <tr>\n",
              "      <th>3</th>\n",
              "      <td>2690</td>\n",
              "    </tr>\n",
              "    <tr>\n",
              "      <th>6</th>\n",
              "      <td>2340</td>\n",
              "    </tr>\n",
              "    <tr>\n",
              "      <th>2</th>\n",
              "      <td>2141</td>\n",
              "    </tr>\n",
              "    <tr>\n",
              "      <th>9</th>\n",
              "      <td>2040</td>\n",
              "    </tr>\n",
              "    <tr>\n",
              "      <th>1</th>\n",
              "      <td>1577</td>\n",
              "    </tr>\n",
              "  </tbody>\n",
              "</table>\n",
              "</div><br><label><b>dtype:</b> int64</label>"
            ]
          },
          "metadata": {},
          "execution_count": 36
        }
      ]
    },
    {
      "cell_type": "code",
      "source": [
        " pandas.Series(train_audience_labels).value_counts()"
      ],
      "metadata": {
        "id": "kwv01TxsQpTg",
        "colab": {
          "base_uri": "https://localhost:8080/",
          "height": 398
        },
        "outputId": "199f9dd2-73ee-42db-cb32-002c68456351"
      },
      "execution_count": 37,
      "outputs": [
        {
          "output_type": "execute_result",
          "data": {
            "text/plain": [
              "5    4613\n",
              "0    1439\n",
              "4     779\n",
              "8     766\n",
              "7     707\n",
              "3     547\n",
              "6     509\n",
              "2     430\n",
              "9     383\n",
              "1     311\n",
              "Name: count, dtype: int64"
            ],
            "text/html": [
              "<div>\n",
              "<style scoped>\n",
              "    .dataframe tbody tr th:only-of-type {\n",
              "        vertical-align: middle;\n",
              "    }\n",
              "\n",
              "    .dataframe tbody tr th {\n",
              "        vertical-align: top;\n",
              "    }\n",
              "\n",
              "    .dataframe thead th {\n",
              "        text-align: right;\n",
              "    }\n",
              "</style>\n",
              "<table border=\"1\" class=\"dataframe\">\n",
              "  <thead>\n",
              "    <tr style=\"text-align: right;\">\n",
              "      <th></th>\n",
              "      <th>count</th>\n",
              "    </tr>\n",
              "  </thead>\n",
              "  <tbody>\n",
              "    <tr>\n",
              "      <th>5</th>\n",
              "      <td>4613</td>\n",
              "    </tr>\n",
              "    <tr>\n",
              "      <th>0</th>\n",
              "      <td>1439</td>\n",
              "    </tr>\n",
              "    <tr>\n",
              "      <th>4</th>\n",
              "      <td>779</td>\n",
              "    </tr>\n",
              "    <tr>\n",
              "      <th>8</th>\n",
              "      <td>766</td>\n",
              "    </tr>\n",
              "    <tr>\n",
              "      <th>7</th>\n",
              "      <td>707</td>\n",
              "    </tr>\n",
              "    <tr>\n",
              "      <th>3</th>\n",
              "      <td>547</td>\n",
              "    </tr>\n",
              "    <tr>\n",
              "      <th>6</th>\n",
              "      <td>509</td>\n",
              "    </tr>\n",
              "    <tr>\n",
              "      <th>2</th>\n",
              "      <td>430</td>\n",
              "    </tr>\n",
              "    <tr>\n",
              "      <th>9</th>\n",
              "      <td>383</td>\n",
              "    </tr>\n",
              "    <tr>\n",
              "      <th>1</th>\n",
              "      <td>311</td>\n",
              "    </tr>\n",
              "  </tbody>\n",
              "</table>\n",
              "</div><br><label><b>dtype:</b> int64</label>"
            ]
          },
          "metadata": {},
          "execution_count": 37
        }
      ]
    },
    {
      "cell_type": "code",
      "source": [
        "encoded_audience_data_train = TOKENIZER_AUDIENCE.batch_encode_plus(\n",
        "    audience_df.loc[train_audience_data, 'Review'].values.tolist(),\n",
        "    add_special_tokens=True,\n",
        "    return_attention_mask=True,\n",
        "    pad_to_max_length=True,\n",
        "    max_length = MAX_LEN,\n",
        "    return_tensors='pt'\n",
        ")\n",
        "\n",
        "encoded_audience_data_val = TOKENIZER_AUDIENCE.batch_encode_plus(\n",
        "    audience_df.loc[val_audience_data, 'Review'].values.tolist(),\n",
        "    add_special_tokens=True,\n",
        "    return_attention_mask=True,\n",
        "    pad_to_max_length=True,\n",
        "    max_length = MAX_LEN,\n",
        "    return_tensors='pt'\n",
        ")\n",
        "\n",
        "encoded_audience_data_test = TOKENIZER_AUDIENCE.batch_encode_plus(\n",
        "    test_audience_df.Review.values.tolist(),\n",
        "    add_special_tokens=True,\n",
        "    return_attention_mask=True,\n",
        "    pad_to_max_length=True,\n",
        "    max_length = MAX_LEN,\n",
        "    return_tensors='pt'\n",
        ")\n",
        "\n",
        "input_ids_train_audience = encoded_audience_data_train['input_ids']\n",
        "input_ids_val_audience = encoded_audience_data_val['input_ids']\n",
        "input_ids_test_audience = encoded_audience_data_test['input_ids']\n",
        "\n",
        "attention_mask_train_audience = encoded_audience_data_train['attention_mask']\n",
        "attention_mask_val_audience = encoded_audience_data_val['attention_mask']\n",
        "attention_mask_test_audience = encoded_audience_data_test['attention_mask']\n",
        "\n",
        "\n",
        "labels_train_audience = torch.tensor(audience_df.loc[train_audience_data, 'label'].values)\n",
        "labels_val_audience = torch.tensor(audience_df.loc[val_audience_data, 'label'].values)\n",
        "labels_test_audience = torch.tensor(test_audience_df.label.values)\n",
        "\n",
        "dataset_train_audience = TensorDataset(input_ids_train_audience, attention_mask_train_audience, labels_train_audience)\n",
        "dataset_val_audience = TensorDataset(input_ids_val_audience, attention_mask_val_audience, labels_val_audience)\n",
        "dataset_test_audience = TensorDataset(input_ids_test_audience, attention_mask_test_audience, labels_test_audience)\n",
        "\n",
        "dataloader_train_audience = DataLoader(dataset_train_audience)\n",
        "dataloader_val_audience = DataLoader(dataset_val_audience)\n",
        "dataloader_test_audience = DataLoader(dataset_test_audience)"
      ],
      "metadata": {
        "id": "CYOKKCw0CALZ",
        "colab": {
          "base_uri": "https://localhost:8080/"
        },
        "outputId": "3d4c78b7-22cb-4172-a9c0-cb855a3ffffb"
      },
      "execution_count": 39,
      "outputs": [
        {
          "output_type": "stream",
          "name": "stderr",
          "text": [
            "/usr/local/lib/python3.10/dist-packages/transformers/tokenization_utils_base.py:2834: FutureWarning: The `pad_to_max_length` argument is deprecated and will be removed in a future version, use `padding=True` or `padding='longest'` to pad to the longest sequence in the batch, or use `padding='max_length'` to pad to a max length. In this case, you can give a specific length with `max_length` (e.g. `max_length=45`) or leave max_length to None to pad to the maximal input size of the model (e.g. 512 for Bert).\n",
            "  warnings.warn(\n",
            "/usr/local/lib/python3.10/dist-packages/transformers/tokenization_utils_base.py:2834: FutureWarning: The `pad_to_max_length` argument is deprecated and will be removed in a future version, use `padding=True` or `padding='longest'` to pad to the longest sequence in the batch, or use `padding='max_length'` to pad to a max length. In this case, you can give a specific length with `max_length` (e.g. `max_length=45`) or leave max_length to None to pad to the maximal input size of the model (e.g. 512 for Bert).\n",
            "  warnings.warn(\n"
          ]
        }
      ]
    },
    {
      "cell_type": "markdown",
      "metadata": {
        "id": "PhgoibF2w3ML"
      },
      "source": [
        "### Funções auxiliares\n"
      ]
    },
    {
      "cell_type": "markdown",
      "source": [
        "**Função Test** para testar o modelo, parametros são modelo e o dataloader (inputs, attention masks e labels) usados na avaliação. Retorna o loss, o array com a probabilidade de cada classe possível e os labels verdade usados."
      ],
      "metadata": {
        "id": "aAcKPEK9DMJp"
      }
    },
    {
      "cell_type": "code",
      "execution_count": 40,
      "metadata": {
        "tags": [],
        "id": "bBMvVPzjybxT"
      },
      "outputs": [],
      "source": [
        "def Test(model, dataloader, device):\n",
        "    model.eval()\n",
        "\n",
        "    loss_total = 0\n",
        "    pred, label = [], []\n",
        "\n",
        "    for batch in dataloader:\n",
        "        batch = tuple(b.to(device) for b in batch)\n",
        "        inputs = {\n",
        "                    'input_ids': batch[0].to(device),\n",
        "                    'attention_mask': batch[1].to(device),\n",
        "                    'labels': batch[2].to(device)\n",
        "                  }\n",
        "        with torch.no_grad():\n",
        "            outputs = model(**inputs)\n",
        "\n",
        "        loss = outputs[0]\n",
        "        logits = outputs[1]\n",
        "        loss_total = loss_total + loss.item()\n",
        "\n",
        "        logits = logits.detach().cpu().numpy()\n",
        "        label_ids = inputs['labels'].cpu().numpy()\n",
        "        pred.append(logits)\n",
        "        label.append(label_ids)\n",
        "\n",
        "    average_loss = loss_total/len(dataloader)\n",
        "    pred = numpy.concatenate(pred, axis=0)\n",
        "    label = numpy.concatenate(label, axis=0)\n",
        "    return average_loss, pred, label\n"
      ]
    },
    {
      "cell_type": "markdown",
      "source": [
        "**Função Treino** para treinar o modelo, parametros são modelo, nome do modelo, o dataloader de treino (inputs, attention masks e labels), o dataloader de validação, o otimizador, um scheduler (outro tipo de otimizador), numero de épocas e o device (cpu ou gpu) usados no treino. Retorna o modelo treinado."
      ],
      "metadata": {
        "id": "RW6jHXKCj5es"
      }
    },
    {
      "cell_type": "code",
      "source": [
        "def Train(model, model_name, dataloader_train, dataloader_val, optimizer, scheduler, num_epochs, device, class_weights):\n",
        "  train_loss_list = []\n",
        "  val_loss_list = []\n",
        "  train_accuracy_list = []\n",
        "  val_accuracy_list = []\n",
        "  train_balanced_accuracy_list = []\n",
        "  val_balanced_accuracy_list = []\n",
        "\n",
        "  criterion = torch.nn.CrossEntropyLoss(weight=torch.tensor(class_weights, dtype=torch.float32).to(device))\n",
        "\n",
        "  for epoch in range(1, num_epochs + 1):\n",
        "      model.train()\n",
        "\n",
        "      loss_total = 0\n",
        "      all_preds = []\n",
        "      all_labels = []\n",
        "\n",
        "      for batch in dataloader_train:\n",
        "          model.zero_grad()\n",
        "\n",
        "          batch = tuple(b.to(device) for b in batch)\n",
        "\n",
        "          inputs = {\n",
        "                      'input_ids': batch[0].to(device),\n",
        "                      'attention_mask': batch[1].to(device),\n",
        "                      'labels': batch[2].to(device)\n",
        "                    }\n",
        "          outputs = model(**inputs)\n",
        "\n",
        "          loss = criterion(outputs[1], inputs['labels'])\n",
        "          loss_total = loss_total + loss.item()\n",
        "          loss.backward()\n",
        "\n",
        "          torch.nn.utils.clip_grad_norm_(model.parameters(), 1.0).to(device)\n",
        "\n",
        "          optimizer.step()\n",
        "          scheduler.step()\n",
        "\n",
        "          _, preds = torch.max(outputs[1], 1)  # Get predicted class labels\n",
        "          all_preds.extend(preds.cpu().numpy())\n",
        "          all_labels.extend(batch[2].cpu().numpy())\n",
        "\n",
        "      torch.save(model.state_dict(), f'finetuned_{model_name}_{epoch}.model')\n",
        "      print(f'Epoca {epoch}')\n",
        "\n",
        "      loss_avg_train = loss_total/len(dataloader_train)\n",
        "      train_loss_list.append(loss_avg_train)\n",
        "      print(f'Traning Loss: {loss_avg_train}')\n",
        "      val_loss, preds, labels = Test(model, dataloader_val, device)\n",
        "      val_loss_list.append(val_loss)\n",
        "      print(f'Validation Loss: {val_loss}')\n",
        "\n",
        "      train_accuracy = accuracy_score(all_labels, all_preds)\n",
        "      train_accuracy_list.append(train_accuracy)\n",
        "      print(f'Train Accuracy: {train_accuracy}')\n",
        "      preds_array = numpy.argmax(preds, axis=1)\n",
        "      val_accuracy = accuracy_score(labels, preds_array)\n",
        "      val_accuracy_list.append(val_accuracy)\n",
        "      print(f'Validation Accuracy: {val_accuracy}')\n",
        "\n",
        "      train_balanced_accuracy = balanced_accuracy_score(all_labels, all_preds)\n",
        "      train_balanced_accuracy_list.append(train_balanced_accuracy)\n",
        "      print(f'Train Balanced Accuracy: {train_balanced_accuracy}')\n",
        "      val_balanced_accuracy = balanced_accuracy_score(labels, preds_array)\n",
        "      val_balanced_accuracy_list.append(val_balanced_accuracy)\n",
        "      print(f'Validation Balanced Accuracy: {val_balanced_accuracy}')\n",
        "\n",
        "  data = {'train_loss': train_loss_list, 'val_loss': val_loss_list, 'train_accuracy': train_accuracy_list, 'val_accuracy': val_accuracy_list, 'train_balanced_accuracy': train_balanced_accuracy_list, 'val_balanced_accuracy': val_balanced_accuracy_list}\n",
        "  df = pandas.DataFrame(data)\n",
        "\n",
        "  return model, df"
      ],
      "metadata": {
        "id": "8WyjA1dLH6GA"
      },
      "execution_count": 44,
      "outputs": []
    },
    {
      "cell_type": "markdown",
      "source": [
        "**Função de Plot da Matriz de Confusão** para analisar o modelo, parametros labels verdade, classes preditas, titulo e lista de possiveis classes. Plota a matriz."
      ],
      "metadata": {
        "id": "W0M7NgHJkicV"
      }
    },
    {
      "cell_type": "code",
      "source": [
        "def ConfusionMatrix(labels, preds_array, title, classes_list):\n",
        "  cm = confusion_matrix(labels, preds_array)\n",
        "  cm_normalized = cm.astype('float') / len(labels)\n",
        "\n",
        "  plot.figure(figsize=(8, 6))\n",
        "  seaborn.heatmap(cm_normalized, annot=True, fmt=\".0%\", cmap=\"Blues\",\n",
        "              xticklabels=classes_list, yticklabels=classes_list)\n",
        "  plot.xlabel(\"Predicted Labels\")\n",
        "  plot.ylabel(\"True Labels\")\n",
        "  plot.title(title)\n",
        "  plot.show()"
      ],
      "metadata": {
        "id": "ZJnycd-Id12x"
      },
      "execution_count": 42,
      "outputs": []
    },
    {
      "cell_type": "markdown",
      "metadata": {
        "id": "LC01Yf6iw3MM"
      },
      "source": [
        "### Treino Modelo"
      ]
    },
    {
      "cell_type": "markdown",
      "source": [
        "Modelo Critic"
      ],
      "metadata": {
        "id": "f4Hd5oQOII-b"
      }
    },
    {
      "cell_type": "code",
      "execution_count": 45,
      "metadata": {
        "tags": [],
        "id": "VfBev8v-ybxU",
        "colab": {
          "base_uri": "https://localhost:8080/"
        },
        "outputId": "f1210235-dea8-461a-c6ec-617f72514fe7"
      },
      "outputs": [
        {
          "output_type": "stream",
          "name": "stdout",
          "text": [
            "Epoca 1\n",
            "Traning Loss: 0.6380592279727803\n",
            "Validation Loss: 0.7076864617128739\n",
            "Train Accuracy: 0.8436179205409975\n",
            "Validation Accuracy: 0.8449514152936206\n",
            "Train Balanced Accuracy: 0.49931207004377737\n",
            "Validation Balanced Accuracy: 0.5\n",
            "Epoca 2\n",
            "Traning Loss: 0.7003747894925034\n",
            "Validation Loss: 0.7135966159371847\n",
            "Train Accuracy: 0.8447802197802198\n",
            "Validation Accuracy: 0.8449514152936206\n",
            "Train Balanced Accuracy: 0.5\n",
            "Validation Balanced Accuracy: 0.5\n"
          ]
        }
      ],
      "source": [
        "optimizer_critic = AdamW(MODEL_CRITIC.parameters(),\n",
        "                  lr=1e-5)\n",
        "\n",
        "num_training_steps = len(dataloader_train_critic) * NUM_EPOCHS\n",
        "\n",
        "num_warmup_steps = int(0.1 * num_training_steps)\n",
        "\n",
        "scheduler_critic = get_scheduler(\n",
        "    \"linear\",\n",
        "    optimizer=optimizer_critic,\n",
        "    num_warmup_steps=num_warmup_steps,\n",
        "    num_training_steps=num_training_steps\n",
        ")\n",
        "\n",
        "MODEL_CRITIC, model_critic_train_results = Train(MODEL_CRITIC, 'CRITIC', dataloader_train_critic, dataloader_val_critic, optimizer_critic, scheduler_critic, NUM_EPOCHS, DEVICE, class_weights_critic)"
      ]
    },
    {
      "cell_type": "code",
      "source": [
        "model_critic_train_results.plot(kind='line')\n",
        "plot.title('Loss e Acuracia Critic pós Treino')\n",
        "plot.xticks(range(0, len(model_critic_train_results), 1))\n",
        "plot.xlabel('Época')\n",
        "plot.ylabel('Valores')\n",
        "plot.legend(loc='best')\n",
        "plot.show()"
      ],
      "metadata": {
        "id": "5taylaC0tSRY",
        "colab": {
          "base_uri": "https://localhost:8080/",
          "height": 474
        },
        "outputId": "cbd4ea88-9c9f-4ec4-8380-6cb1c829c6b8"
      },
      "execution_count": 46,
      "outputs": [
        {
          "output_type": "display_data",
          "data": {
            "text/plain": [
              "<Figure size 640x480 with 1 Axes>"
            ],
            "image/png": "[encoded data removed]"
          },
          "metadata": {}
        }
      ]
    },
    {
      "cell_type": "markdown",
      "source": [
        "| Época | Treino Loss | Validação Loss | Treino Acurácia | Validação Acurácia | Treino Acurácia Balanceada | Validação Acurácia Balanceada |\n",
        "|-------|-------------|----------------|------------------|---------------------|----------------------------|-------------------------------|\n",
        "| 1     | 0.7072      | 0.6993         | 0.5012           | 0.5007              | 0.5014                     | 0.5000                        |\n",
        "| 2     | 0.7001      | 0.6822         | 0.5080           | 0.5497              | 0.5082                     | 0.5493                        |\n",
        "| 3     | 0.6796      | 0.6710         | 0.5632           | 0.5769              | 0.5632                     | 0.5773                        |\n",
        "| 4     | 0.6953      | 1.1087         | 0.6360           | 0.5918              | 0.6360                     | 0.5922                        |\n",
        "| 5     | 0.9978      | 1.4480         | 0.6793           | 0.6231              | 0.6793                     | 0.6234                        |\n",
        "| 6     | 1.0355      | 1.4784         | 0.7208           | 0.6490              | 0.7208                     | 0.6492                        |\n",
        "| 7     | 0.9492      | 1.5060         | 0.7569           | 0.6571              | 0.7569                     | 0.6574                        |\n",
        "| 8     | 0.8916      | 1.5254         | 0.7838           | 0.6735              | 0.7838                     | 0.6737                        |\n",
        "| 9     | 0.8183      | 1.5495         | 0.8104           | 0.6816              | 0.8103                     | 0.6818                        |\n",
        "| 10    | 0.7664      | 1.5677         | 0.8267           | 0.6844              | 0.8267                     | 0.6845                        |\n",
        "| 11    | 0.7232      | 1.4685         | 0.8407           | 0.7088              | 0.8407                     | 0.7089                        |\n",
        "| 12    | 0.6697      | 1.5857         | 0.8560           | 0.6966              | 0.8560                     | 0.6967                        |\n",
        "| 13    | 0.6402      | 1.6149         | 0.8645           | 0.6939              | 0.8645                     | 0.6940                        |\n",
        "| 14    | 0.5496      | 1.6320         | 0.8880           | 0.6939              | 0.8880                     | 0.6940                        |\n",
        "| 15    | 0.5590      | 1.7134         | 0.8859           | 0.6939              | 0.8859                     | 0.6940                        |\n",
        "| 16    | 0.4524      | 1.7934         | 0.9105           | 0.6857              | 0.9104                     | 0.6859                        |\n",
        "| 17    | 0.4497      | 1.8154         | 0.9105           | 0.6952              | 0.9104                     | 0.6954                        |\n",
        "| 18    | 0.4377      | 1.8528         | 0.9145           | 0.6966              | 0.9145                     | 0.6968                        |\n",
        "| 19    | 0.4248      | 1.8596         | 0.9179           | 0.6939              | 0.9179                     | 0.6940                        |\n",
        "| 20    | 0.4068      | 1.8974         | 0.9227           | 0.6966              | 0.9227                     | 0.6968                        |\n",
        "| 21    | 0.3879      | 1.8596         | 0.9278           | 0.7034              | 0.9278                     | 0.7035                        |\n",
        "| 22    | 0.3692      | 1.9001         | 0.9302           | 0.7048              | 0.9302                     | 0.7049                        |\n",
        "| 23    | 0.3389      | 1.9309         | 0.9336           | 0.7129              | 0.9336                     | 0.7131                        |\n",
        "| 24    | 0.3178      | 2.0429         | 0.9374           | 0.6871              | 0.9373                     | 0.6873                        |\n",
        "| 25    | 0.2867      | 2.0153         | 0.9479           | 0.6980              | 0.9479                     | 0.6981                        |\n",
        "| 26    | 0.2689      | 2.0718         | 0.9520           | 0.6966              | 0.9520                     | 0.6968                        |\n",
        "| 27    | 0.2876      | 2.0810         | 0.9506           | 0.6993              | 0.9506                     | 0.6995                        |\n",
        "| 28    | 0.2565      | 2.0449         | 0.9527           | 0.7061              | 0.9527                     | 0.7063                        |\n",
        "| 29    | 0.2689      | 2.0771         | 0.9510           | 0.7034              | 0.9510                     | 0.7036                        |\n",
        "| 30    | 0.2439      | 2.0268         | 0.9561           | 0.7224              | 0.9561                     | 0.7226                        |\n",
        "| 31    | 0.2469      | 2.0382         | 0.9557           | 0.7156              | 0.9557                     | 0.7158                        |\n",
        "| 32    | 0.2230      | 2.0593         | 0.9605           | 0.7170              | 0.9605                     | 0.7171                        |\n",
        "| 33    | 0.2595      | 2.0662         | 0.9551           | 0.7116              | 0.9551                     | 0.7117                        |\n",
        "| 34    | 0.2290      | 2.0728         | 0.9595           | 0.7116              | 0.9595                     | 0.7117                        |\n",
        "| 35    | 0.2220      | 2.0652         | 0.9629           | 0.7197              | 0.9629                     | 0.7198                        |\n"
      ],
      "metadata": {
        "id": "cn8uEovVF4YJ"
      }
    },
    {
      "cell_type": "markdown",
      "source": [
        "Modelo Audience"
      ],
      "metadata": {
        "id": "eAzZvkjFIPbd"
      }
    },
    {
      "cell_type": "code",
      "source": [
        "optimizer_audience = AdamW(MODEL_AUDIENCE.parameters(),\n",
        "                  lr=1e-5)\n",
        "\n",
        "num_training_steps = len(dataloader_train_audience) * NUM_EPOCHS\n",
        "\n",
        "num_warmup_steps = int(0.1 * num_training_steps)\n",
        "\n",
        "scheduler_audience = get_scheduler(\n",
        "    \"linear\",\n",
        "    optimizer=optimizer_audience,\n",
        "    num_warmup_steps=num_warmup_steps,\n",
        "    num_training_steps=num_training_steps\n",
        ")\n",
        "\n",
        "MODEL_AUDIENCE, model_audience_train_results = Train(MODEL_AUDIENCE, 'AUDIENCE', dataloader_train_audience, dataloader_val_audience, optimizer_audience, scheduler_audience, NUM_EPOCHS, DEVICE, class_weights_audience)"
      ],
      "metadata": {
        "id": "Nl5GE-HmIM1r",
        "colab": {
          "base_uri": "https://localhost:8080/"
        },
        "outputId": "fe24e83d-43ab-40e1-f8fe-bac0c2bedc40"
      },
      "execution_count": 47,
      "outputs": [
        {
          "output_type": "stream",
          "name": "stdout",
          "text": [
            "Epoca 1\n",
            "Traning Loss: 1.8602758702693756\n",
            "Validation Loss: 1.686085585560202\n",
            "Train Accuracy: 0.41949637542922547\n",
            "Validation Accuracy: 0.45249904616558567\n",
            "Train Balanced Accuracy: 0.1086410099578295\n",
            "Validation Balanced Accuracy: 0.1468292694710296\n",
            "Epoca 2\n",
            "Traning Loss: 1.7215248615996546\n",
            "Validation Loss: 1.7567572411887407\n",
            "Train Accuracy: 0.4812094620373903\n",
            "Validation Accuracy: 0.48454788248760017\n",
            "Train Balanced Accuracy: 0.15653007573702768\n",
            "Validation Balanced Accuracy: 0.15796620077589413\n"
          ]
        }
      ]
    },
    {
      "cell_type": "markdown",
      "source": [
        "| Epoca | Training Loss | Validation Loss | Train Accuracy | Validation Accuracy | Train Balanced Accuracy | Validation Balanced Accuracy |\n",
        "|-------|---------------|-----------------|----------------|----------------------|--------------------------|-----------------------------|\n",
        "| 1     | 2.3076        | 2.2952          | 0.1100         | 0.1170              | 0.1100                  | 0.1171                      |\n",
        "| 2     | 2.2756        | 2.2313          | 0.1344         | 0.1636              | 0.1343                  | 0.1637                      |\n",
        "| 3     | 2.1227        | 2.0159          | 0.1994         | 0.2257              | 0.1994                  | 0.2258                      |\n",
        "| 4     | 1.9660        | 1.9382          | 0.2428         | 0.2438              | 0.2428                  | 0.2439                      |\n",
        "| 5     | 1.8965        | 1.9425          | 0.2689         | 0.2657              | 0.2689                  | 0.2658                      |\n",
        "| 6     | 1.8691        | 1.9683          | 0.2845         | 0.2555              | 0.2845                  | 0.2556                      |\n",
        "| 7     | 1.8491        | 1.9938          | 0.3074         | 0.2670              | 0.3074                  | 0.2671                      |\n",
        "| 8     | 1.8224        | 2.0254          | 0.3198         | 0.2768              | 0.3198                  | 0.2769                      |\n",
        "| 9     | 1.7977        | 2.0491          | 0.3387         | 0.2730              | 0.3387                  | 0.2731                      |\n",
        "| 10    | 1.7690        | 2.0960          | 0.3585         | 0.2663              | 0.3585                  | 0.2664                      |\n",
        "| 11    | 1.7298        | 2.1217          | 0.3756         | 0.2651              | 0.3755                  | 0.2651                      |\n",
        "| 12    | 1.7112        | 2.1443          | 0.3897         | 0.2777              | 0.3897                  | 0.2778                      |\n",
        "| 13    | 1.7004        | 2.1766          | 0.3976         | 0.2730              | 0.3976                  | 0.2731                      |\n",
        "| 14    | 1.6594        | 2.2213          | 0.4181         | 0.2768              | 0.4181                  | 0.2769                      |\n",
        "| 15    | 1.6485        | 2.2794          | 0.4216         | 0.2765              | 0.4216                  | 0.2765                      |\n",
        "| 16    | 1.6385        | 2.3401          | 0.4402         | 0.2708              | 0.4401                  | 0.2708                      |\n",
        "| 17    | 1.6083        | 2.3982          | 0.4459         | 0.2717              | 0.4458                  | 0.2718                      |\n",
        "| 18    | 1.5867        | 2.3740          | 0.4595         | 0.2708              | 0.4595                  | 0.2708                      |\n",
        "| 19    | 1.5657        | 2.4128          | 0.4654         | 0.2628              | 0.4654                  | 0.2629                      |\n",
        "| 20    | 1.5528        | 2.4242          | 0.4776         | 0.2632              | 0.4776                  | 0.2632                      |\n",
        "| 21    | 1.5531        | 2.4692          | 0.4757         | 0.2682              | 0.4757                  | 0.2683                      |\n",
        "| 22    | 1.5250        | 2.4689          | 0.4894         | 0.2676              | 0.4894                  | 0.2676                      |\n",
        "| 23    | 1.5018        | 2.5186          | 0.4937         | 0.2746              | 0.4937                  | 0.2746                      |\n",
        "| 24    | 1.4831        | 2.5333          | 0.5093         | 0.2689              | 0.5093                  | 0.2689                      |\n",
        "| 25    | 1.4878        | 2.5414          | 0.5034         | 0.2651              | 0.5034                  | 0.2651                      |\n",
        "| 26    | 1.4657        | 2.5630          | 0.5167         | 0.2651              | 0.5167                  | 0.2651                      |\n",
        "| 27    | 1.4639        | 2.5902          | 0.5160         | 0.2692              | 0.5160                  | 0.2692                      |\n",
        "| 28    | 1.4489        | 2.6192          | 0.5295         | 0.2692              | 0.5295                  | 0.2692                      |\n",
        "| 29    | 1.4481        | 2.6046          | 0.5287         | 0.2711              | 0.5287                  | 0.2711                      |\n",
        "| 30    | 1.4522        | 2.6461          | 0.5249         | 0.2733              | 0.5249                  | 0.2733                      |\n",
        "| 31    | 1.4476        | 2.6654          | 0.5251         | 0.2692              | 0.5251                  | 0.2692                      |\n",
        "| 32    | 1.4314        | 2.6581          | 0.5363         | 0.2685              | 0.5363                  | 0.2686                      |\n",
        "| 33    | 1.4363        | 2.6855          | 0.5287         | 0.2730              | 0.5287                  | 0.2730                      |\n",
        "| 34    | 1.4286        | 2.6901          | 0.5362         | 0.2724              | 0.5362                  | 0.2724                      |\n",
        "| 35    | 1.4139        | 2.6866          | 0.5409         | 0.2695              | 0.5409                  | 0.2695                      |\n"
      ],
      "metadata": {
        "id": "3hZPIBAjsYvj"
      }
    },
    {
      "cell_type": "code",
      "source": [
        "model_audience_train_results.plot(kind='line')\n",
        "plot.title('Loss e Acuracia Audience pós Treino')\n",
        "plot.xticks(range(0, len(model_audience_train_results), 1))\n",
        "plot.xlabel('Época')\n",
        "plot.ylabel('Valores')\n",
        "plot.legend(loc='best')\n",
        "plot.show()"
      ],
      "metadata": {
        "id": "FLcKPAVfvR-I",
        "colab": {
          "base_uri": "https://localhost:8080/",
          "height": 474
        },
        "outputId": "424b1aa5-6f40-431b-de3d-0baecccd13f2"
      },
      "execution_count": 48,
      "outputs": [
        {
          "output_type": "display_data",
          "data": {
            "text/plain": [
              "<Figure size 640x480 with 1 Axes>"
            ],
            "image/png": "[encoded data removed]"
          },
          "metadata": {}
        }
      ]
    },
    {
      "cell_type": "markdown",
      "metadata": {
        "id": "mmhWYVuxw3MM"
      },
      "source": [
        "### Avaliação do Modelo no Conjunto Test"
      ]
    },
    {
      "cell_type": "markdown",
      "source": [
        "Modelo Critic"
      ],
      "metadata": {
        "id": "0jA-Gt3oI7Hh"
      }
    },
    {
      "cell_type": "code",
      "execution_count": null,
      "metadata": {
        "tags": [],
        "id": "WcG2_Tk9ybxV"
      },
      "outputs": [],
      "source": [
        "best_epoch_critic = 1\n",
        "model_config_critic = f'finetuned_CRITIC_{best_epoch_critic}.model'\n",
        "best_model_critic = AutoModelForSequenceClassification.from_pretrained(MODEL_NAME, num_labels=NUM_LABELS_CRITIC, output_attentions=True, output_hidden_states=False)\n",
        "best_model_critic.load_state_dict(torch.load(model_config_critic, map_location=torch.device('cpu')))\n",
        "best_model_critic.to(DEVICE)\n",
        "\n",
        "print(\"Melhor modelo\")\n",
        "_, preds, labels = Test(best_model_critic, dataloader_test_critic, DEVICE)\n",
        "print(f'Test Loss: {_}')\n",
        "preds_array = numpy.argmax(preds, axis=1)\n",
        "val_accuracy_2 = accuracy_score(labels, preds_array)\n",
        "print(f'Test Accuracy: {val_accuracy_2}')\n",
        "val_balanced_accuracy_2 = balanced_accuracy_score(labels, preds_array)\n",
        "print(f'Test Balanced Accuracy: {val_balanced_accuracy_2}')\n",
        "\n",
        "ConfusionMatrix(labels, preds_array, title=\"Matrix de confusão - Modelo Critic\", classes_list=distinct_sentiment_labels)"
      ]
    },
    {
      "cell_type": "markdown",
      "source": [
        "Modelo Audience"
      ],
      "metadata": {
        "id": "z92QdFJbJrT4"
      }
    },
    {
      "cell_type": "code",
      "source": [
        "best_epoch_audience = 1\n",
        "model_config_audience = f'finetuned_AUDIENCE_{best_epoch_audience}.model'\n",
        "best_model_audience = AutoModelForSequenceClassification.from_pretrained(MODEL_NAME, num_labels=NUM_LABELS_AUDIENCE, output_attentions=True, output_hidden_states=False)\n",
        "best_model_audience.load_state_dict(torch.load(model_config_audience, map_location=torch.device('cpu')))\n",
        "best_model_audience.to(DEVICE)\n",
        "\n",
        "print(\"Melhor modelo\")\n",
        "_, preds, labels = Test(best_model_audience, dataloader_test_audience, DEVICE)\n",
        "print(f'Test Loss: {_}')\n",
        "preds_array = numpy.argmax(preds, axis=1)\n",
        "val_accuracy_2 = accuracy_score(labels, preds_array)\n",
        "print(f'Test Accuracy: {val_accuracy_2}')\n",
        "val_balanced_accuracy_2 = balanced_accuracy_score(labels, preds_array)\n",
        "print(f'Test Balanced Accuracy: {val_balanced_accuracy_2}')\n",
        "\n",
        "ConfusionMatrix(labels, preds_array, title=\"Matrix de confusão - Modelo Audience\", classes_list=distinct_rating_labels)"
      ],
      "metadata": {
        "id": "n6vFHrfMJr6Z"
      },
      "execution_count": null,
      "outputs": []
    },
    {
      "cell_type": "markdown",
      "metadata": {
        "id": "z9GwIIfPw3MN"
      },
      "source": [
        "### Análise do Mecanismo de Atenção com BertViz\n",
        "\n"
      ]
    },
    {
      "cell_type": "markdown",
      "source": [
        "Modelo Critic"
      ],
      "metadata": {
        "id": "riSq6GAkLO5J"
      }
    },
    {
      "cell_type": "code",
      "execution_count": null,
      "metadata": {
        "tags": [],
        "id": "MP2-rOdFybxW"
      },
      "outputs": [],
      "source": [
        "input_ids=[]\n",
        "for batch in dataloader_test_critic:\n",
        "    input_ids.append(batch[0])\n",
        "\n",
        "print(f'Modelo Critic')\n",
        "correct_cases_critic = [(text, true, pred) for text, true, pred in zip(input_ids, labels_test_critic, preds_array) if true == pred]\n",
        "print(f'Número de acertos: {len(correct_cases_critic)}')\n",
        "\n",
        "decoded_correct_text_critic = TOKENIZER_CRITIC.decode(torch.tensor(correct_cases_critic[0][0][0].tolist()), skip_special_tokens=True)\n",
        "print(f'Texto caso correto: {decoded_correct_text_critic}')\n",
        "\n",
        "incorrect_cases_critic =[(text, true, pred) for text, true, pred in zip(input_ids, labels_test_critic, preds_array) if true != pred]\n",
        "print(f'Número de incorretos: {len(incorrect_cases_critic)}')\n",
        "\n",
        "decoded_incorrect_text_critic = TOKENIZER_CRITIC.decode(torch.tensor(incorrect_cases_critic[0][0][0].tolist()), skip_special_tokens=True)\n",
        "print(f'Texto caso incorreto: {decoded_incorrect_text_critic}')"
      ]
    },
    {
      "cell_type": "code",
      "execution_count": null,
      "metadata": {
        "tags": [],
        "id": "JskSaLU7ybxW"
      },
      "outputs": [],
      "source": [
        "model = best_model_critic\n",
        "print(\"Análise para um comentário que foi corretamente predito\")\n",
        "inputs = TOKENIZER_CRITIC.encode(decoded_correct_text_critic, return_tensors='pt').to(DEVICE)\n",
        "outputs = model(inputs)\n",
        "attention = outputs[-1]\n",
        "tokens = TOKENIZER_CRITIC.convert_ids_to_tokens(inputs[0])\n",
        "head_view(attention, tokens)\n",
        "model_view(attention, tokens)\n",
        "\n",
        "print(\"Análise para um comentário que foi incorretamente predito\")\n",
        "inputs = TOKENIZER_CRITIC.encode(decoded_incorrect_text_critic, return_tensors='pt').to(DEVICE)\n",
        "outputs = model(inputs)\n",
        "attention = outputs[-1]\n",
        "tokens = TOKENIZER_CRITIC.convert_ids_to_tokens(inputs[0])\n",
        "head_view(attention, tokens)\n",
        "model_view(attention, tokens)"
      ]
    },
    {
      "cell_type": "markdown",
      "source": [
        "Modelo Audience"
      ],
      "metadata": {
        "id": "u0EI0NaiK9iv"
      }
    },
    {
      "cell_type": "code",
      "source": [
        "input_ids=[]\n",
        "for batch in dataloader_test_audience:\n",
        "    input_ids.append(batch[0])\n",
        "\n",
        "print(f'Modelo Audience')\n",
        "correct_cases_audience = [(text, true, pred) for text, true, pred in zip(input_ids, labels_test_audience, preds_array) if true == pred]\n",
        "print(f'Número de acertos: {len(correct_cases_audience)}')\n",
        "\n",
        "decoded_correct_text_audience = TOKENIZER_AUDIENCE.decode(torch.tensor(correct_cases_audience[0][0][0].tolist()), skip_special_tokens=True)\n",
        "print(f'Texto caso correto: {decoded_correct_text_audience}')\n",
        "\n",
        "incorrect_cases_audience =[(text, true, pred) for text, true, pred in zip(input_ids, labels_test_audience, preds_array) if true != pred]\n",
        "print(f'Número de incorretos: {len(incorrect_cases_audience)}')\n",
        "\n",
        "decoded_incorrect_text_audience = TOKENIZER_AUDIENCE.decode(torch.tensor(incorrect_cases_audience[0][0][0].tolist()), skip_special_tokens=True)\n",
        "print(f'Texto caso incorreto: {decoded_incorrect_text_audience}')"
      ],
      "metadata": {
        "id": "GEqPvWQBK864"
      },
      "execution_count": null,
      "outputs": []
    },
    {
      "cell_type": "code",
      "source": [
        "model = best_model_audience\n",
        "print(\"Análise para um comentário que foi corretamente predito\")\n",
        "inputs = TOKENIZER_AUDIENCE.encode(decoded_correct_text_audience, return_tensors='pt').to(DEVICE)\n",
        "outputs = model(inputs)\n",
        "attention = outputs[-1]\n",
        "tokens = TOKENIZER_AUDIENCE.convert_ids_to_tokens(inputs[0])\n",
        "head_view(attention, tokens)\n",
        "model_view(attention, tokens)\n",
        "\n",
        "print(\"Análise para um comentário que foi incorretamente predito\")\n",
        "inputs = TOKENIZER_AUDIENCE.encode(decoded_incorrect_text_audience, return_tensors='pt').to(DEVICE)\n",
        "outputs = model(inputs)\n",
        "attention = outputs[-1]\n",
        "tokens = TOKENIZER_AUDIENCE.convert_ids_to_tokens(inputs[0])\n",
        "head_view(attention, tokens)\n",
        "model_view(attention, tokens)"
      ],
      "metadata": {
        "id": "Mq7Lkn4RMgCv"
      },
      "execution_count": null,
      "outputs": []
    }
  ],
  "metadata": {
    "colab": {
      "provenance": [],
      "gpuType": "T4",
      "include_colab_link": true
    },
    "kernelspec": {
      "display_name": "conda_pytorch_p310",
      "language": "python",
      "name": "conda_pytorch_p310"
    },
    "language_info": {
      "codemirror_mode": {
        "name": "ipython",
        "version": 3
      },
      "file_extension": ".py",
      "mimetype": "text/x-python",
      "name": "python",
      "nbconvert_exporter": "python",
      "pygments_lexer": "ipython3",
      "version": "3.10.14"
    },
    "accelerator": "GPU"
  },
  "nbformat": 4,
  "nbformat_minor": 0
}