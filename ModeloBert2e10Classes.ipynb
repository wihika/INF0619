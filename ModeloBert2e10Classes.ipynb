{
 "cells": [
  {
   "cell_type": "markdown",
   "metadata": {
    "id": "oWk3u7rHw3MF"
   },
   "source": [
    "## Instalação das Bibliotecas"
   ]
  },
  {
   "cell_type": "markdown",
   "metadata": {
    "id": "TQM2-64T1HMS"
   },
   "source": [
    "Instalar as bibliotecas necessárias:"
   ]
  },
  {
   "cell_type": "markdown",
   "metadata": {
    "id": "3sEOASEz02Cg"
   },
   "source": [
    "Chamada das bibliotecas necessárias:"
   ]
  },
  {
   "cell_type": "code",
   "execution_count": null,
   "metadata": {
    "id": "-W-fnmLX1RXn"
   },
   "outputs": [],
   "source": [
    "import pandas\n",
    "import numpy\n",
    "import torch\n",
    "import seaborn\n",
    "import matplotlib.pyplot as plot\n",
    "from datasets import Dataset\n",
    "from transformers import AutoTokenizer, AutoModelForSequenceClassification, get_scheduler\n",
    "from torch.utils.data import TensorDataset, DataLoader\n",
    "from torch.optim import AdamW\n",
    "from sklearn.metrics import balanced_accuracy_score, accuracy_score, confusion_matrix\n",
    "from sklearn.model_selection import train_test_split\n",
    "from sklearn.utils.class_weight import compute_class_weight\n",
    "from bertviz import model_view, head_view"
   ]
  },
  {
   "cell_type": "markdown",
   "metadata": {
    "id": "qMfcgO1L8j8_"
   },
   "source": [
    "## Carregar e preparar os dados"
   ]
  },
  {
   "cell_type": "markdown",
   "metadata": {
    "id": "BRROKpiS4A-9"
   },
   "source": [
    "**critic_reviews**\n",
    "- **Show**: titulo do show avaliado\n",
    "- **Sentiment**: Sentimento sendo 0 negativo e 1 positivo (2 classes)\n",
    "- **Review**: conteúdo da avaliação"
   ]
  },
  {
   "cell_type": "code",
   "execution_count": null,
   "metadata": {
    "id": "9ujm6YsZ5ZFe"
   },
   "outputs": [],
   "source": [
    "critic_df = pandas.read_csv(\"train_critic.csv\", header=0)\n",
    "test_critic_df = pandas.read_csv(\"test_critic.csv\", header=0)"
   ]
  },
  {
   "cell_type": "code",
   "execution_count": null,
   "metadata": {
    "id": "eZ5H4gzR4VSU"
   },
   "outputs": [],
   "source": [
    "audience_df = pandas.read_csv(\"train_audience.csv\", header=0)\n",
    "test_audience_df = pandas.read_csv(\"test_audience.csv\", header=0)"
   ]
  },
  {
   "cell_type": "markdown",
   "metadata": {
    "id": "zJqtVALjw3MJ"
   },
   "source": [
    "## Variaveis de configuração\n"
   ]
  },
  {
   "cell_type": "markdown",
   "metadata": {
    "id": "x9ziHsnA8FXG"
   },
   "source": [
    "Variaveis gerais"
   ]
  },
  {
   "cell_type": "code",
   "execution_count": null,
   "metadata": {
    "id": "5s3k3RZw7z0W"
   },
   "outputs": [],
   "source": [
    "IS_TEST = True  # Variavel para deixar as runs menores para testar o codigo mais rapido\n",
    "MODEL_NAME = \"google-bert/bert-base-uncased\"  # Escolha o modelo conforme sua necessidade\n",
    "NUM_EPOCHS = 10 # Número de épocas\n",
    "DEVICE = torch.device('cuda' if torch.cuda.is_available() else 'cpu') # Define como rodar dependendo se houver GPU\n",
    "MAX_LEN = 512 # Parametro usado no tokenizer"
   ]
  },
  {
   "cell_type": "markdown",
   "metadata": {
    "id": "jP_xFh9y8Hbq"
   },
   "source": [
    "Variaveis Critic"
   ]
  },
  {
   "cell_type": "code",
   "execution_count": null,
   "metadata": {
    "colab": {
     "base_uri": "https://localhost:8080/"
    },
    "id": "zT9WEDxVw3MJ",
    "outputId": "89bb03db-e653-453c-c22a-42b5b27a197f"
   },
   "outputs": [],
   "source": [
    "NUM_LABELS_CRITIC = 2 # Número de classes para a base critic\n",
    "TOKENIZER_CRITIC =  AutoTokenizer.from_pretrained(MODEL_NAME, num_labels=NUM_LABELS_CRITIC)  # Carregar o tokenizer para o critic\n",
    "MODEL_CRITIC = AutoModelForSequenceClassification.from_pretrained(MODEL_NAME, num_labels=NUM_LABELS_CRITIC, output_attentions=False, output_hidden_states=False).to(DEVICE)  # Carregar o modelo de classificação para 2 classes"
   ]
  },
  {
   "cell_type": "markdown",
   "metadata": {
    "id": "CFjTKNG98KVd"
   },
   "source": [
    "Variaveis Audience"
   ]
  },
  {
   "cell_type": "code",
   "execution_count": null,
   "metadata": {
    "colab": {
     "base_uri": "https://localhost:8080/"
    },
    "id": "P2L6gkhc7qAV",
    "outputId": "f9c1118f-5ad1-4224-c198-456c2ac6acfa"
   },
   "outputs": [],
   "source": [
    "NUM_LABELS_AUDIENCE = 10 # Número de classes para a base audience\n",
    "TOKENIZER_AUDIENCE =  AutoTokenizer.from_pretrained(MODEL_NAME, num_labels=NUM_LABELS_AUDIENCE)  # Carregar o tokenizer para o audience\n",
    "MODEL_AUDIENCE = AutoModelForSequenceClassification.from_pretrained(MODEL_NAME, num_labels=NUM_LABELS_AUDIENCE, output_attentions=False, output_hidden_states=False).to(DEVICE)   # Carregar o modelo de classificação para 2 classes"
   ]
  },
  {
   "cell_type": "markdown",
   "metadata": {
    "id": "73j5C6qlw3MK"
   },
   "source": [
    "### Preparação dos Conjuntos de Dados\n"
   ]
  },
  {
   "cell_type": "markdown",
   "metadata": {
    "id": "8n0I2wKx8oGe"
   },
   "source": [
    "Preparação dos dados Critic"
   ]
  },
  {
   "cell_type": "code",
   "execution_count": null,
   "metadata": {
    "id": "pMQarjciw3MK"
   },
   "outputs": [],
   "source": [
    "critic_df = critic_df.replace([numpy.inf, -numpy.inf], numpy.nan)\n",
    "critic_df.dropna(inplace=True)\n",
    "test_critic_df = test_critic_df.replace([numpy.inf, -numpy.inf], numpy.nan)\n",
    "test_critic_df.dropna(inplace=True)\n",
    "distinct_sentiment_labels = critic_df.Sentiment.unique()\n",
    "distinct_sentiment_labels.sort()\n",
    "distinct_sentiment_label_dict = {}\n",
    "for index, label in enumerate(distinct_sentiment_labels):\n",
    "    distinct_sentiment_label_dict[label] = index\n",
    "\n",
    "critic_df['label'] = critic_df.Sentiment.replace(distinct_sentiment_label_dict)\n",
    "critic_df.label = critic_df.label.astype(int)\n",
    "test_critic_df['label'] = test_critic_df.Sentiment.replace(distinct_sentiment_label_dict)\n",
    "test_critic_df.label = test_critic_df.label.astype(int)\n",
    "\n",
    "critic_df['Review'] = critic_df['Review'].astype(str)\n",
    "test_critic_df['Review'] = test_critic_df['Review'].astype(str)\n",
    "\n",
    "train_critic_data, val_critic_data, train_critic_labels, val_critic_labels = train_test_split(critic_df.index.values,\n",
    "                                                                                              critic_df.label.values,\n",
    "                                                                                              test_size=0.2, random_state=42,\n",
    "                                                                                              stratify=critic_df.label.values)\n",
    "\n",
    "# balanceando os dados de treino\n",
    "class_weights_critic = compute_class_weight('balanced', classes=numpy.unique(train_critic_labels), y=train_critic_labels)\n",
    "class_weight_critic_dict = dict(enumerate(class_weights_critic))"
   ]
  },
  {
   "cell_type": "code",
   "execution_count": null,
   "metadata": {
    "colab": {
     "base_uri": "https://localhost:8080/",
     "height": 178
    },
    "id": "xXRgWPK124dc",
    "outputId": "5d7dc98f-89be-4028-b437-bb5042c838a3"
   },
   "outputs": [
    {
     "data": {
      "text/html": [
       "<div>\n",
       "<style scoped>\n",
       "    .dataframe tbody tr th:only-of-type {\n",
       "        vertical-align: middle;\n",
       "    }\n",
       "\n",
       "    .dataframe tbody tr th {\n",
       "        vertical-align: top;\n",
       "    }\n",
       "\n",
       "    .dataframe thead th {\n",
       "        text-align: right;\n",
       "    }\n",
       "</style>\n",
       "<table border=\"1\" class=\"dataframe\">\n",
       "  <thead>\n",
       "    <tr style=\"text-align: right;\">\n",
       "      <th></th>\n",
       "      <th>count</th>\n",
       "    </tr>\n",
       "    <tr>\n",
       "      <th>label</th>\n",
       "      <th></th>\n",
       "    </tr>\n",
       "  </thead>\n",
       "  <tbody>\n",
       "    <tr>\n",
       "      <th>1</th>\n",
       "      <td>9995</td>\n",
       "    </tr>\n",
       "    <tr>\n",
       "      <th>0</th>\n",
       "      <td>1836</td>\n",
       "    </tr>\n",
       "  </tbody>\n",
       "</table>\n",
       "</div><br><label><b>dtype:</b> int64</label>"
      ],
      "text/plain": [
       "label\n",
       "1    9995\n",
       "0    1836\n",
       "Name: count, dtype: int64"
      ]
     },
     "execution_count": 34,
     "metadata": {},
     "output_type": "execute_result"
    }
   ],
   "source": [
    "critic_df.label.value_counts()"
   ]
  },
  {
   "cell_type": "code",
   "execution_count": null,
   "metadata": {
    "colab": {
     "base_uri": "https://localhost:8080/",
     "height": 147
    },
    "id": "yBpatW8gq-1v",
    "outputId": "1af94e94-8735-4d64-da5d-3ccd57797c8b"
   },
   "outputs": [
    {
     "data": {
      "text/html": [
       "<div>\n",
       "<style scoped>\n",
       "    .dataframe tbody tr th:only-of-type {\n",
       "        vertical-align: middle;\n",
       "    }\n",
       "\n",
       "    .dataframe tbody tr th {\n",
       "        vertical-align: top;\n",
       "    }\n",
       "\n",
       "    .dataframe thead th {\n",
       "        text-align: right;\n",
       "    }\n",
       "</style>\n",
       "<table border=\"1\" class=\"dataframe\">\n",
       "  <thead>\n",
       "    <tr style=\"text-align: right;\">\n",
       "      <th></th>\n",
       "      <th>count</th>\n",
       "    </tr>\n",
       "  </thead>\n",
       "  <tbody>\n",
       "    <tr>\n",
       "      <th>1</th>\n",
       "      <td>7995</td>\n",
       "    </tr>\n",
       "    <tr>\n",
       "      <th>0</th>\n",
       "      <td>1469</td>\n",
       "    </tr>\n",
       "  </tbody>\n",
       "</table>\n",
       "</div><br><label><b>dtype:</b> int64</label>"
      ],
      "text/plain": [
       "1    7995\n",
       "0    1469\n",
       "Name: count, dtype: int64"
      ]
     },
     "execution_count": 35,
     "metadata": {},
     "output_type": "execute_result"
    }
   ],
   "source": [
    "pandas.Series(train_critic_labels).value_counts()"
   ]
  },
  {
   "cell_type": "code",
   "execution_count": null,
   "metadata": {
    "colab": {
     "base_uri": "https://localhost:8080/"
    },
    "id": "jejtSjiM-jY1",
    "outputId": "04f8f44e-0a03-45a9-ed7c-68f9698a1d10"
   },
   "outputs": [
    {
     "name": "stderr",
     "output_type": "stream",
     "text": [
      "Truncation was not explicitly activated but `max_length` is provided a specific value, please use `truncation=True` to explicitly truncate examples to max length. Defaulting to 'longest_first' truncation strategy. If you encode pairs of sequences (GLUE-style) with the tokenizer you can select this strategy more precisely by providing a specific strategy to `truncation`.\n",
      "/usr/local/lib/python3.10/dist-packages/transformers/tokenization_utils_base.py:2834: FutureWarning: The `pad_to_max_length` argument is deprecated and will be removed in a future version, use `padding=True` or `padding='longest'` to pad to the longest sequence in the batch, or use `padding='max_length'` to pad to a max length. In this case, you can give a specific length with `max_length` (e.g. `max_length=45`) or leave max_length to None to pad to the maximal input size of the model (e.g. 512 for Bert).\n",
      "  warnings.warn(\n",
      "/usr/local/lib/python3.10/dist-packages/transformers/tokenization_utils_base.py:2834: FutureWarning: The `pad_to_max_length` argument is deprecated and will be removed in a future version, use `padding=True` or `padding='longest'` to pad to the longest sequence in the batch, or use `padding='max_length'` to pad to a max length. In this case, you can give a specific length with `max_length` (e.g. `max_length=45`) or leave max_length to None to pad to the maximal input size of the model (e.g. 512 for Bert).\n",
      "  warnings.warn(\n"
     ]
    }
   ],
   "source": [
    "encoded_critic_data_train = TOKENIZER_CRITIC.batch_encode_plus(\n",
    "    critic_df.loc[train_critic_data, 'Review'].values.tolist(),\n",
    "    add_special_tokens=True,\n",
    "    return_attention_mask=True,\n",
    "    pad_to_max_length=True,\n",
    "    max_length = MAX_LEN,\n",
    "    return_tensors='pt'\n",
    ")\n",
    "\n",
    "encoded_critic_data_val = TOKENIZER_CRITIC.batch_encode_plus(\n",
    "    critic_df.loc[val_critic_data, 'Review'].values.tolist(),\n",
    "    add_special_tokens=True,\n",
    "    return_attention_mask=True,\n",
    "    pad_to_max_length=True,\n",
    "    max_length = MAX_LEN,\n",
    "    return_tensors='pt'\n",
    ")\n",
    "\n",
    "encoded_critic_data_test = TOKENIZER_CRITIC.batch_encode_plus(\n",
    "    test_critic_df.Review.values.tolist(),\n",
    "    add_special_tokens=True,\n",
    "    return_attention_mask=True,\n",
    "    pad_to_max_length=True,\n",
    "    max_length = MAX_LEN,\n",
    "    return_tensors='pt'\n",
    ")\n",
    "\n",
    "input_ids_train_critic = encoded_critic_data_train['input_ids']\n",
    "input_ids_val_critic = encoded_critic_data_val['input_ids']\n",
    "input_ids_test_critic = encoded_critic_data_test['input_ids']\n",
    "\n",
    "attention_mask_train_critic = encoded_critic_data_train['attention_mask']\n",
    "attention_mask_val_critic = encoded_critic_data_val['attention_mask']\n",
    "attention_mask_test_critic = encoded_critic_data_test['attention_mask']\n",
    "\n",
    "labels_train_critic = torch.tensor(critic_df.loc[train_critic_data, 'label'].values)\n",
    "labels_val_critic = torch.tensor(critic_df.loc[val_critic_data, 'label'].values)\n",
    "labels_test_critic = torch.tensor(test_critic_df.label.values)\n",
    "\n",
    "dataset_train_critic = TensorDataset(input_ids_train_critic, attention_mask_train_critic, labels_train_critic)\n",
    "dataset_val_critic = TensorDataset(input_ids_val_critic, attention_mask_val_critic, labels_val_critic)\n",
    "dataset_test_critic = TensorDataset(input_ids_test_critic, attention_mask_test_critic, labels_test_critic)\n",
    "\n",
    "critic_batch_size = 32\n",
    "dataloader_train_critic = DataLoader(dataset_train_critic, batch_size = critic_batch_size)\n",
    "dataloader_val_critic = DataLoader(dataset_val_critic, batch_size = critic_batch_size)\n",
    "dataloader_test_critic = DataLoader(dataset_test_critic, batch_size = critic_batch_size)"
   ]
  },
  {
   "cell_type": "markdown",
   "metadata": {
    "id": "ygXHGAP99zn3"
   },
   "source": [
    "Preparação dos dados Audience"
   ]
  },
  {
   "cell_type": "code",
   "execution_count": null,
   "metadata": {
    "id": "OAJx7Zyy95eS"
   },
   "outputs": [],
   "source": [
    "audience_df = audience_df.replace([numpy.inf, -numpy.inf], numpy.nan)\n",
    "audience_df.dropna(inplace=True)\n",
    "test_audience_df = test_audience_df.replace([numpy.inf, -numpy.inf], numpy.nan)\n",
    "test_audience_df.dropna(inplace=True)\n",
    "\n",
    "round_rating = numpy.round(audience_df.Rating)\n",
    "audience_df[\"Round_Rating\"] = round_rating\n",
    "\n",
    "distinct_rating_labels = audience_df.Rating.unique()\n",
    "distinct_rating_labels.sort()\n",
    "distinct_rating_label_dict = {}\n",
    "for index, label in enumerate(distinct_rating_labels):\n",
    "    distinct_rating_label_dict[label] = index\n",
    "\n",
    "sorted_rating_labels = sorted(distinct_rating_label_dict.values())\n",
    "audience_df['label'] = audience_df.Rating.replace(distinct_rating_label_dict)\n",
    "audience_df.label = audience_df.label.astype(int)\n",
    "test_audience_df['label'] = test_audience_df.Rating.replace(distinct_rating_label_dict)\n",
    "test_audience_df.label = test_audience_df.label.astype(int)\n",
    "\n",
    "audience_df['Review'] = audience_df['Review'].astype(str)\n",
    "test_audience_df['Review'] = test_audience_df['Review'].astype(str)\n",
    "\n",
    "train_audience_data, val_audience_data, train_audience_labels, val_audience_labels = train_test_split(test_audience_df.index.values,\n",
    "                                                                                                      test_audience_df.label.values,\n",
    "                                                                                                      test_size=0.2, random_state=42,\n",
    "                                                                                                      stratify=test_audience_df.label.values)\n",
    "\n",
    "# balanceando os dados de treino\n",
    "class_weights_audience = compute_class_weight('balanced', classes=numpy.unique(train_audience_labels), y=train_audience_labels)\n",
    "class_weight_audience_dict = dict(enumerate(class_weights_audience))"
   ]
  },
  {
   "cell_type": "code",
   "execution_count": null,
   "metadata": {
    "colab": {
     "base_uri": "https://localhost:8080/",
     "height": 429
    },
    "id": "p_xB-bD53A0x",
    "outputId": "5079a0ac-c6a6-4cac-a1bf-1449e3b2b4cc"
   },
   "outputs": [],
   "source": [
    "audience_df.label.value_counts()"
   ]
  },
  {
   "cell_type": "code",
   "execution_count": null,
   "metadata": {
    "colab": {
     "base_uri": "https://localhost:8080/",
     "height": 397
    },
    "id": "kwv01TxsQpTg",
    "outputId": "f778dbe5-e245-44c3-acc4-da21b5230192"
   },
   "outputs": [],
   "source": [
    " pandas.Series(train_audience_labels).value_counts()"
   ]
  },
  {
   "cell_type": "code",
   "execution_count": null,
   "metadata": {
    "colab": {
     "base_uri": "https://localhost:8080/"
    },
    "id": "CYOKKCw0CALZ",
    "outputId": "4b047507-235d-4b8b-db53-1a24a3cee305"
   },
   "outputs": [
    {
     "name": "stderr",
     "output_type": "stream",
     "text": [
      "Truncation was not explicitly activated but `max_length` is provided a specific value, please use `truncation=True` to explicitly truncate examples to max length. Defaulting to 'longest_first' truncation strategy. If you encode pairs of sequences (GLUE-style) with the tokenizer you can select this strategy more precisely by providing a specific strategy to `truncation`.\n",
      "/usr/local/lib/python3.10/dist-packages/transformers/tokenization_utils_base.py:2834: FutureWarning: The `pad_to_max_length` argument is deprecated and will be removed in a future version, use `padding=True` or `padding='longest'` to pad to the longest sequence in the batch, or use `padding='max_length'` to pad to a max length. In this case, you can give a specific length with `max_length` (e.g. `max_length=45`) or leave max_length to None to pad to the maximal input size of the model (e.g. 512 for Bert).\n",
      "  warnings.warn(\n",
      "/usr/local/lib/python3.10/dist-packages/transformers/tokenization_utils_base.py:2834: FutureWarning: The `pad_to_max_length` argument is deprecated and will be removed in a future version, use `padding=True` or `padding='longest'` to pad to the longest sequence in the batch, or use `padding='max_length'` to pad to a max length. In this case, you can give a specific length with `max_length` (e.g. `max_length=45`) or leave max_length to None to pad to the maximal input size of the model (e.g. 512 for Bert).\n",
      "  warnings.warn(\n"
     ]
    }
   ],
   "source": [
    "encoded_audience_data_train = TOKENIZER_AUDIENCE.batch_encode_plus(\n",
    "    audience_df.loc[train_audience_data, 'Review'].values.tolist(),\n",
    "    add_special_tokens=True,\n",
    "    return_attention_mask=True,\n",
    "    pad_to_max_length=True,\n",
    "    max_length = MAX_LEN,\n",
    "    return_tensors='pt'\n",
    ")\n",
    "\n",
    "encoded_audience_data_val = TOKENIZER_AUDIENCE.batch_encode_plus(\n",
    "    audience_df.loc[val_audience_data, 'Review'].values.tolist(),\n",
    "    add_special_tokens=True,\n",
    "    return_attention_mask=True,\n",
    "    pad_to_max_length=True,\n",
    "    max_length = MAX_LEN,\n",
    "    return_tensors='pt'\n",
    ")\n",
    "\n",
    "encoded_audience_data_test = TOKENIZER_AUDIENCE.batch_encode_plus(\n",
    "    test_audience_df.Review.values.tolist(),\n",
    "    add_special_tokens=True,\n",
    "    return_attention_mask=True,\n",
    "    pad_to_max_length=True,\n",
    "    max_length = MAX_LEN,\n",
    "    return_tensors='pt'\n",
    ")\n",
    "\n",
    "input_ids_train_audience = encoded_audience_data_train['input_ids']\n",
    "input_ids_val_audience = encoded_audience_data_val['input_ids']\n",
    "input_ids_test_audience = encoded_audience_data_test['input_ids']\n",
    "\n",
    "attention_mask_train_audience = encoded_audience_data_train['attention_mask']\n",
    "attention_mask_val_audience = encoded_audience_data_val['attention_mask']\n",
    "attention_mask_test_audience = encoded_audience_data_test['attention_mask']\n",
    "\n",
    "\n",
    "labels_train_audience = torch.tensor(audience_df.loc[train_audience_data, 'label'].values)\n",
    "labels_val_audience = torch.tensor(audience_df.loc[val_audience_data, 'label'].values)\n",
    "labels_test_audience = torch.tensor(test_audience_df.label.values)\n",
    "\n",
    "dataset_train_audience = TensorDataset(input_ids_train_audience, attention_mask_train_audience, labels_train_audience)\n",
    "dataset_val_audience = TensorDataset(input_ids_val_audience, attention_mask_val_audience, labels_val_audience)\n",
    "dataset_test_audience = TensorDataset(input_ids_test_audience, attention_mask_test_audience, labels_test_audience)\n",
    "\n",
    "audience_batch_size = 32\n",
    "dataloader_train_audience = DataLoader(dataset_train_audience, batch_size=audience_batch_size)\n",
    "dataloader_val_audience = DataLoader(dataset_val_audience, batch_size=audience_batch_size)\n",
    "dataloader_test_audience = DataLoader(dataset_test_audience, batch_size=audience_batch_size)"
   ]
  },
  {
   "cell_type": "code",
   "execution_count": null,
   "metadata": {
    "colab": {
     "base_uri": "https://localhost:8080/"
    },
    "id": "Y_MouwJTSaWT",
    "outputId": "50d44666-7039-421e-c1fd-0814642d9160"
   },
   "outputs": [
    {
     "name": "stdout",
     "output_type": "stream",
     "text": [
      "Distinct values in labels_train_audience: tensor([0, 1, 2, 3, 4, 5, 6, 7, 8, 9])\n",
      "Distinct values in labels_val_audience: tensor([0, 1, 2, 3, 4, 5, 6, 7, 8, 9])\n",
      "Distinct values in labels_test_audience: tensor([0, 1, 2, 3, 4, 5, 6, 7, 8, 9])\n"
     ]
    }
   ],
   "source": [
    "# prompt: print the distinct values in labels_train_audience, labels_val_audience and labels_test_audience\n",
    "\n",
    "print(f\"Distinct values in labels_train_audience: {torch.unique(labels_train_audience)}\")\n",
    "print(f\"Distinct values in labels_val_audience: {torch.unique(labels_val_audience)}\")\n",
    "print(f\"Distinct values in labels_test_audience: {torch.unique(labels_test_audience)}\")"
   ]
  },
  {
   "cell_type": "markdown",
   "metadata": {
    "id": "PhgoibF2w3ML"
   },
   "source": [
    "### Funções auxiliares\n"
   ]
  },
  {
   "cell_type": "markdown",
   "metadata": {
    "id": "aAcKPEK9DMJp"
   },
   "source": [
    "**Função Test** para testar o modelo, parametros são modelo e o dataloader (inputs, attention masks e labels) usados na avaliação. Retorna o loss, o array com a probabilidade de cada classe possível e os labels verdade usados."
   ]
  },
  {
   "cell_type": "code",
   "execution_count": null,
   "metadata": {
    "id": "bBMvVPzjybxT",
    "tags": []
   },
   "outputs": [],
   "source": [
    "def Test(model, dataloader, device):\n",
    "    model.eval()\n",
    "\n",
    "    loss_total = 0\n",
    "    pred, label = [], []\n",
    "\n",
    "    for batch in dataloader:\n",
    "        batch = tuple(b.to(device) for b in batch)\n",
    "        inputs = {\n",
    "                    'input_ids': batch[0].to(device),\n",
    "                    'attention_mask': batch[1].to(device),\n",
    "                    'labels': batch[2].to(device)\n",
    "                  }\n",
    "        with torch.no_grad():\n",
    "            outputs = model(**inputs)\n",
    "\n",
    "        loss = outputs[0]\n",
    "        logits = outputs[1]\n",
    "        loss_total = loss_total + loss.item()\n",
    "\n",
    "        logits = logits.detach().cpu().numpy()\n",
    "        label_ids = inputs['labels'].cpu().numpy()\n",
    "        pred.append(logits)\n",
    "        label.append(label_ids)\n",
    "\n",
    "    average_loss = loss_total/len(dataloader)\n",
    "    pred = numpy.concatenate(pred, axis=0)\n",
    "    label = numpy.concatenate(label, axis=0)\n",
    "    return average_loss, pred, label\n"
   ]
  },
  {
   "cell_type": "markdown",
   "metadata": {
    "id": "RW6jHXKCj5es"
   },
   "source": [
    "**Função Treino** para treinar o modelo, parametros são modelo, nome do modelo, o dataloader de treino (inputs, attention masks e labels), o dataloader de validação, o otimizador, um scheduler (outro tipo de otimizador), numero de épocas e o device (cpu ou gpu) usados no treino. Retorna o modelo treinado."
   ]
  },
  {
   "cell_type": "code",
   "execution_count": null,
   "metadata": {
    "id": "8WyjA1dLH6GA"
   },
   "outputs": [],
   "source": [
    "def Train(model, model_name, dataloader_train, dataloader_val, optimizer, scheduler, num_epochs, device, class_weights):\n",
    "  train_loss_list = []\n",
    "  val_loss_list = []\n",
    "  train_accuracy_list = []\n",
    "  val_accuracy_list = []\n",
    "  train_balanced_accuracy_list = []\n",
    "  val_balanced_accuracy_list = []\n",
    "\n",
    "  criterion = torch.nn.CrossEntropyLoss(weight=torch.tensor(class_weights, dtype=torch.float32).to(device))\n",
    "\n",
    "  for epoch in range(1, num_epochs + 1):\n",
    "      model.train()\n",
    "\n",
    "      loss_total = 0\n",
    "      all_preds = []\n",
    "      all_labels = []\n",
    "\n",
    "      for batch in dataloader_train:\n",
    "          model.zero_grad()\n",
    "\n",
    "          batch = tuple(b.to(device) for b in batch)\n",
    "\n",
    "          inputs = {\n",
    "                      'input_ids': batch[0].to(device),\n",
    "                      'attention_mask': batch[1].to(device),\n",
    "                      'labels': batch[2].to(device)\n",
    "                    }\n",
    "          outputs = model(**inputs)\n",
    "\n",
    "          loss = criterion(outputs[1], inputs['labels'])\n",
    "          loss_total = loss_total + loss.item()\n",
    "          loss.backward()\n",
    "\n",
    "          torch.nn.utils.clip_grad_norm_(model.parameters(), 1.0).to(device)\n",
    "\n",
    "          optimizer.step()\n",
    "          scheduler.step()\n",
    "\n",
    "          _, preds = torch.max(outputs[1], 1)  # Get predicted class labels\n",
    "          all_preds.extend(preds.cpu().numpy())\n",
    "          all_labels.extend(batch[2].cpu().numpy())\n",
    "\n",
    "      torch.save(model.state_dict(), f'finetuned_{model_name}_{epoch}.model')\n",
    "      print(f'Epoca {epoch}')\n",
    "\n",
    "      loss_avg_train = loss_total/len(dataloader_train)\n",
    "      train_loss_list.append(loss_avg_train)\n",
    "      print(f'Traning Loss: {loss_avg_train}')\n",
    "      val_loss, preds, labels = Test(model, dataloader_val, device)\n",
    "      val_loss_list.append(val_loss)\n",
    "      print(f'Validation Loss: {val_loss}')\n",
    "\n",
    "      train_accuracy = accuracy_score(all_labels, all_preds)\n",
    "      train_accuracy_list.append(train_accuracy)\n",
    "      print(f'Train Accuracy: {train_accuracy}')\n",
    "      preds_array = numpy.argmax(preds, axis=1)\n",
    "      val_accuracy = accuracy_score(labels, preds_array)\n",
    "      val_accuracy_list.append(val_accuracy)\n",
    "      print(f'Validation Accuracy: {val_accuracy}')\n",
    "\n",
    "      train_balanced_accuracy = balanced_accuracy_score(all_labels, all_preds)\n",
    "      train_balanced_accuracy_list.append(train_balanced_accuracy)\n",
    "      print(f'Train Balanced Accuracy: {train_balanced_accuracy}')\n",
    "      val_balanced_accuracy = balanced_accuracy_score(labels, preds_array)\n",
    "      val_balanced_accuracy_list.append(val_balanced_accuracy)\n",
    "      print(f'Validation Balanced Accuracy: {val_balanced_accuracy}')\n",
    "\n",
    "  data = {'train_loss': train_loss_list, 'val_loss': val_loss_list, 'train_accuracy': train_accuracy_list, 'val_accuracy': val_accuracy_list, 'train_balanced_accuracy': train_balanced_accuracy_list, 'val_balanced_accuracy': val_balanced_accuracy_list}\n",
    "  df = pandas.DataFrame(data)\n",
    "\n",
    "  return model, df"
   ]
  },
  {
   "cell_type": "markdown",
   "metadata": {
    "id": "W0M7NgHJkicV"
   },
   "source": [
    "**Função de Plot da Matriz de Confusão** para analisar o modelo, parametros labels verdade, classes preditas, titulo e lista de possiveis classes. Plota a matriz."
   ]
  },
  {
   "cell_type": "code",
   "execution_count": null,
   "metadata": {
    "id": "ZJnycd-Id12x"
   },
   "outputs": [],
   "source": [
    "def ConfusionMatrix(labels, preds_array, title, classes_list):\n",
    "  cm = confusion_matrix(labels, preds_array, labels=classes_list)\n",
    "  cm_percentage = cm.astype('float') / cm.sum(axis=1)[:, numpy.newaxis] * 100\n",
    "\n",
    "  plot.figure(figsize=(8, 6))\n",
    "  seaborn.heatmap(cm_percentage, annot=True, fmt=\".1f\", cmap=\"Blues\", xticklabels=classes_list, yticklabels=classes_list)\n",
    "  plot.xlabel(\"Predicted Labels\")\n",
    "  plot.ylabel(\"True Labels\")\n",
    "  plot.title(title)\n",
    "  plot.show()"
   ]
  },
  {
   "cell_type": "markdown",
   "metadata": {
    "id": "LC01Yf6iw3MM"
   },
   "source": [
    "### Treino Modelo"
   ]
  },
  {
   "cell_type": "markdown",
   "metadata": {
    "id": "f4Hd5oQOII-b"
   },
   "source": [
    "Modelo Critic"
   ]
  },
  {
   "cell_type": "code",
   "execution_count": null,
   "metadata": {
    "colab": {
     "base_uri": "https://localhost:8080/"
    },
    "id": "VfBev8v-ybxU",
    "outputId": "b6eac4dd-0c8d-4f69-abc4-6421866bd8f5",
    "tags": []
   },
   "outputs": [
    {
     "name": "stdout",
     "output_type": "stream",
     "text": [
      "Epoca 1\n",
      "Traning Loss: 0.4226136771659996\n",
      "Validation Loss: 0.30943483486771584\n",
      "Train Accuracy: 0.8435122569737954\n",
      "Validation Accuracy: 0.8757921419518377\n",
      "Train Balanced Accuracy: 0.8034717494894486\n",
      "Validation Balanced Accuracy: 0.8553065395095367\n"
     ]
    }
   ],
   "source": [
    "optimizer_critic = AdamW(MODEL_CRITIC.parameters(),\n",
    "                        lr=2.5e-5,\n",
    "                        weight_decay=0.01)\n",
    "\n",
    "num_training_steps = len(dataloader_train_critic) * NUM_EPOCHS\n",
    "\n",
    "num_warmup_steps = int(0.1 * num_training_steps)\n",
    "\n",
    "scheduler_critic = get_scheduler(\n",
    "    \"linear\",\n",
    "    optimizer=optimizer_critic,\n",
    "    num_warmup_steps=num_warmup_steps,\n",
    "    num_training_steps=num_training_steps\n",
    ")\n",
    "\n",
    "MODEL_CRITIC, model_critic_train_results = Train(MODEL_CRITIC, 'CRITIC', dataloader_train_critic, dataloader_val_critic, optimizer_critic, scheduler_critic, NUM_EPOCHS, DEVICE, class_weights_critic)"
   ]
  },
  {
   "cell_type": "code",
   "execution_count": null,
   "metadata": {
    "id": "5taylaC0tSRY"
   },
   "outputs": [],
   "source": [
    "model_critic_train_results.plot(kind='line')\n",
    "plot.title('Loss e Acuracia Critic pós Treino')\n",
    "plot.xticks(range(1, len(model_critic_train_results)+1, 1))\n",
    "plot.xlabel('Época')\n",
    "plot.ylabel('Valores')\n",
    "plot.legend(loc='best')\n",
    "plot.show()"
   ]
  },
  {
   "cell_type": "markdown",
   "metadata": {
    "id": "eAzZvkjFIPbd"
   },
   "source": [
    "Modelo Audience"
   ]
  },
  {
   "cell_type": "code",
   "execution_count": null,
   "metadata": {
    "colab": {
     "base_uri": "https://localhost:8080/"
    },
    "id": "Nl5GE-HmIM1r",
    "outputId": "bf4dc6d3-62d0-4b8d-9a80-23286485ba18"
   },
   "outputs": [
    {
     "name": "stdout",
     "output_type": "stream",
     "text": [
      "Epoca 1\n",
      "Traning Loss: 1.9826084008304083\n",
      "Validation Loss: 1.530586591581019\n",
      "Train Accuracy: 0.3740938573063716\n",
      "Validation Accuracy: 0.4650896604349485\n",
      "Train Balanced Accuracy: 0.23268970972518027\n",
      "Validation Balanced Accuracy: 0.301732675620377\n"
     ]
    }
   ],
   "source": [
    "optimizer_audience = AdamW(MODEL_AUDIENCE.parameters(),\n",
    "                          lr=2.5e-5,\n",
    "                          weight_decay=0.01)\n",
    "\n",
    "num_training_steps = len(dataloader_train_audience) * NUM_EPOCHS\n",
    "\n",
    "num_warmup_steps = int(0.1 * num_training_steps)\n",
    "\n",
    "scheduler_audience = get_scheduler(\n",
    "    \"linear\",\n",
    "    optimizer=optimizer_audience,\n",
    "    num_warmup_steps=num_warmup_steps,\n",
    "    num_training_steps=num_training_steps\n",
    ")\n",
    "\n",
    "MODEL_AUDIENCE, model_audience_train_results = Train(MODEL_AUDIENCE, 'AUDIENCE', dataloader_train_audience, dataloader_val_audience, optimizer_audience, scheduler_audience, NUM_EPOCHS, DEVICE, class_weights_audience)"
   ]
  },
  {
   "cell_type": "code",
   "execution_count": null,
   "metadata": {
    "id": "FLcKPAVfvR-I"
   },
   "outputs": [],
   "source": [
    "model_audience_train_results.plot(kind='line')\n",
    "plot.title('Loss e Acuracia Audience pós Treino')\n",
    "plot.xticks(range(1, len(model_audience_train_results)+1, 1))\n",
    "plot.xlabel('Época')\n",
    "plot.ylabel('Valores')\n",
    "plot.legend(loc='best')\n",
    "plot.show()"
   ]
  },
  {
   "cell_type": "markdown",
   "metadata": {
    "id": "mmhWYVuxw3MM"
   },
   "source": [
    "### Avaliação do Modelo no Conjunto Test"
   ]
  },
  {
   "cell_type": "markdown",
   "metadata": {
    "id": "0jA-Gt3oI7Hh"
   },
   "source": [
    "Modelo Critic"
   ]
  },
  {
   "cell_type": "code",
   "execution_count": null,
   "metadata": {
    "colab": {
     "base_uri": "https://localhost:8080/",
     "height": 748
    },
    "id": "WcG2_Tk9ybxV",
    "outputId": "86aaef2b-2f42-46a2-8b0e-d287ae84001c",
    "tags": []
   },
   "outputs": [
    {
     "name": "stderr",
     "output_type": "stream",
     "text": [
      "Some weights of BertForSequenceClassification were not initialized from the model checkpoint at google-bert/bert-base-uncased and are newly initialized: ['classifier.bias', 'classifier.weight']\n",
      "You should probably TRAIN this model on a down-stream task to be able to use it for predictions and inference.\n",
      "<ipython-input-19-7ff29ba00492>:4: FutureWarning: You are using `torch.load` with `weights_only=False` (the current default value), which uses the default pickle module implicitly. It is possible to construct malicious pickle data which will execute arbitrary code during unpickling (See https://github.com/pytorch/pytorch/blob/main/SECURITY.md#untrusted-models for more details). In a future release, the default value for `weights_only` will be flipped to `True`. This limits the functions that could be executed during unpickling. Arbitrary objects will no longer be allowed to be loaded via this mode unless they are explicitly allowlisted by the user via `torch.serialization.add_safe_globals`. We recommend you start setting `weights_only=True` for any use case where you don't have full control of the loaded file. Please open an issue on GitHub for any issues related to this experimental feature.\n",
      "  best_model_critic.load_state_dict(torch.load(model_config_critic, map_location=torch.device('cpu')))\n"
     ]
    },
    {
     "name": "stdout",
     "output_type": "stream",
     "text": [
      "Melhor modelo\n"
     ]
    },
    {
     "name": "stderr",
     "output_type": "stream",
     "text": [
      "BertSdpaSelfAttention is used but `torch.nn.functional.scaled_dot_product_attention` does not support non-absolute `position_embedding_type` or `output_attentions=True` or `head_mask`. Falling back to the manual attention implementation, but specifying the manual implementation will be required from Transformers version v5.0.0 onwards. This warning can be removed using the argument `attn_implementation=\"eager\"` when loading the model.\n"
     ]
    },
    {
     "name": "stdout",
     "output_type": "stream",
     "text": [
      "Test Loss: 0.33070381900035245\n",
      "Test Accuracy: 0.896586684690774\n",
      "Test Balanced Accuracy: 0.7799412594610422\n"
     ]
    },
    {
     "data": {
      "image/png": "[encoded data removed]",
      "text/plain": [
       "<Figure size 800x600 with 2 Axes>"
      ]
     },
     "metadata": {},
     "output_type": "display_data"
    }
   ],
   "source": [
    "best_epoch_critic = 2\n",
    "model_config_critic = f'finetuned_CRITIC_{best_epoch_critic}.model'\n",
    "best_model_critic = AutoModelForSequenceClassification.from_pretrained(MODEL_NAME, num_labels=NUM_LABELS_CRITIC, output_attentions=True, output_hidden_states=False)\n",
    "best_model_critic.load_state_dict(torch.load(model_config_critic, map_location=torch.device('cpu')))\n",
    "best_model_critic.to(DEVICE)\n",
    "\n",
    "print(\"Melhor modelo\")\n",
    "_, preds, labels = Test(best_model_critic, dataloader_test_critic, DEVICE)\n",
    "print(f'Test Loss: {_}')\n",
    "preds_array = numpy.argmax(preds, axis=1)\n",
    "val_accuracy_2 = accuracy_score(labels, preds_array)\n",
    "print(f'Test Accuracy: {val_accuracy_2}')\n",
    "val_balanced_accuracy_2 = balanced_accuracy_score(labels, preds_array)\n",
    "print(f'Test Balanced Accuracy: {val_balanced_accuracy_2}')\n",
    "\n",
    "ConfusionMatrix(labels, preds_array, title=\"Matrix de confusão - Modelo Critic\", classes_list=distinct_sentiment_labels)"
   ]
  },
  {
   "cell_type": "markdown",
   "metadata": {
    "id": "z92QdFJbJrT4"
   },
   "source": [
    "Modelo Audience"
   ]
  },
  {
   "cell_type": "code",
   "execution_count": null,
   "metadata": {
    "colab": {
     "base_uri": "https://localhost:8080/"
    },
    "id": "n6vFHrfMJr6Z",
    "outputId": "e53e4eef-9c71-4f72-b3b7-572539ccbb33"
   },
   "outputs": [
    {
     "name": "stderr",
     "output_type": "stream",
     "text": [
      "Some weights of BertForSequenceClassification were not initialized from the model checkpoint at google-bert/bert-base-uncased and are newly initialized: ['classifier.bias', 'classifier.weight']\n",
      "You should probably TRAIN this model on a down-stream task to be able to use it for predictions and inference.\n",
      "<ipython-input-45-16a11f671bd8>:4: FutureWarning: You are using `torch.load` with `weights_only=False` (the current default value), which uses the default pickle module implicitly. It is possible to construct malicious pickle data which will execute arbitrary code during unpickling (See https://github.com/pytorch/pytorch/blob/main/SECURITY.md#untrusted-models for more details). In a future release, the default value for `weights_only` will be flipped to `True`. This limits the functions that could be executed during unpickling. Arbitrary objects will no longer be allowed to be loaded via this mode unless they are explicitly allowlisted by the user via `torch.serialization.add_safe_globals`. We recommend you start setting `weights_only=True` for any use case where you don't have full control of the loaded file. Please open an issue on GitHub for any issues related to this experimental feature.\n",
      "  best_model_audience.load_state_dict(torch.load(model_config_audience, map_location=torch.device('cpu')))\n"
     ]
    },
    {
     "name": "stdout",
     "output_type": "stream",
     "text": [
      "Melhor modelo\n",
      "Test Loss: 1.6534529623461933\n",
      "Test Accuracy: 0.45791682563906905\n",
      "Test Balanced Accuracy: 0.3138093236569714\n"
     ]
    },
    {
     "data": {
      "image/png": "[encoded data removed]",
      "text/plain": [
       "<Figure size 800x600 with 2 Axes>"
      ]
     },
     "metadata": {},
     "output_type": "display_data"
    }
   ],
   "source": [
    "best_epoch_audience = 8\n",
    "model_config_audience = f'finetuned_AUDIENCE_{best_epoch_audience}.model'\n",
    "best_model_audience = AutoModelForSequenceClassification.from_pretrained(MODEL_NAME, num_labels=NUM_LABELS_AUDIENCE, output_attentions=True, output_hidden_states=False)\n",
    "best_model_audience.load_state_dict(torch.load(model_config_audience, map_location=torch.device('cpu')))\n",
    "best_model_audience.to(DEVICE)\n",
    "\n",
    "print(\"Melhor modelo\")\n",
    "_, preds, labels = Test(best_model_audience, dataloader_test_audience, DEVICE)\n",
    "print(f'Test Loss: {_}')\n",
    "preds_array = numpy.argmax(preds, axis=1)\n",
    "val_accuracy_2 = accuracy_score(labels, preds_array)\n",
    "print(f'Test Accuracy: {val_accuracy_2}')\n",
    "val_balanced_accuracy_2 = balanced_accuracy_score(labels, preds_array)\n",
    "print(f'Test Balanced Accuracy: {val_balanced_accuracy_2}')\n",
    "\n",
    "ConfusionMatrix(labels, preds_array, title=\"Matrix de confusão - Modelo Audience\", classes_list=sorted_rating_labels)"
   ]
  },
  {
   "cell_type": "markdown",
   "metadata": {
    "id": "z9GwIIfPw3MN"
   },
   "source": [
    "### Análise do Mecanismo de Atenção com BertViz\n",
    "\n"
   ]
  },
  {
   "cell_type": "markdown",
   "metadata": {
    "id": "riSq6GAkLO5J"
   },
   "source": [
    "Modelo Critic"
   ]
  },
  {
   "cell_type": "code",
   "execution_count": null,
   "metadata": {
    "colab": {
     "base_uri": "https://localhost:8080/"
    },
    "id": "MP2-rOdFybxW",
    "outputId": "801a871c-2f54-45fd-c85c-bb75fd2beb39",
    "tags": []
   },
   "outputs": [
    {
     "name": "stdout",
     "output_type": "stream",
     "text": [
      "Modelo Critic\n",
      "Número de acertos: 6\n",
      "Texto caso correto: the brisk writing and pace keep it engaging, and it ’ s certainly more fun than getting called in for jury duty.\n",
      "Número de incorretos: 87\n",
      "Texto caso incorreto: gaslit works because it isn ' t only about the watergate break - in - in the show, it occurs as early as in episode 2 - but also about the people whose lives and careers were made or unmade by the scandal.\n"
     ]
    }
   ],
   "source": [
    "input_ids=[]\n",
    "for batch in dataloader_test_critic:\n",
    "    input_ids.append(batch[0])\n",
    "\n",
    "print(f'Modelo Critic')\n",
    "correct_cases_critic = [(text, true, pred) for text, true, pred in zip(input_ids, labels_test_critic, preds_array) if true == pred]\n",
    "print(f'Número de acertos: {len(correct_cases_critic)}')\n",
    "\n",
    "decoded_correct_text_critic = TOKENIZER_CRITIC.decode(torch.tensor(correct_cases_critic[0][0][0].tolist()), skip_special_tokens=True)\n",
    "print(f'Texto caso correto: {decoded_correct_text_critic}')\n",
    "\n",
    "incorrect_cases_critic =[(text, true, pred) for text, true, pred in zip(input_ids, labels_test_critic, preds_array) if true != pred]\n",
    "print(f'Número de incorretos: {len(incorrect_cases_critic)}')\n",
    "\n",
    "decoded_incorrect_text_critic = TOKENIZER_CRITIC.decode(torch.tensor(incorrect_cases_critic[0][0][0].tolist()), skip_special_tokens=True)\n",
    "print(f'Texto caso incorreto: {decoded_incorrect_text_critic}')"
   ]
  },
  {
   "cell_type": "code",
   "execution_count": null,
   "metadata": {
    "colab": {
     "base_uri": "https://localhost:8080/",
     "height": 1000
    },
    "id": "JskSaLU7ybxW",
    "outputId": "ca5725b9-036a-49cd-9503-7c008f63a9cb",
    "tags": []
   },
   "outputs": [],
   "source": [
    "model = best_model_critic\n",
    "print(\"Análise para um comentário que foi corretamente predito\")\n",
    "inputs = TOKENIZER_CRITIC.encode(decoded_correct_text_critic, return_tensors='pt').to(DEVICE)\n",
    "outputs = model(inputs)\n",
    "attention = outputs[-1]\n",
    "tokens = TOKENIZER_CRITIC.convert_ids_to_tokens(inputs[0])\n",
    "head_view(attention, tokens)\n",
    "model_view(attention, tokens)\n",
    "\n",
    "print(\"Análise para um comentário que foi incorretamente predito\")\n",
    "inputs = TOKENIZER_CRITIC.encode(decoded_incorrect_text_critic, return_tensors='pt').to(DEVICE)\n",
    "outputs = model(inputs)\n",
    "attention = outputs[-1]\n",
    "tokens = TOKENIZER_CRITIC.convert_ids_to_tokens(inputs[0])\n",
    "head_view(attention, tokens)\n",
    "model_view(attention, tokens)"
   ]
  },
  {
   "cell_type": "markdown",
   "metadata": {
    "id": "u0EI0NaiK9iv"
   },
   "source": [
    "Modelo Audience"
   ]
  },
  {
   "cell_type": "code",
   "execution_count": null,
   "metadata": {
    "id": "GEqPvWQBK864"
   },
   "outputs": [],
   "source": [
    "input_ids=[]\n",
    "for batch in dataloader_test_audience:\n",
    "    input_ids.append(batch[0])\n",
    "\n",
    "print(f'Modelo Audience')\n",
    "correct_cases_audience = [(text, true, pred) for text, true, pred in zip(input_ids, labels_test_audience, preds_array) if true == pred]\n",
    "print(f'Número de acertos: {len(correct_cases_audience)}')\n",
    "\n",
    "decoded_correct_text_audience = TOKENIZER_AUDIENCE.decode(torch.tensor(correct_cases_audience[0][0][0].tolist()), skip_special_tokens=True)\n",
    "print(f'Texto caso correto: {decoded_correct_text_audience}')\n",
    "\n",
    "incorrect_cases_audience =[(text, true, pred) for text, true, pred in zip(input_ids, labels_test_audience, preds_array) if true != pred]\n",
    "print(f'Número de incorretos: {len(incorrect_cases_audience)}')\n",
    "\n",
    "decoded_incorrect_text_audience = TOKENIZER_AUDIENCE.decode(torch.tensor(incorrect_cases_audience[0][0][0].tolist()), skip_special_tokens=True)\n",
    "print(f'Texto caso incorreto: {decoded_incorrect_text_audience}')"
   ]
  },
  {
   "cell_type": "code",
   "execution_count": null,
   "metadata": {
    "colab": {
     "base_uri": "https://localhost:8080/",
     "height": 1000
    },
    "id": "Mq7Lkn4RMgCv",
    "outputId": "c87826b5-6ddf-42f3-c154-747d50e6fd83"
   },
   "outputs": [],
   "source": [
    "model = best_model_audience\n",
    "print(\"Análise para um comentário que foi corretamente predito\")\n",
    "inputs = TOKENIZER_AUDIENCE.encode(decoded_correct_text_audience, return_tensors='pt').to(DEVICE)\n",
    "outputs = model(inputs)\n",
    "attention = outputs[-1]\n",
    "tokens = TOKENIZER_AUDIENCE.convert_ids_to_tokens(inputs[0])\n",
    "head_view(attention, tokens)\n",
    "model_view(attention, tokens)\n",
    "\n",
    "print(\"Análise para um comentário que foi incorretamente predito\")\n",
    "inputs = TOKENIZER_AUDIENCE.encode(decoded_incorrect_text_audience, return_tensors='pt').to(DEVICE)\n",
    "outputs = model(inputs)\n",
    "attention = outputs[-1]\n",
    "tokens = TOKENIZER_AUDIENCE.convert_ids_to_tokens(inputs[0])\n",
    "head_view(attention, tokens)\n",
    "model_view(attention, tokens)"
   ]
  }
 ],
 "metadata": {
  "accelerator": "GPU",
  "colab": {
   "gpuType": "T4",
   "provenance": []
  },
  "kernelspec": {
   "display_name": "conda_pytorch_p310",
   "language": "python",
   "name": "conda_pytorch_p310"
  },
  "language_info": {
   "codemirror_mode": {
    "name": "ipython",
    "version": 3
   },
   "file_extension": ".py",
   "mimetype": "text/x-python",
   "name": "python",
   "nbconvert_exporter": "python",
   "pygments_lexer": "ipython3",
   "version": "3.10.14"
  }
 },
 "nbformat": 4,
 "nbformat_minor": 0
}
