{
 "cells": [
  {
   "cell_type": "code",
   "execution_count": null,
   "metadata": {},
   "outputs": [],
   "source": [
    "import pandas as pd\n",
    "from sklearn.feature_extraction.text import TfidfVectorizer\n",
    "from sklearn.model_selection import train_test_split\n",
    "from keras.utils import to_categorical\n",
    "import numpy as np\n",
    "import tensorflow as tf\n",
    "import random\n",
    "tf.random.set_seed(42)\n",
    "np.random.seed(42)\n",
    "random.seed(42)\n",
    "\n",
    "# Carregando os dados de treinamento e teste\n",
    "train_df = pd.read_csv(\"train_audience.csv\")  # Carregando dados de treino\n",
    "train_df = train_df.groupby('Rating', group_keys=False).apply(lambda x: x.sample(1500)).reset_index(drop=True)\n",
    "vectorizer = TfidfVectorizer(stop_words='english') \n",
    "reviews = vectorizer.fit_transform(train_df['Review'])\n",
    "rating = train_df['Rating']"
   ]
  },
  {
   "cell_type": "code",
   "execution_count": null,
   "metadata": {},
   "outputs": [],
   "source": [
    "\n",
    "x_train, x_val, y_train, y_val = train_test_split (reviews, rating,test_size = 0.2)"
   ]
  },
  {
   "cell_type": "code",
   "execution_count": null,
   "metadata": {},
   "outputs": [],
   "source": [
    "\n",
    "from sklearn.preprocessing import LabelEncoder\n",
    "\n",
    "\n",
    "y_train_str = y_train.astype(str)\n",
    "y_val_str = y_val.astype(str)\n",
    "\n",
    "# for val in y_train:\n",
    "#     y_train_str.append(str(val))\n",
    "\n",
    "# for val in y_val:\n",
    "#     y_val_str.append(str(val))\n",
    "\n",
    "\n",
    "label_enc = LabelEncoder()\n",
    "ye_train = label_enc.fit_transform(y_train_str)\n",
    "ye_val = label_enc.transform(y_val_str)"
   ]
  },
  {
   "cell_type": "code",
   "execution_count": null,
   "metadata": {},
   "outputs": [],
   "source": [
    "from keras.utils import to_categorical\n",
    "\n",
    "y_ohe_train = to_categorical(ye_train, num_classes=10)\n",
    "y_ohe_val = to_categorical(ye_val, num_classes=10)"
   ]
  },
  {
   "cell_type": "code",
   "execution_count": null,
   "metadata": {},
   "outputs": [],
   "source": [
    "from sklearn import metrics\n",
    "import matplotlib.pyplot as plt\n",
    "import seaborn as sns\n",
    "\n",
    "\n",
    "def evaluate_metrics(y, p):\n",
    "    # Cálculo das métricas de acerto.\n",
    "    print('Accuracy:', round(metrics.accuracy_score(y, p),3))\n",
    "    print('Accuracy (balanced):', round(metrics.balanced_accuracy_score(y, p), 3))\n",
    "\n",
    "    # Calculo da matriz de confusão.\n",
    "    c = metrics.confusion_matrix(y, p)\n",
    "    r = c / c.sum(axis=1, keepdims=True)\n",
    "\n",
    "    plt.figure(figsize=(10, 8))\n",
    "    sns.heatmap(r, annot=True, fmt=\".2f\", cmap=\"Blues\")\n",
    "    plt.xlabel(\"Classe predita\")\n",
    "    plt.ylabel(\"Classe verdadeira\")\n",
    "    plt.title(\"Matriz de confusão relativa\")\n",
    "    plt.show()"
   ]
  },
  {
   "cell_type": "code",
   "execution_count": null,
   "metadata": {},
   "outputs": [],
   "source": [
    "from sklearn.ensemble import RandomForestClassifier\n",
    "\n",
    "rndForest = RandomForestClassifier(max_depth=8, n_estimators=800, max_features=800)\n",
    "rndForest.fit(x_train, y_ohe_train)\n",
    "p_val = rndForest.predict(x_val)"
   ]
  },
  {
   "cell_type": "code",
   "execution_count": null,
   "metadata": {},
   "outputs": [],
   "source": [
    "\n",
    "predictions = np.argmax(p_val, axis=1)\n",
    "\n",
    "evaluate_metrics(ye_val, predictions)"
   ]
  }
 ],
 "metadata": {
  "kernelspec": {
   "display_name": ".venv",
   "language": "python",
   "name": "python3"
  },
  "language_info": {
   "codemirror_mode": {
    "name": "ipython",
    "version": 3
   },
   "file_extension": ".py",
   "mimetype": "text/x-python",
   "name": "python",
   "nbconvert_exporter": "python",
   "pygments_lexer": "ipython3",
   "version": "3.12.3"
  }
 },
 "nbformat": 4,
 "nbformat_minor": 2
}
