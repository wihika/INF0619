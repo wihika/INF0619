{
 "cells": [
  {
   "cell_type": "code",
   "execution_count": 1,
   "metadata": {},
   "outputs": [],
   "source": [
    "import pandas as pd\n",
    "\n",
    "train_df = pd.read_csv(\"train_critic.csv\").dropna()  # Carregando dados de treino\n",
    "test_df = pd.read_csv(\"test_critic.csv\").dropna() # Carregando dados de teste"
   ]
  },
  {
   "cell_type": "code",
   "execution_count": 2,
   "metadata": {},
   "outputs": [
    {
     "name": "stderr",
     "output_type": "stream",
     "text": [
      "/home/felipedias/BigData/Trabalho1/.venv/lib/python3.12/site-packages/tqdm/auto.py:21: TqdmWarning: IProgress not found. Please update jupyter and ipywidgets. See https://ipywidgets.readthedocs.io/en/stable/user_install.html\n",
      "  from .autonotebook import tqdm as notebook_tqdm\n",
      "2024-12-08 12:33:01.717793: I tensorflow/core/util/port.cc:153] oneDNN custom operations are on. You may see slightly different numerical results due to floating-point round-off errors from different computation orders. To turn them off, set the environment variable `TF_ENABLE_ONEDNN_OPTS=0`.\n",
      "2024-12-08 12:33:01.725046: E external/local_xla/xla/stream_executor/cuda/cuda_fft.cc:477] Unable to register cuFFT factory: Attempting to register factory for plugin cuFFT when one has already been registered\n",
      "WARNING: All log messages before absl::InitializeLog() is called are written to STDERR\n",
      "E0000 00:00:1733671981.733943   16894 cuda_dnn.cc:8310] Unable to register cuDNN factory: Attempting to register factory for plugin cuDNN when one has already been registered\n",
      "E0000 00:00:1733671981.736656   16894 cuda_blas.cc:1418] Unable to register cuBLAS factory: Attempting to register factory for plugin cuBLAS when one has already been registered\n",
      "2024-12-08 12:33:01.745890: I tensorflow/core/platform/cpu_feature_guard.cc:210] This TensorFlow binary is optimized to use available CPU instructions in performance-critical operations.\n",
      "To enable the following instructions: AVX2 AVX_VNNI FMA, in other operations, rebuild TensorFlow with the appropriate compiler flags.\n",
      "Some weights of XLNetForSequenceClassification were not initialized from the model checkpoint at xlnet-base-cased and are newly initialized: ['logits_proj.bias', 'logits_proj.weight', 'sequence_summary.summary.bias', 'sequence_summary.summary.weight']\n",
      "You should probably TRAIN this model on a down-stream task to be able to use it for predictions and inference.\n"
     ]
    }
   ],
   "source": [
    "from transformers import AutoTokenizer, Trainer, Trainer, TrainingArguments, AutoModelForSequenceClassification\n",
    "import torch\n",
    "\n",
    "NUM_LABELS = 2  # Número de classes\n",
    "model_name = \"xlnet-base-cased\"  # Escolha o modelo conforme sua necessidade\n",
    "tokenizer = AutoTokenizer.from_pretrained(model_name)  # Carregar o tokenizer\n",
    "model = AutoModelForSequenceClassification.from_pretrained(model_name, num_labels=NUM_LABELS)  # Carregar o modelo de classificação"
   ]
  },
  {
   "cell_type": "code",
   "execution_count": 3,
   "metadata": {},
   "outputs": [
    {
     "name": "stdout",
     "output_type": "stream",
     "text": [
      "DatasetDict({\n",
      "    train: Dataset({\n",
      "        features: ['Show', 'Sentiment', 'Review', '__index_level_0__'],\n",
      "        num_rows: 9464\n",
      "    })\n",
      "    test: Dataset({\n",
      "        features: ['Show', 'Sentiment', 'Review', '__index_level_0__'],\n",
      "        num_rows: 2367\n",
      "    })\n",
      "})\n"
     ]
    }
   ],
   "source": [
    "from datasets import Dataset\n",
    "import tensorflow as tf\n",
    "import random\n",
    "import numpy as np\n",
    "tf.random.set_seed(42)\n",
    "np.random.seed(42)\n",
    "random.seed(42)\n",
    "\n",
    "\n",
    "train_data_set = Dataset.from_pandas(train_df)\n",
    "train_val_set = train_data_set.train_test_split (test_size = 0.2)\n",
    "\n",
    "print(train_val_set)\n",
    "\n",
    "x_train = train_val_set[\"train\"][\"Review\"]\n",
    "x_val = train_val_set[\"test\"][\"Review\"]\n",
    "y_train = train_val_set[\"train\"][\"Sentiment\"]\n",
    "y_val = train_val_set[\"test\"][\"Sentiment\"]\n",
    "\n",
    "x_test = test_df[\"Review\"]\n",
    "test_set = Dataset.from_pandas(test_df)"
   ]
  },
  {
   "cell_type": "code",
   "execution_count": 4,
   "metadata": {},
   "outputs": [],
   "source": [
    "import seaborn as sns\n",
    "import matplotlib.pyplot as plt\n",
    "\n",
    "def  plot_loss_accuracy(df):\n",
    "    plt.figure(figsize=(16, 6))\n",
    "    plt.subplot(121)\n",
    "    sns.lineplot(data=df[['loss', 'eval_loss']])"
   ]
  },
  {
   "cell_type": "code",
   "execution_count": 23,
   "metadata": {},
   "outputs": [],
   "source": [
    "from sklearn import metrics\n",
    "\n",
    "def plot_confusion_matrix(dataset, predictions, labels=None):\n",
    "    #calcula a acurácia balanceada\n",
    "    labels = dataset['Sentiment']\n",
    "    preds = [0 if pred['label'] == 'LABEL_0' else 1 for pred in predictions]\n",
    "    \n",
    "    \n",
    "    print('balanced Accuracy:', balanced_accuracy_score(labels, preds))\n",
    "    print('accuracy', metrics.accuracy_score(labels, preds))\n",
    "\n",
    "    # Calculo da matriz de confusão.\n",
    "    c = metrics.confusion_matrix(labels, preds)\n",
    "    r = c / c.sum(axis=1, keepdims=True)\n",
    "\n",
    "    plt.figure(figsize=(10, 8))\n",
    "    sns.heatmap(r, annot=True, fmt=\".2f\", cmap=\"Blues\",  annot_kws={'size': 16})\n",
    "    plt.xlabel(\"Classe predita\")\n",
    "    plt.ylabel(\"Classe verdadeira\")\n",
    "    plt.title(\"Matriz de confusão relativa\")\n",
    "    plt.show()"
   ]
  },
  {
   "cell_type": "code",
   "execution_count": 6,
   "metadata": {},
   "outputs": [],
   "source": [
    "train_encodings = tokenizer(list(x_train), truncation=True, padding=True, max_length=256)\n",
    "valid_encodings = tokenizer(list(x_val), truncation=True, padding=True, max_length=256)"
   ]
  },
  {
   "cell_type": "code",
   "execution_count": 7,
   "metadata": {},
   "outputs": [],
   "source": [
    "class DatasetLoader(torch.utils.data.Dataset):\n",
    "    def __init__(self, encodings, labels):\n",
    "        self.encodings = encodings\n",
    "        self.labels = labels\n",
    "\n",
    "    def __getitem__(self, idx):\n",
    "        item = {key: torch.tensor(val[idx]) for key, val in self.encodings.items()}\n",
    "        item['labels'] = torch.tensor(self.labels[idx])\n",
    "        return item\n",
    "\n",
    "    def __len__(self):\n",
    "        return len(self.labels)\n",
    "    \n",
    "train_dataset = DatasetLoader(train_encodings, list(y_train))\n",
    "valid_dataset = DatasetLoader(valid_encodings, list(y_val))"
   ]
  },
  {
   "cell_type": "code",
   "execution_count": 8,
   "metadata": {},
   "outputs": [
    {
     "name": "stderr",
     "output_type": "stream",
     "text": [
      "/home/felipedias/BigData/Trabalho1/.venv/lib/python3.12/site-packages/transformers/training_args.py:1568: FutureWarning: `evaluation_strategy` is deprecated and will be removed in version 4.46 of 🤗 Transformers. Use `eval_strategy` instead\n",
      "  warnings.warn(\n"
     ]
    }
   ],
   "source": [
    "training_args = TrainingArguments(\n",
    "per_device_train_batch_size=32,\n",
    "    per_device_eval_batch_size=64,\n",
    "    num_train_epochs=10,\n",
    "    logging_dir='./logs1',\n",
    "    logging_steps=200,\n",
    "    evaluation_strategy=\"steps\",\n",
    "    eval_steps=200,\n",
    "    output_dir='./results1',\n",
    "    learning_rate=0.00001,\n",
    "    lr_scheduler_type=\"constant\",\n",
    "    remove_unused_columns=False,\n",
    ")\n"
   ]
  },
  {
   "cell_type": "code",
   "execution_count": 9,
   "metadata": {},
   "outputs": [],
   "source": [
    "def make_model_contiguous(model):\n",
    "    # Aplica .contiguous() a todos os tensores dos parâmetros do modelo\n",
    "    for param in model.parameters():\n",
    "        if not param.is_contiguous():\n",
    "            param.data = param.data.contiguous()"
   ]
  },
  {
   "cell_type": "code",
   "execution_count": 10,
   "metadata": {},
   "outputs": [],
   "source": [
    "from sklearn.metrics import balanced_accuracy_score\n",
    "\n",
    "def compute_metrics(p):\n",
    "    return {\"balanced_accuracy\": balanced_accuracy_score(p.label_ids, np.argmax(p.predictions, axis=1))}"
   ]
  },
  {
   "cell_type": "code",
   "execution_count": 11,
   "metadata": {},
   "outputs": [],
   "source": [
    "\n",
    "\n",
    "make_model_contiguous(model)\n",
    "\n",
    "trainer = Trainer(\n",
    "    model=model,\n",
    "    args=training_args,\n",
    "    train_dataset=train_dataset,\n",
    "    eval_dataset=valid_dataset,\n",
    "    compute_metrics=compute_metrics,\n",
    ")"
   ]
  },
  {
   "cell_type": "code",
   "execution_count": 12,
   "metadata": {},
   "outputs": [
    {
     "name": "stderr",
     "output_type": "stream",
     "text": [
      "  7%|▋         | 200/2960 [01:00<13:21,  3.44it/s]"
     ]
    },
    {
     "name": "stdout",
     "output_type": "stream",
     "text": [
      "{'loss': 0.3019, 'grad_norm': 4.471730709075928, 'learning_rate': 1e-05, 'epoch': 0.68}\n"
     ]
    },
    {
     "name": "stderr",
     "output_type": "stream",
     "text": [
      "                                                  \n",
      "  7%|▋         | 200/2960 [01:07<13:21,  3.44it/s]"
     ]
    },
    {
     "name": "stdout",
     "output_type": "stream",
     "text": [
      "{'eval_loss': 0.18386369943618774, 'eval_balanced_accuracy': 0.8851548762545006, 'eval_runtime': 7.0948, 'eval_samples_per_second': 333.626, 'eval_steps_per_second': 5.215, 'epoch': 0.68}\n"
     ]
    },
    {
     "name": "stderr",
     "output_type": "stream",
     "text": [
      " 14%|█▎        | 400/2960 [02:08<13:36,  3.14it/s]  "
     ]
    },
    {
     "name": "stdout",
     "output_type": "stream",
     "text": [
      "{'loss': 0.2105, 'grad_norm': 9.70324993133545, 'learning_rate': 1e-05, 'epoch': 1.35}\n"
     ]
    },
    {
     "name": "stderr",
     "output_type": "stream",
     "text": [
      "                                                  \n",
      " 14%|█▎        | 400/2960 [02:15<13:36,  3.14it/s]"
     ]
    },
    {
     "name": "stdout",
     "output_type": "stream",
     "text": [
      "{'eval_loss': 0.1837569773197174, 'eval_balanced_accuracy': 0.8436247742197873, 'eval_runtime': 6.6267, 'eval_samples_per_second': 357.193, 'eval_steps_per_second': 5.584, 'epoch': 1.35}\n"
     ]
    },
    {
     "name": "stderr",
     "output_type": "stream",
     "text": [
      " 20%|██        | 600/2960 [03:15<10:56,  3.59it/s]  "
     ]
    },
    {
     "name": "stdout",
     "output_type": "stream",
     "text": [
      "{'loss': 0.1738, 'grad_norm': 13.011472702026367, 'learning_rate': 1e-05, 'epoch': 2.03}\n"
     ]
    },
    {
     "name": "stderr",
     "output_type": "stream",
     "text": [
      "                                                  \n",
      " 20%|██        | 600/2960 [03:21<10:56,  3.59it/s]"
     ]
    },
    {
     "name": "stdout",
     "output_type": "stream",
     "text": [
      "{'eval_loss': 0.2290029227733612, 'eval_balanced_accuracy': 0.844254267395543, 'eval_runtime': 6.2585, 'eval_samples_per_second': 378.205, 'eval_steps_per_second': 5.912, 'epoch': 2.03}\n"
     ]
    },
    {
     "name": "stderr",
     "output_type": "stream",
     "text": [
      " 27%|██▋       | 800/2960 [04:18<09:58,  3.61it/s]  "
     ]
    },
    {
     "name": "stdout",
     "output_type": "stream",
     "text": [
      "{'loss': 0.131, 'grad_norm': 2.618626832962036, 'learning_rate': 1e-05, 'epoch': 2.7}\n"
     ]
    },
    {
     "name": "stderr",
     "output_type": "stream",
     "text": [
      "                                                  \n",
      " 27%|██▋       | 800/2960 [04:24<09:58,  3.61it/s]"
     ]
    },
    {
     "name": "stdout",
     "output_type": "stream",
     "text": [
      "{'eval_loss': 0.2214221954345703, 'eval_balanced_accuracy': 0.8370165911075491, 'eval_runtime': 6.1898, 'eval_samples_per_second': 382.404, 'eval_steps_per_second': 5.978, 'epoch': 2.7}\n"
     ]
    },
    {
     "name": "stderr",
     "output_type": "stream",
     "text": [
      " 34%|███▍      | 1000/2960 [05:19<09:01,  3.62it/s] "
     ]
    },
    {
     "name": "stdout",
     "output_type": "stream",
     "text": [
      "{'loss': 0.1074, 'grad_norm': 16.776851654052734, 'learning_rate': 1e-05, 'epoch': 3.38}\n"
     ]
    },
    {
     "name": "stderr",
     "output_type": "stream",
     "text": [
      "                                                   \n",
      " 34%|███▍      | 1000/2960 [05:25<09:01,  3.62it/s]"
     ]
    },
    {
     "name": "stdout",
     "output_type": "stream",
     "text": [
      "{'eval_loss': 0.3034783601760864, 'eval_balanced_accuracy': 0.8767441895237982, 'eval_runtime': 6.1454, 'eval_samples_per_second': 385.167, 'eval_steps_per_second': 6.021, 'epoch': 3.38}\n"
     ]
    },
    {
     "name": "stderr",
     "output_type": "stream",
     "text": [
      " 41%|████      | 1200/2960 [06:22<08:06,  3.62it/s]  "
     ]
    },
    {
     "name": "stdout",
     "output_type": "stream",
     "text": [
      "{'loss': 0.0955, 'grad_norm': 1.252360463142395, 'learning_rate': 1e-05, 'epoch': 4.05}\n"
     ]
    },
    {
     "name": "stderr",
     "output_type": "stream",
     "text": [
      "                                                   \n",
      " 41%|████      | 1200/2960 [06:28<08:06,  3.62it/s]"
     ]
    },
    {
     "name": "stdout",
     "output_type": "stream",
     "text": [
      "{'eval_loss': 0.2889460027217865, 'eval_balanced_accuracy': 0.8472499671048697, 'eval_runtime': 6.1619, 'eval_samples_per_second': 384.133, 'eval_steps_per_second': 6.005, 'epoch': 4.05}\n"
     ]
    },
    {
     "name": "stderr",
     "output_type": "stream",
     "text": [
      " 47%|████▋     | 1400/2960 [07:24<07:09,  3.63it/s]  "
     ]
    },
    {
     "name": "stdout",
     "output_type": "stream",
     "text": [
      "{'loss': 0.0739, 'grad_norm': 19.292911529541016, 'learning_rate': 1e-05, 'epoch': 4.73}\n"
     ]
    },
    {
     "name": "stderr",
     "output_type": "stream",
     "text": [
      "                                                   \n",
      " 47%|████▋     | 1400/2960 [07:30<07:09,  3.63it/s]"
     ]
    },
    {
     "name": "stdout",
     "output_type": "stream",
     "text": [
      "{'eval_loss': 0.34776511788368225, 'eval_balanced_accuracy': 0.8238405961793802, 'eval_runtime': 6.1489, 'eval_samples_per_second': 384.944, 'eval_steps_per_second': 6.017, 'epoch': 4.73}\n"
     ]
    },
    {
     "name": "stderr",
     "output_type": "stream",
     "text": [
      " 54%|█████▍    | 1600/2960 [08:24<05:16,  4.30it/s]"
     ]
    },
    {
     "name": "stdout",
     "output_type": "stream",
     "text": [
      "{'loss': 0.0559, 'grad_norm': 0.05857381597161293, 'learning_rate': 1e-05, 'epoch': 5.41}\n"
     ]
    },
    {
     "name": "stderr",
     "output_type": "stream",
     "text": [
      "                                                   \n",
      " 54%|█████▍    | 1600/2960 [08:29<05:16,  4.30it/s]"
     ]
    },
    {
     "name": "stdout",
     "output_type": "stream",
     "text": [
      "{'eval_loss': 0.41288307309150696, 'eval_balanced_accuracy': 0.82128225218005, 'eval_runtime': 5.1789, 'eval_samples_per_second': 457.047, 'eval_steps_per_second': 7.144, 'epoch': 5.41}\n"
     ]
    },
    {
     "name": "stderr",
     "output_type": "stream",
     "text": [
      " 61%|██████    | 1800/2960 [09:16<04:51,  3.97it/s]"
     ]
    },
    {
     "name": "stdout",
     "output_type": "stream",
     "text": [
      "{'loss': 0.0489, 'grad_norm': 13.898727416992188, 'learning_rate': 1e-05, 'epoch': 6.08}\n"
     ]
    },
    {
     "name": "stderr",
     "output_type": "stream",
     "text": [
      "                                                   \n",
      " 61%|██████    | 1800/2960 [09:22<04:51,  3.97it/s]"
     ]
    },
    {
     "name": "stdout",
     "output_type": "stream",
     "text": [
      "{'eval_loss': 0.3603839874267578, 'eval_balanced_accuracy': 0.864528881924425, 'eval_runtime': 5.6964, 'eval_samples_per_second': 415.528, 'eval_steps_per_second': 6.495, 'epoch': 6.08}\n"
     ]
    },
    {
     "name": "stderr",
     "output_type": "stream",
     "text": [
      " 68%|██████▊   | 2000/2960 [10:17<04:26,  3.61it/s]"
     ]
    },
    {
     "name": "stdout",
     "output_type": "stream",
     "text": [
      "{'loss': 0.0292, 'grad_norm': 0.0258945245295763, 'learning_rate': 1e-05, 'epoch': 6.76}\n"
     ]
    },
    {
     "name": "stderr",
     "output_type": "stream",
     "text": [
      "                                                   \n",
      " 68%|██████▊   | 2000/2960 [10:23<04:26,  3.61it/s]"
     ]
    },
    {
     "name": "stdout",
     "output_type": "stream",
     "text": [
      "{'eval_loss': 0.44174519181251526, 'eval_balanced_accuracy': 0.863846307970191, 'eval_runtime': 6.0212, 'eval_samples_per_second': 393.109, 'eval_steps_per_second': 6.145, 'epoch': 6.76}\n"
     ]
    },
    {
     "name": "stderr",
     "output_type": "stream",
     "text": [
      " 74%|███████▍  | 2200/2960 [11:19<03:28,  3.64it/s]"
     ]
    },
    {
     "name": "stdout",
     "output_type": "stream",
     "text": [
      "{'loss': 0.0314, 'grad_norm': 0.0727449506521225, 'learning_rate': 1e-05, 'epoch': 7.43}\n"
     ]
    },
    {
     "name": "stderr",
     "output_type": "stream",
     "text": [
      "                                                   \n",
      " 74%|███████▍  | 2200/2960 [11:26<03:28,  3.64it/s]"
     ]
    },
    {
     "name": "stdout",
     "output_type": "stream",
     "text": [
      "{'eval_loss': 0.5114583969116211, 'eval_balanced_accuracy': 0.8098227849615426, 'eval_runtime': 6.0813, 'eval_samples_per_second': 389.225, 'eval_steps_per_second': 6.084, 'epoch': 7.43}\n"
     ]
    },
    {
     "name": "stderr",
     "output_type": "stream",
     "text": [
      " 81%|████████  | 2400/2960 [12:20<02:28,  3.77it/s]"
     ]
    },
    {
     "name": "stdout",
     "output_type": "stream",
     "text": [
      "{'loss': 0.0323, 'grad_norm': 0.008464502170681953, 'learning_rate': 1e-05, 'epoch': 8.11}\n"
     ]
    },
    {
     "name": "stderr",
     "output_type": "stream",
     "text": [
      "                                                   \n",
      " 81%|████████  | 2400/2960 [12:26<02:28,  3.77it/s]"
     ]
    },
    {
     "name": "stdout",
     "output_type": "stream",
     "text": [
      "{'eval_loss': 0.4836750626564026, 'eval_balanced_accuracy': 0.823104941446668, 'eval_runtime': 5.8867, 'eval_samples_per_second': 402.092, 'eval_steps_per_second': 6.285, 'epoch': 8.11}\n"
     ]
    },
    {
     "name": "stderr",
     "output_type": "stream",
     "text": [
      " 88%|████████▊ | 2600/2960 [13:21<01:36,  3.74it/s]"
     ]
    },
    {
     "name": "stdout",
     "output_type": "stream",
     "text": [
      "{'loss': 0.0238, 'grad_norm': 0.030288107693195343, 'learning_rate': 1e-05, 'epoch': 8.78}\n"
     ]
    },
    {
     "name": "stderr",
     "output_type": "stream",
     "text": [
      "                                                   \n",
      " 88%|████████▊ | 2600/2960 [13:27<01:36,  3.74it/s]"
     ]
    },
    {
     "name": "stdout",
     "output_type": "stream",
     "text": [
      "{'eval_loss': 0.4759489893913269, 'eval_balanced_accuracy': 0.8491788179284441, 'eval_runtime': 5.9451, 'eval_samples_per_second': 398.142, 'eval_steps_per_second': 6.224, 'epoch': 8.78}\n"
     ]
    },
    {
     "name": "stderr",
     "output_type": "stream",
     "text": [
      " 95%|█████████▍| 2800/2960 [14:21<00:44,  3.60it/s]"
     ]
    },
    {
     "name": "stdout",
     "output_type": "stream",
     "text": [
      "{'loss': 0.0211, 'grad_norm': 1.6435989141464233, 'learning_rate': 1e-05, 'epoch': 9.46}\n"
     ]
    },
    {
     "name": "stderr",
     "output_type": "stream",
     "text": [
      "                                                   \n",
      " 95%|█████████▍| 2800/2960 [14:27<00:44,  3.60it/s]"
     ]
    },
    {
     "name": "stdout",
     "output_type": "stream",
     "text": [
      "{'eval_loss': 0.5311421155929565, 'eval_balanced_accuracy': 0.8448508654409741, 'eval_runtime': 6.0839, 'eval_samples_per_second': 389.058, 'eval_steps_per_second': 6.082, 'epoch': 9.46}\n"
     ]
    },
    {
     "name": "stderr",
     "output_type": "stream",
     "text": [
      "100%|██████████| 2960/2960 [15:12<00:00,  3.24it/s]"
     ]
    },
    {
     "name": "stdout",
     "output_type": "stream",
     "text": [
      "{'train_runtime': 912.4097, 'train_samples_per_second': 103.725, 'train_steps_per_second': 3.244, 'train_loss': 0.09163387739980543, 'epoch': 10.0}\n"
     ]
    },
    {
     "name": "stderr",
     "output_type": "stream",
     "text": [
      "\n"
     ]
    },
    {
     "data": {
      "text/plain": [
       "TrainOutput(global_step=2960, training_loss=0.09163387739980543, metrics={'train_runtime': 912.4097, 'train_samples_per_second': 103.725, 'train_steps_per_second': 3.244, 'total_flos': 4212667133875200.0, 'train_loss': 0.09163387739980543, 'epoch': 10.0})"
      ]
     },
     "execution_count": 12,
     "metadata": {},
     "output_type": "execute_result"
    }
   ],
   "source": [
    "trainer.train()"
   ]
  },
  {
   "cell_type": "code",
   "execution_count": 13,
   "metadata": {},
   "outputs": [
    {
     "name": "stderr",
     "output_type": "stream",
     "text": [
      "/tmp/ipykernel_16894/718790748.py:7: FutureWarning: The behavior of DataFrame concatenation with empty or all-NA entries is deprecated. In a future version, this will no longer exclude empty or all-NA columns when determining the result dtypes. To retain the old behavior, exclude the relevant entries before the concat operation.\n",
      "  df_loss = pd.concat([df_loss, df_new_row], ignore_index=True)\n",
      "/tmp/ipykernel_16894/718790748.py:13: FutureWarning: The behavior of DataFrame concatenation with empty or all-NA entries is deprecated. In a future version, this will no longer exclude empty or all-NA columns when determining the result dtypes. To retain the old behavior, exclude the relevant entries before the concat operation.\n",
      "  df_val_loss = pd.concat([df_val_loss, df_val_new_row], ignore_index=True)\n"
     ]
    }
   ],
   "source": [
    "df_loss = pd.DataFrame(columns=['epoch', 'loss'])\n",
    "df_val_loss = pd.DataFrame(columns=['epoch', 'eval_loss','eval_balanced_accuracy'])\n",
    "\n",
    "for values in trainer.state.log_history:\n",
    "    if values.get('loss') is not None:\n",
    "         df_new_row = pd.DataFrame.from_records({'epoch': values['epoch'], 'loss': values['loss']}, index=[0])\n",
    "         df_loss = pd.concat([df_loss, df_new_row], ignore_index=True)\n",
    "    elif values.get('train_loss') is not None:\n",
    "         df_new_row = pd.DataFrame.from_records({'epoch': values['epoch'], 'loss': values['train_loss']}, index=[0])\n",
    "         df_loss = pd.concat([df_loss, df_new_row], ignore_index=True)\n",
    "    elif values.get('eval_loss') is not None:\n",
    "         df_val_new_row = pd.DataFrame.from_records({'epoch': values['epoch'], 'eval_loss': values['eval_loss'], 'eval_balanced_accuracy': values['eval_balanced_accuracy']}, index=[0])\n",
    "         df_val_loss = pd.concat([df_val_loss, df_val_new_row], ignore_index=True)\n",
    "\n",
    "mergedDf = pd.merge(df_loss, df_val_loss)"
   ]
  },
  {
   "cell_type": "code",
   "execution_count": 14,
   "metadata": {},
   "outputs": [
    {
     "data": {
      "image/png": "[encoded data removed]",
      "text/plain": [
       "<Figure size 1600x600 with 1 Axes>"
      ]
     },
     "metadata": {},
     "output_type": "display_data"
    }
   ],
   "source": [
    "plot_loss_accuracy(mergedDf)"
   ]
  },
  {
   "cell_type": "code",
   "execution_count": 24,
   "metadata": {},
   "outputs": [
    {
     "name": "stderr",
     "output_type": "stream",
     "text": [
      "Hardware accelerator e.g. GPU is available in the environment, but no `device` argument is passed to the `Pipeline` object. Model will be on CPU.\n"
     ]
    },
    {
     "name": "stdout",
     "output_type": "stream",
     "text": [
      "balanced Accuracy: 0.8503189332408283\n",
      "accuracy 0.9294465568229827\n"
     ]
    },
    {
     "data": {
      "image/png": "[encoded data removed]",
      "text/plain": [
       "<Figure size 1000x800 with 2 Axes>"
      ]
     },
     "metadata": {},
     "output_type": "display_data"
    }
   ],
   "source": [
    "from transformers import pipeline\n",
    "classifier = pipeline('text-classification', model=model, tokenizer=tokenizer)\n",
    "\n",
    "predictions = classifier(train_val_set[\"test\"][\"Review\"], batch_size=16)\n",
    "\n",
    "\n",
    "plot_confusion_matrix(train_val_set[\"test\"], predictions)"
   ]
  },
  {
   "cell_type": "code",
   "execution_count": 25,
   "metadata": {},
   "outputs": [
    {
     "name": "stdout",
     "output_type": "stream",
     "text": [
      "balanced Accuracy: 0.8346604672623537\n",
      "accuracy 0.9087529570800946\n"
     ]
    },
    {
     "data": {
      "image/png": "[encoded data removed]",
      "text/plain": [
       "<Figure size 1000x800 with 2 Axes>"
      ]
     },
     "metadata": {},
     "output_type": "display_data"
    }
   ],
   "source": [
    "predTest = classifier(test_set[\"Review\"], batch_size=16)\n",
    "plot_confusion_matrix( test_set, predTest)"
   ]
  }
 ],
 "metadata": {
  "kernelspec": {
   "display_name": ".venv",
   "language": "python",
   "name": "python3"
  },
  "language_info": {
   "codemirror_mode": {
    "name": "ipython",
    "version": 3
   },
   "file_extension": ".py",
   "mimetype": "text/x-python",
   "name": "python",
   "nbconvert_exporter": "python",
   "pygments_lexer": "ipython3",
   "version": "3.12.3"
  }
 },
 "nbformat": 4,
 "nbformat_minor": 2
}
