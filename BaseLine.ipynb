{
 "cells": [
  {
   "cell_type": "code",
   "execution_count": 1,
   "metadata": {},
   "outputs": [
    {
     "name": "stderr",
     "output_type": "stream",
     "text": [
      "/tmp/ipykernel_30184/2074655177.py:5: DeprecationWarning: DataFrameGroupBy.apply operated on the grouping columns. This behavior is deprecated, and in a future version of pandas the grouping columns will be excluded from the operation. Either pass `include_groups=False` to exclude the groupings or explicitly select the grouping columns after groupby to silence this warning.\n",
      "  train_df = train_df.groupby('Sentiment', group_keys=False).apply(lambda x: x.sample(1500)).reset_index(drop=True)\n"
     ]
    }
   ],
   "source": [
    "import pandas as pd\n",
    "\n",
    "# Carregando os dados de treinamento e teste\n",
    "train_df = pd.read_csv(\"train_critic.csv\").dropna()  # Carregando dados de treino\n",
    "train_df = train_df.groupby('Sentiment', group_keys=False).apply(lambda x: x.sample(1500)).reset_index(drop=True)"
   ]
  },
  {
   "cell_type": "code",
   "execution_count": 2,
   "metadata": {},
   "outputs": [
    {
     "name": "stderr",
     "output_type": "stream",
     "text": [
      "/home/felipedias/BigData/Trabalho1/.venv/lib/python3.12/site-packages/tqdm/auto.py:21: TqdmWarning: IProgress not found. Please update jupyter and ipywidgets. See https://ipywidgets.readthedocs.io/en/stable/user_install.html\n",
      "  from .autonotebook import tqdm as notebook_tqdm\n",
      "2024-11-23 12:15:39.148376: I tensorflow/core/util/port.cc:153] oneDNN custom operations are on. You may see slightly different numerical results due to floating-point round-off errors from different computation orders. To turn them off, set the environment variable `TF_ENABLE_ONEDNN_OPTS=0`.\n",
      "2024-11-23 12:15:39.155510: E external/local_xla/xla/stream_executor/cuda/cuda_fft.cc:477] Unable to register cuFFT factory: Attempting to register factory for plugin cuFFT when one has already been registered\n",
      "WARNING: All log messages before absl::InitializeLog() is called are written to STDERR\n",
      "E0000 00:00:1732374939.164355   30184 cuda_dnn.cc:8310] Unable to register cuDNN factory: Attempting to register factory for plugin cuDNN when one has already been registered\n",
      "E0000 00:00:1732374939.167101   30184 cuda_blas.cc:1418] Unable to register cuBLAS factory: Attempting to register factory for plugin cuBLAS when one has already been registered\n",
      "2024-11-23 12:15:39.176543: I tensorflow/core/platform/cpu_feature_guard.cc:210] This TensorFlow binary is optimized to use available CPU instructions in performance-critical operations.\n",
      "To enable the following instructions: AVX2 AVX_VNNI FMA, in other operations, rebuild TensorFlow with the appropriate compiler flags.\n",
      "Some weights of BertForSequenceClassification were not initialized from the model checkpoint at google-bert/bert-base-uncased and are newly initialized: ['classifier.bias', 'classifier.weight']\n",
      "You should probably TRAIN this model on a down-stream task to be able to use it for predictions and inference.\n"
     ]
    }
   ],
   "source": [
    "from transformers import AutoTokenizer, Trainer, Trainer, TrainingArguments, AutoModelForSequenceClassification\n",
    "import torch\n",
    "\n",
    "NUM_LABELS = 2  # Número de classes\n",
    "model_name = \"google-bert/bert-base-uncased\"  # Escolha o modelo conforme sua necessidade\n",
    "tokenizer = AutoTokenizer.from_pretrained(model_name)  # Carregar o tokenizer\n",
    "model = AutoModelForSequenceClassification.from_pretrained(model_name, num_labels=NUM_LABELS)  # Carregar o modelo de classificação"
   ]
  },
  {
   "cell_type": "code",
   "execution_count": 3,
   "metadata": {},
   "outputs": [
    {
     "name": "stdout",
     "output_type": "stream",
     "text": [
      "DatasetDict({\n",
      "    train: Dataset({\n",
      "        features: ['Show', 'Sentiment', 'Review'],\n",
      "        num_rows: 2400\n",
      "    })\n",
      "    test: Dataset({\n",
      "        features: ['Show', 'Sentiment', 'Review'],\n",
      "        num_rows: 600\n",
      "    })\n",
      "})\n"
     ]
    }
   ],
   "source": [
    "from datasets import Dataset\n",
    "import tensorflow as tf\n",
    "import random\n",
    "import numpy as np\n",
    "tf.random.set_seed(42)\n",
    "np.random.seed(42)\n",
    "random.seed(42)\n",
    "\n",
    "\n",
    "train_data_set = Dataset.from_pandas(train_df)\n",
    "train_val_set = train_data_set.train_test_split (test_size = 0.2)\n",
    "\n",
    "print(train_val_set)\n",
    "\n",
    "x_train = train_val_set[\"train\"][\"Review\"]\n",
    "x_val = train_val_set[\"test\"][\"Review\"]\n",
    "y_train = train_val_set[\"train\"][\"Sentiment\"]\n",
    "y_val = train_val_set[\"test\"][\"Sentiment\"] \n",
    "\n"
   ]
  },
  {
   "cell_type": "code",
   "execution_count": null,
   "metadata": {},
   "outputs": [],
   "source": [
    "base_train_encodings = tokenizer(list(x_train), truncation=True, padding=True, max_length=60)\n",
    "base_valid_encodings = tokenizer(list(x_val), truncation=True, padding=True, max_length=60)"
   ]
  },
  {
   "cell_type": "code",
   "execution_count": 5,
   "metadata": {},
   "outputs": [],
   "source": [
    "from sklearn.metrics import balanced_accuracy_score\n",
    "\n",
    "def compute_metrics(p):\n",
    "    return {\"balanced_accuracy\": balanced_accuracy_score(p.label_ids, np.argmax(p.predictions, axis=1))}"
   ]
  },
  {
   "cell_type": "code",
   "execution_count": 6,
   "metadata": {},
   "outputs": [],
   "source": [
    "import seaborn as sns\n",
    "import matplotlib.pyplot as plt\n",
    "\n",
    "def  plot_loss_accuracy(df):\n",
    "    plt.figure(figsize=(16, 6))\n",
    "    plt.subplot(121)\n",
    "    sns.lineplot(data=df[['loss', 'eval_loss']])"
   ]
  },
  {
   "cell_type": "code",
   "execution_count": 7,
   "metadata": {},
   "outputs": [],
   "source": [
    "from sklearn import metrics\n",
    "\n",
    "def plot_confusion_matrix(dataset, predictions, labels=None):\n",
    "    #calcula a acurácia balanceada\n",
    "    labels = dataset['Sentiment']\n",
    "    preds = [0 if pred['label'] == 'LABEL_0' else 1 for pred in predictions]\n",
    "    \n",
    "    \n",
    "    print('balanced Accuracy:', balanced_accuracy_score(labels, preds))\n",
    "    print('accuracy', metrics.accuracy_score(labels, preds))\n",
    "\n",
    "    # Calculo da matriz de confusão.\n",
    "    c = metrics.confusion_matrix(labels, preds)\n",
    "    r = c / c.sum(axis=1, keepdims=True)\n",
    "\n",
    "    plt.figure(figsize=(10, 8))\n",
    "    sns.heatmap(r, annot=True, fmt=\".2f\", cmap=\"Blues\")\n",
    "    plt.xlabel(\"Classe predita\")\n",
    "    plt.ylabel(\"Classe verdadeira\")\n",
    "    plt.title(\"Matriz de confusão relativa\")\n",
    "    plt.show()"
   ]
  },
  {
   "cell_type": "markdown",
   "metadata": {},
   "source": [
    "## Modelo Base"
   ]
  },
  {
   "cell_type": "code",
   "execution_count": null,
   "metadata": {},
   "outputs": [],
   "source": [
    "from sklearn.ensemble import RandomForestClassifier\n",
    "\n",
    "rndForest = RandomForestClassifier(max_depth=8, n_estimators=2, max_features=66)\n",
    "rndForest.fit(base_train_encodings[\"input_ids\"], y_train)\n",
    "p_val = rndForest.predict(valid_encodings[\"input_ids\"])"
   ]
  },
  {
   "cell_type": "markdown",
   "metadata": {},
   "source": [
    "## Modelo Melhorado"
   ]
  },
  {
   "cell_type": "code",
   "execution_count": null,
   "metadata": {},
   "outputs": [],
   "source": [
    "train_encodings = tokenizer(list(x_train), truncation=True, padding=True, max_length=256)\n",
    "valid_encodings = tokenizer(list(x_val), truncation=True, padding=True, max_length=256)"
   ]
  },
  {
   "cell_type": "code",
   "execution_count": 9,
   "metadata": {},
   "outputs": [],
   "source": [
    "class DatasetLoader(torch.utils.data.Dataset):\n",
    "    def __init__(self, encodings, labels):\n",
    "        self.encodings = encodings\n",
    "        self.labels = labels\n",
    "\n",
    "    def __getitem__(self, idx):\n",
    "        item = {key: torch.tensor(val[idx]) for key, val in self.encodings.items()}\n",
    "        item['labels'] = torch.tensor(self.labels[idx])\n",
    "        return item\n",
    "\n",
    "    def __len__(self):\n",
    "        return len(self.labels)\n",
    "    \n",
    "train_dataset = DatasetLoader(train_encodings, list(y_train))\n",
    "valid_dataset = DatasetLoader(valid_encodings, list(y_val))\n"
   ]
  },
  {
   "cell_type": "code",
   "execution_count": 10,
   "metadata": {},
   "outputs": [
    {
     "name": "stderr",
     "output_type": "stream",
     "text": [
      "/home/felipedias/BigData/Trabalho1/.venv/lib/python3.12/site-packages/transformers/training_args.py:1568: FutureWarning: `evaluation_strategy` is deprecated and will be removed in version 4.46 of 🤗 Transformers. Use `eval_strategy` instead\n",
      "  warnings.warn(\n"
     ]
    }
   ],
   "source": [
    "training_args = TrainingArguments(\n",
    "per_device_train_batch_size=16,\n",
    "    per_device_eval_batch_size=32,\n",
    "    num_train_epochs=35,\n",
    "    logging_dir='./logs1',\n",
    "    logging_steps=200,\n",
    "    evaluation_strategy=\"steps\",\n",
    "    eval_steps=200,\n",
    "    output_dir='./results1',\n",
    "    learning_rate=0.00001,\n",
    "    lr_scheduler_type=\"constant\",\n",
    "    remove_unused_columns=False,\n",
    ")\n"
   ]
  },
  {
   "cell_type": "code",
   "execution_count": 11,
   "metadata": {},
   "outputs": [],
   "source": [
    "def make_model_contiguous(model):\n",
    "    # Aplica .contiguous() a todos os tensores dos parâmetros do modelo\n",
    "    for param in model.parameters():\n",
    "        if not param.is_contiguous():\n",
    "            param.data = param.data.contiguous()"
   ]
  },
  {
   "cell_type": "code",
   "execution_count": 12,
   "metadata": {},
   "outputs": [],
   "source": [
    "\n",
    "\n",
    "make_model_contiguous(model)\n",
    "\n",
    "trainer = Trainer(\n",
    "    model=model,\n",
    "    args=training_args,\n",
    "    train_dataset=train_dataset,\n",
    "    eval_dataset=valid_dataset,\n",
    "    compute_metrics=compute_metrics,\n",
    ")"
   ]
  },
  {
   "cell_type": "code",
   "execution_count": null,
   "metadata": {},
   "outputs": [
    {
     "name": "stderr",
     "output_type": "stream",
     "text": [
      "  4%|▍         | 200/5250 [00:19<07:57, 10.58it/s]"
     ]
    },
    {
     "name": "stdout",
     "output_type": "stream",
     "text": [
      "{'loss': 0.4655, 'grad_norm': 12.037578582763672, 'learning_rate': 1e-05, 'epoch': 1.33}\n"
     ]
    },
    {
     "name": "stderr",
     "output_type": "stream",
     "text": [
      "                                                  \n",
      "  4%|▍         | 201/5250 [00:20<18:01,  4.67it/s]"
     ]
    },
    {
     "name": "stdout",
     "output_type": "stream",
     "text": [
      "{'eval_loss': 0.3612649738788605, 'eval_balanced_accuracy': 0.8558315033830857, 'eval_runtime': 0.7926, 'eval_samples_per_second': 756.975, 'eval_steps_per_second': 23.971, 'epoch': 1.33}\n"
     ]
    },
    {
     "name": "stderr",
     "output_type": "stream",
     "text": [
      "  8%|▊         | 400/5250 [00:40<08:08,  9.93it/s]"
     ]
    },
    {
     "name": "stdout",
     "output_type": "stream",
     "text": [
      "{'loss': 0.2384, 'grad_norm': 17.733320236206055, 'learning_rate': 1e-05, 'epoch': 2.67}\n"
     ]
    },
    {
     "name": "stderr",
     "output_type": "stream",
     "text": [
      "                                                  \n",
      "  8%|▊         | 401/5250 [00:41<25:55,  3.12it/s]"
     ]
    },
    {
     "name": "stdout",
     "output_type": "stream",
     "text": [
      "{'eval_loss': 0.4061022400856018, 'eval_balanced_accuracy': 0.8638405546699959, 'eval_runtime': 0.8499, 'eval_samples_per_second': 705.961, 'eval_steps_per_second': 22.355, 'epoch': 2.67}\n"
     ]
    },
    {
     "name": "stderr",
     "output_type": "stream",
     "text": [
      " 11%|█▏        | 600/5250 [01:01<07:17, 10.62it/s]"
     ]
    },
    {
     "name": "stdout",
     "output_type": "stream",
     "text": [
      "{'loss': 0.1348, 'grad_norm': 0.1747044175863266, 'learning_rate': 1e-05, 'epoch': 4.0}\n"
     ]
    },
    {
     "name": "stderr",
     "output_type": "stream",
     "text": [
      "                                                  \n",
      " 11%|█▏        | 602/5250 [01:02<16:34,  4.67it/s]"
     ]
    },
    {
     "name": "stdout",
     "output_type": "stream",
     "text": [
      "{'eval_loss': 0.613239049911499, 'eval_balanced_accuracy': 0.8584175853574255, 'eval_runtime': 0.7948, 'eval_samples_per_second': 754.881, 'eval_steps_per_second': 23.905, 'epoch': 4.0}\n"
     ]
    },
    {
     "name": "stderr",
     "output_type": "stream",
     "text": [
      " 15%|█▌        | 800/5250 [01:22<07:19, 10.13it/s]"
     ]
    },
    {
     "name": "stdout",
     "output_type": "stream",
     "text": [
      "{'loss': 0.0573, 'grad_norm': 0.053174879401922226, 'learning_rate': 1e-05, 'epoch': 5.33}\n"
     ]
    },
    {
     "name": "stderr",
     "output_type": "stream",
     "text": [
      "                                                  \n",
      " 15%|█▌        | 802/5250 [01:23<16:41,  4.44it/s]"
     ]
    },
    {
     "name": "stdout",
     "output_type": "stream",
     "text": [
      "{'eval_loss': 0.7133636474609375, 'eval_balanced_accuracy': 0.8613826621038668, 'eval_runtime': 0.8356, 'eval_samples_per_second': 718.051, 'eval_steps_per_second': 22.738, 'epoch': 5.33}\n"
     ]
    },
    {
     "name": "stderr",
     "output_type": "stream",
     "text": [
      " 16%|█▌        | 824/5250 [01:25<07:31,  9.80it/s]"
     ]
    }
   ],
   "source": [
    "trainer.train()"
   ]
  },
  {
   "cell_type": "code",
   "execution_count": null,
   "metadata": {},
   "outputs": [],
   "source": [
    "df_loss = pd.DataFrame(columns=['epoch', 'loss'])\n",
    "df_val_loss = pd.DataFrame(columns=['epoch', 'eval_loss','eval_balanced_accuracy'])\n",
    "\n",
    "for values in trainer.state.log_history:\n",
    "    if values.get('loss') is not None:\n",
    "         df_new_row = pd.DataFrame.from_records({'epoch': values['epoch'], 'loss': values['loss']}, index=[0])\n",
    "         df_loss = pd.concat([df_loss, df_new_row], ignore_index=True)\n",
    "    elif values.get('train_loss') is not None:\n",
    "         df_new_row = pd.DataFrame.from_records({'epoch': values['epoch'], 'loss': values['train_loss']}, index=[0])\n",
    "         df_loss = pd.concat([df_loss, df_new_row], ignore_index=True)\n",
    "    elif values.get('eval_loss') is not None:\n",
    "         df_val_new_row = pd.DataFrame.from_records({'epoch': values['epoch'], 'eval_loss': values['eval_loss'], 'eval_balanced_accuracy': values['eval_balanced_accuracy']}, index=[0])\n",
    "         df_val_loss = pd.concat([df_val_loss, df_val_new_row], ignore_index=True)\n",
    "\n",
    "mergedDf = pd.merge(df_loss, df_val_loss)\n"
   ]
  },
  {
   "cell_type": "code",
   "execution_count": null,
   "metadata": {},
   "outputs": [],
   "source": [
    "plot_loss_accuracy(mergedDf)"
   ]
  },
  {
   "cell_type": "code",
   "execution_count": null,
   "metadata": {},
   "outputs": [],
   "source": [
    "from transformers import pipeline\n",
    "classifier = pipeline('text-classification', model=model, tokenizer=tokenizer)\n",
    "\n",
    "predictions = classifier(train_val_set[\"test\"][\"Review\"], batch_size=16)\n",
    "\n",
    "\n",
    "plot_confusion_matrix(train_val_set[\"test\"], predictions)\n"
   ]
  }
 ],
 "metadata": {
  "kernelspec": {
   "display_name": ".venv",
   "language": "python",
   "name": "python3"
  },
  "language_info": {
   "codemirror_mode": {
    "name": "ipython",
    "version": 3
   },
   "file_extension": ".py",
   "mimetype": "text/x-python",
   "name": "python",
   "nbconvert_exporter": "python",
   "pygments_lexer": "ipython3",
   "version": "3.12.3"
  }
 },
 "nbformat": 4,
 "nbformat_minor": 2
}
