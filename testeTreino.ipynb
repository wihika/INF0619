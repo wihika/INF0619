{
 "cells": [
  {
   "cell_type": "code",
   "execution_count": 1,
   "metadata": {},
   "outputs": [
    {
     "name": "stderr",
     "output_type": "stream",
     "text": [
      "/tmp/ipykernel_33701/2074655177.py:5: DeprecationWarning: DataFrameGroupBy.apply operated on the grouping columns. This behavior is deprecated, and in a future version of pandas the grouping columns will be excluded from the operation. Either pass `include_groups=False` to exclude the groupings or explicitly select the grouping columns after groupby to silence this warning.\n",
      "  train_df = train_df.groupby('Sentiment', group_keys=False).apply(lambda x: x.sample(1500)).reset_index(drop=True)\n"
     ]
    }
   ],
   "source": [
    "import pandas as pd\n",
    "\n",
    "# Carregando os dados de treinamento e teste\n",
    "train_df = pd.read_csv(\"train_critic.csv\").dropna()  # Carregando dados de treino\n",
    "train_df = train_df.groupby('Sentiment', group_keys=False).apply(lambda x: x.sample(1500)).reset_index(drop=True)"
   ]
  },
  {
   "cell_type": "code",
   "execution_count": 2,
   "metadata": {},
   "outputs": [
    {
     "name": "stderr",
     "output_type": "stream",
     "text": [
      "/home/felipedias/BigData/Trabalho1/.venv/lib/python3.12/site-packages/tqdm/auto.py:21: TqdmWarning: IProgress not found. Please update jupyter and ipywidgets. See https://ipywidgets.readthedocs.io/en/stable/user_install.html\n",
      "  from .autonotebook import tqdm as notebook_tqdm\n",
      "2024-11-20 18:09:45.604302: I tensorflow/core/util/port.cc:153] oneDNN custom operations are on. You may see slightly different numerical results due to floating-point round-off errors from different computation orders. To turn them off, set the environment variable `TF_ENABLE_ONEDNN_OPTS=0`.\n",
      "2024-11-20 18:09:45.611518: E external/local_xla/xla/stream_executor/cuda/cuda_fft.cc:477] Unable to register cuFFT factory: Attempting to register factory for plugin cuFFT when one has already been registered\n",
      "WARNING: All log messages before absl::InitializeLog() is called are written to STDERR\n",
      "E0000 00:00:1732136985.621062   33701 cuda_dnn.cc:8310] Unable to register cuDNN factory: Attempting to register factory for plugin cuDNN when one has already been registered\n",
      "E0000 00:00:1732136985.623886   33701 cuda_blas.cc:1418] Unable to register cuBLAS factory: Attempting to register factory for plugin cuBLAS when one has already been registered\n",
      "2024-11-20 18:09:45.633433: I tensorflow/core/platform/cpu_feature_guard.cc:210] This TensorFlow binary is optimized to use available CPU instructions in performance-critical operations.\n",
      "To enable the following instructions: AVX2 AVX_VNNI FMA, in other operations, rebuild TensorFlow with the appropriate compiler flags.\n",
      "Some weights of BertForSequenceClassification were not initialized from the model checkpoint at google-bert/bert-base-uncased and are newly initialized: ['classifier.bias', 'classifier.weight']\n",
      "You should probably TRAIN this model on a down-stream task to be able to use it for predictions and inference.\n"
     ]
    }
   ],
   "source": [
    "from transformers import AutoTokenizer, Trainer, Trainer, TrainingArguments, AutoModelForSequenceClassification\n",
    "import torch\n",
    "\n",
    "NUM_LABELS = 2  # Número de classes\n",
    "model_name = \"google-bert/bert-base-uncased\"  # Escolha o modelo conforme sua necessidade\n",
    "tokenizer = AutoTokenizer.from_pretrained(model_name)  # Carregar o tokenizer\n",
    "model = AutoModelForSequenceClassification.from_pretrained(model_name, num_labels=NUM_LABELS)  # Carregar o modelo de classificação"
   ]
  },
  {
   "cell_type": "code",
   "execution_count": 3,
   "metadata": {},
   "outputs": [
    {
     "name": "stdout",
     "output_type": "stream",
     "text": [
      "DatasetDict({\n",
      "    train: Dataset({\n",
      "        features: ['Show', 'Sentiment', 'Review'],\n",
      "        num_rows: 2400\n",
      "    })\n",
      "    test: Dataset({\n",
      "        features: ['Show', 'Sentiment', 'Review'],\n",
      "        num_rows: 600\n",
      "    })\n",
      "})\n"
     ]
    }
   ],
   "source": [
    "from datasets import Dataset\n",
    "import tensorflow as tf\n",
    "import random\n",
    "import numpy as np\n",
    "tf.random.set_seed(42)\n",
    "np.random.seed(42)\n",
    "random.seed(42)\n",
    "\n",
    "\n",
    "train_data_set = Dataset.from_pandas(train_df)\n",
    "train_val_set = train_data_set.train_test_split (test_size = 0.2)\n",
    "\n",
    "print(train_val_set)\n",
    "\n",
    "x_train = train_val_set[\"train\"][\"Review\"]\n",
    "x_val = train_val_set[\"test\"][\"Review\"]\n",
    "y_train = train_val_set[\"train\"][\"Sentiment\"]\n",
    "y_val = train_val_set[\"test\"][\"Sentiment\"] \n",
    "\n"
   ]
  },
  {
   "cell_type": "code",
   "execution_count": 4,
   "metadata": {},
   "outputs": [],
   "source": [
    "train_encodings = tokenizer(list(x_train), truncation=True, padding=True, max_length=256)\n",
    "valid_encodings = tokenizer(list(x_val), truncation=True, padding=True, max_length=256)"
   ]
  },
  {
   "cell_type": "code",
   "execution_count": 5,
   "metadata": {},
   "outputs": [],
   "source": [
    "class DatasetLoader(torch.utils.data.Dataset):\n",
    "    def __init__(self, encodings, labels):\n",
    "        self.encodings = encodings\n",
    "        self.labels = labels\n",
    "\n",
    "    def __getitem__(self, idx):\n",
    "        item = {key: torch.tensor(val[idx]) for key, val in self.encodings.items()}\n",
    "        item['labels'] = torch.tensor(self.labels[idx])\n",
    "        return item\n",
    "\n",
    "    def __len__(self):\n",
    "        return len(self.labels)\n",
    "    \n",
    "train_dataset = DatasetLoader(train_encodings, list(y_train))\n",
    "valid_dataset = DatasetLoader(valid_encodings, list(y_val))\n"
   ]
  },
  {
   "cell_type": "code",
   "execution_count": 6,
   "metadata": {},
   "outputs": [],
   "source": [
    "from sklearn.metrics import balanced_accuracy_score\n",
    "\n",
    "def compute_metrics(p):\n",
    "    return {\"balanced_accuracy\": balanced_accuracy_score(p.label_ids, np.argmax(p.predictions, axis=1))}"
   ]
  },
  {
   "cell_type": "code",
   "execution_count": null,
   "metadata": {},
   "outputs": [
    {
     "name": "stderr",
     "output_type": "stream",
     "text": [
      "/home/felipedias/BigData/Trabalho1/.venv/lib/python3.12/site-packages/transformers/training_args.py:1568: FutureWarning: `evaluation_strategy` is deprecated and will be removed in version 4.46 of 🤗 Transformers. Use `eval_strategy` instead\n",
      "  warnings.warn(\n"
     ]
    }
   ],
   "source": [
    "training_args = TrainingArguments(\n",
    "per_device_train_batch_size=16,\n",
    "    per_device_eval_batch_size=32,\n",
    "    num_train_epochs=35,\n",
    "    logging_dir='./logs1',\n",
    "    logging_steps=200,\n",
    "    evaluation_strategy=\"steps\",\n",
    "    eval_steps=200,\n",
    "    output_dir='./results1',\n",
    "    learning_rate=0.00001,\n",
    "    lr_scheduler_type=\"constant\",\n",
    "    remove_unused_columns=False,\n",
    ")\n"
   ]
  },
  {
   "cell_type": "code",
   "execution_count": 8,
   "metadata": {},
   "outputs": [],
   "source": [
    "def make_model_contiguous(model):\n",
    "    # Aplica .contiguous() a todos os tensores dos parâmetros do modelo\n",
    "    for param in model.parameters():\n",
    "        if not param.is_contiguous():\n",
    "            param.data = param.data.contiguous()"
   ]
  },
  {
   "cell_type": "code",
   "execution_count": 9,
   "metadata": {},
   "outputs": [],
   "source": [
    "\n",
    "\n",
    "make_model_contiguous(model)\n",
    "\n",
    "trainer = Trainer(\n",
    "    model=model,\n",
    "    args=training_args,\n",
    "    train_dataset=train_dataset,\n",
    "    eval_dataset=valid_dataset,\n",
    "    compute_metrics=compute_metrics,\n",
    ")"
   ]
  },
  {
   "cell_type": "code",
   "execution_count": 10,
   "metadata": {},
   "outputs": [
    {
     "name": "stderr",
     "output_type": "stream",
     "text": [
      " 10%|▉         | 500/5250 [00:51<08:08,  9.72it/s]"
     ]
    },
    {
     "name": "stdout",
     "output_type": "stream",
     "text": [
      "{'loss': 0.3066, 'grad_norm': 19.217201232910156, 'learning_rate': 1e-05, 'epoch': 3.33}\n"
     ]
    },
    {
     "name": "stderr",
     "output_type": "stream",
     "text": [
      "                                                  \n",
      " 10%|▉         | 500/5250 [00:52<08:08,  9.72it/s]"
     ]
    },
    {
     "name": "stdout",
     "output_type": "stream",
     "text": [
      "{'eval_loss': 0.6094865798950195, 'eval_balanced_accuracy': 0.824843107311255, 'eval_runtime': 0.838, 'eval_samples_per_second': 715.989, 'eval_steps_per_second': 22.673, 'epoch': 3.33}\n"
     ]
    },
    {
     "name": "stderr",
     "output_type": "stream",
     "text": [
      " 19%|█▉        | 1000/5250 [01:45<07:16,  9.73it/s] "
     ]
    },
    {
     "name": "stdout",
     "output_type": "stream",
     "text": [
      "{'loss': 0.0627, 'grad_norm': 4.548189163208008, 'learning_rate': 1e-05, 'epoch': 6.67}\n"
     ]
    },
    {
     "name": "stderr",
     "output_type": "stream",
     "text": [
      "                                                   \n",
      " 19%|█▉        | 1000/5250 [01:46<07:16,  9.73it/s]"
     ]
    },
    {
     "name": "stdout",
     "output_type": "stream",
     "text": [
      "{'eval_loss': 1.054303765296936, 'eval_balanced_accuracy': 0.8097613447626266, 'eval_runtime': 0.8381, 'eval_samples_per_second': 715.913, 'eval_steps_per_second': 22.671, 'epoch': 6.67}\n"
     ]
    },
    {
     "name": "stderr",
     "output_type": "stream",
     "text": [
      " 29%|██▊       | 1500/5250 [02:38<06:25,  9.73it/s]"
     ]
    },
    {
     "name": "stdout",
     "output_type": "stream",
     "text": [
      "{'loss': 0.0149, 'grad_norm': 0.005793076008558273, 'learning_rate': 1e-05, 'epoch': 10.0}\n"
     ]
    },
    {
     "name": "stderr",
     "output_type": "stream",
     "text": [
      "                                                   \n",
      " 29%|██▊       | 1500/5250 [02:39<06:25,  9.73it/s]"
     ]
    },
    {
     "name": "stdout",
     "output_type": "stream",
     "text": [
      "{'eval_loss': 1.1691068410873413, 'eval_balanced_accuracy': 0.8431463254227464, 'eval_runtime': 0.8338, 'eval_samples_per_second': 719.627, 'eval_steps_per_second': 22.788, 'epoch': 10.0}\n"
     ]
    },
    {
     "name": "stderr",
     "output_type": "stream",
     "text": [
      " 38%|███▊      | 2000/5250 [03:32<05:34,  9.71it/s]"
     ]
    },
    {
     "name": "stdout",
     "output_type": "stream",
     "text": [
      "{'loss': 0.0138, 'grad_norm': 0.003047002013772726, 'learning_rate': 1e-05, 'epoch': 13.33}\n"
     ]
    },
    {
     "name": "stderr",
     "output_type": "stream",
     "text": [
      "                                                   \n",
      " 38%|███▊      | 2000/5250 [03:33<05:34,  9.71it/s]"
     ]
    },
    {
     "name": "stdout",
     "output_type": "stream",
     "text": [
      "{'eval_loss': 1.2701247930526733, 'eval_balanced_accuracy': 0.836898485135602, 'eval_runtime': 0.8395, 'eval_samples_per_second': 714.691, 'eval_steps_per_second': 22.632, 'epoch': 13.33}\n"
     ]
    },
    {
     "name": "stderr",
     "output_type": "stream",
     "text": [
      " 48%|████▊     | 2500/5250 [04:26<04:44,  9.66it/s]"
     ]
    },
    {
     "name": "stdout",
     "output_type": "stream",
     "text": [
      "{'loss': 0.0065, 'grad_norm': 0.0014263669727370143, 'learning_rate': 1e-05, 'epoch': 16.67}\n"
     ]
    },
    {
     "name": "stderr",
     "output_type": "stream",
     "text": [
      "                                                   \n",
      " 48%|████▊     | 2500/5250 [04:27<04:44,  9.66it/s]"
     ]
    },
    {
     "name": "stdout",
     "output_type": "stream",
     "text": [
      "{'eval_loss': 1.374000906944275, 'eval_balanced_accuracy': 0.8326682346646453, 'eval_runtime': 0.8341, 'eval_samples_per_second': 719.298, 'eval_steps_per_second': 22.778, 'epoch': 16.67}\n"
     ]
    },
    {
     "name": "stderr",
     "output_type": "stream",
     "text": [
      " 57%|█████▋    | 3000/5250 [05:20<03:51,  9.71it/s]"
     ]
    },
    {
     "name": "stdout",
     "output_type": "stream",
     "text": [
      "{'loss': 0.0067, 'grad_norm': 0.0008259756141342223, 'learning_rate': 1e-05, 'epoch': 20.0}\n"
     ]
    },
    {
     "name": "stderr",
     "output_type": "stream",
     "text": [
      "                                                   \n",
      " 57%|█████▋    | 3000/5250 [05:21<03:51,  9.71it/s]"
     ]
    },
    {
     "name": "stdout",
     "output_type": "stream",
     "text": [
      "{'eval_loss': 1.384036660194397, 'eval_balanced_accuracy': 0.8403038646319849, 'eval_runtime': 0.8402, 'eval_samples_per_second': 714.109, 'eval_steps_per_second': 22.613, 'epoch': 20.0}\n"
     ]
    },
    {
     "name": "stderr",
     "output_type": "stream",
     "text": [
      " 67%|██████▋   | 3500/5250 [06:14<03:01,  9.65it/s]"
     ]
    },
    {
     "name": "stdout",
     "output_type": "stream",
     "text": [
      "{'loss': 0.0078, 'grad_norm': 0.0008861715905368328, 'learning_rate': 1e-05, 'epoch': 23.33}\n"
     ]
    },
    {
     "name": "stderr",
     "output_type": "stream",
     "text": [
      "                                                   \n",
      " 67%|██████▋   | 3500/5250 [06:15<03:01,  9.65it/s]"
     ]
    },
    {
     "name": "stdout",
     "output_type": "stream",
     "text": [
      "{'eval_loss': 1.4512072801589966, 'eval_balanced_accuracy': 0.8397353724738326, 'eval_runtime': 0.8362, 'eval_samples_per_second': 717.563, 'eval_steps_per_second': 22.723, 'epoch': 23.33}\n"
     ]
    },
    {
     "name": "stderr",
     "output_type": "stream",
     "text": [
      " 76%|███████▌  | 4000/5250 [07:08<02:09,  9.64it/s]"
     ]
    },
    {
     "name": "stdout",
     "output_type": "stream",
     "text": [
      "{'loss': 0.0182, 'grad_norm': 0.001149771618656814, 'learning_rate': 1e-05, 'epoch': 26.67}\n"
     ]
    },
    {
     "name": "stderr",
     "output_type": "stream",
     "text": [
      "                                                   \n",
      " 76%|███████▌  | 4000/5250 [07:09<02:09,  9.64it/s]"
     ]
    },
    {
     "name": "stdout",
     "output_type": "stream",
     "text": [
      "{'eval_loss': 1.3700978755950928, 'eval_balanced_accuracy': 0.8445954230807816, 'eval_runtime': 0.8346, 'eval_samples_per_second': 718.883, 'eval_steps_per_second': 22.765, 'epoch': 26.67}\n"
     ]
    },
    {
     "name": "stderr",
     "output_type": "stream",
     "text": [
      " 86%|████████▌ | 4500/5250 [08:01<01:17,  9.72it/s]"
     ]
    },
    {
     "name": "stdout",
     "output_type": "stream",
     "text": [
      "{'loss': 0.0059, 'grad_norm': 0.0005297204479575157, 'learning_rate': 1e-05, 'epoch': 30.0}\n"
     ]
    },
    {
     "name": "stderr",
     "output_type": "stream",
     "text": [
      "                                                   \n",
      " 86%|████████▌ | 4500/5250 [08:02<01:17,  9.72it/s]"
     ]
    },
    {
     "name": "stdout",
     "output_type": "stream",
     "text": [
      "{'eval_loss': 1.5515875816345215, 'eval_balanced_accuracy': 0.8355106954554068, 'eval_runtime': 0.8358, 'eval_samples_per_second': 717.856, 'eval_steps_per_second': 22.732, 'epoch': 30.0}\n"
     ]
    },
    {
     "name": "stderr",
     "output_type": "stream",
     "text": [
      " 95%|█████████▌| 5000/5250 [08:55<00:26,  9.61it/s]"
     ]
    },
    {
     "name": "stdout",
     "output_type": "stream",
     "text": [
      "{'loss': 0.0051, 'grad_norm': 0.0003698859945870936, 'learning_rate': 1e-05, 'epoch': 33.33}\n"
     ]
    },
    {
     "name": "stderr",
     "output_type": "stream",
     "text": [
      "                                                   \n",
      " 95%|█████████▌| 5000/5250 [08:56<00:26,  9.61it/s]"
     ]
    },
    {
     "name": "stdout",
     "output_type": "stream",
     "text": [
      "{'eval_loss': 1.8550634384155273, 'eval_balanced_accuracy': 0.8162098293408835, 'eval_runtime': 0.8357, 'eval_samples_per_second': 717.923, 'eval_steps_per_second': 22.734, 'epoch': 33.33}\n"
     ]
    },
    {
     "name": "stderr",
     "output_type": "stream",
     "text": [
      "100%|██████████| 5250/5250 [09:25<00:00,  9.29it/s]"
     ]
    },
    {
     "name": "stdout",
     "output_type": "stream",
     "text": [
      "{'train_runtime': 565.1242, 'train_samples_per_second': 148.64, 'train_steps_per_second': 9.29, 'train_loss': 0.04339522507077172, 'epoch': 35.0}\n"
     ]
    },
    {
     "name": "stderr",
     "output_type": "stream",
     "text": [
      "\n"
     ]
    },
    {
     "data": {
      "text/plain": [
       "TrainOutput(global_step=5250, training_loss=0.04339522507077172, metrics={'train_runtime': 565.1242, 'train_samples_per_second': 148.64, 'train_steps_per_second': 9.29, 'total_flos': 3280665971520000.0, 'train_loss': 0.04339522507077172, 'epoch': 35.0})"
      ]
     },
     "execution_count": 10,
     "metadata": {},
     "output_type": "execute_result"
    }
   ],
   "source": [
    "trainer.train()"
   ]
  },
  {
   "cell_type": "code",
   "execution_count": 11,
   "metadata": {},
   "outputs": [
    {
     "name": "stderr",
     "output_type": "stream",
     "text": [
      "/tmp/ipykernel_33701/3409307734.py:7: FutureWarning: The behavior of DataFrame concatenation with empty or all-NA entries is deprecated. In a future version, this will no longer exclude empty or all-NA columns when determining the result dtypes. To retain the old behavior, exclude the relevant entries before the concat operation.\n",
      "  df_loss = pd.concat([df_loss, df_new_row], ignore_index=True)\n",
      "/tmp/ipykernel_33701/3409307734.py:13: FutureWarning: The behavior of DataFrame concatenation with empty or all-NA entries is deprecated. In a future version, this will no longer exclude empty or all-NA columns when determining the result dtypes. To retain the old behavior, exclude the relevant entries before the concat operation.\n",
      "  df_val_loss = pd.concat([df_val_loss, df_val_new_row], ignore_index=True)\n"
     ]
    }
   ],
   "source": [
    "df_loss = pd.DataFrame(columns=['epoch', 'loss'])\n",
    "df_val_loss = pd.DataFrame(columns=['epoch', 'eval_loss','eval_balanced_accuracy'])\n",
    "\n",
    "for values in trainer.state.log_history:\n",
    "    if values.get('loss') is not None:\n",
    "         df_new_row = pd.DataFrame.from_records({'epoch': values['epoch'], 'loss': values['loss']}, index=[0])\n",
    "         df_loss = pd.concat([df_loss, df_new_row], ignore_index=True)\n",
    "    elif values.get('train_loss') is not None:\n",
    "         df_new_row = pd.DataFrame.from_records({'epoch': values['epoch'], 'loss': values['train_loss']}, index=[0])\n",
    "         df_loss = pd.concat([df_loss, df_new_row], ignore_index=True)\n",
    "    elif values.get('eval_loss') is not None:\n",
    "         df_val_new_row = pd.DataFrame.from_records({'epoch': values['epoch'], 'eval_loss': values['eval_loss'], 'eval_balanced_accuracy': values['eval_balanced_accuracy']}, index=[0])\n",
    "         df_val_loss = pd.concat([df_val_loss, df_val_new_row], ignore_index=True)\n",
    "\n",
    "mergedDf = pd.merge(df_loss, df_val_loss)\n"
   ]
  },
  {
   "cell_type": "code",
   "execution_count": 12,
   "metadata": {},
   "outputs": [
    {
     "name": "stdout",
     "output_type": "stream",
     "text": [
      "       epoch    loss  eval_loss  eval_balanced_accuracy\n",
      "0   3.333333  0.3066   0.609487                0.824843\n",
      "1   6.666667  0.0627   1.054304                0.809761\n",
      "2  10.000000  0.0149   1.169107                0.843146\n",
      "3  13.333333  0.0138   1.270125                0.836898\n",
      "4  16.666667  0.0065   1.374001                0.832668\n",
      "5  20.000000  0.0067   1.384037                0.840304\n",
      "6  23.333333  0.0078   1.451207                0.839735\n",
      "7  26.666667  0.0182   1.370098                0.844595\n",
      "8  30.000000  0.0059   1.551588                0.835511\n",
      "9  33.333333  0.0051   1.855063                0.816210\n"
     ]
    }
   ],
   "source": [
    "print(mergedDf)"
   ]
  },
  {
   "cell_type": "code",
   "execution_count": 13,
   "metadata": {},
   "outputs": [],
   "source": [
    "import seaborn as sns\n",
    "import matplotlib.pyplot as plt\n",
    "\n",
    "def  plot_loss_accuracy(df):\n",
    "    plt.figure(figsize=(16, 6))\n",
    "    plt.subplot(121)\n",
    "    sns.lineplot(data=df[['loss', 'eval_loss']])"
   ]
  },
  {
   "cell_type": "code",
   "execution_count": 14,
   "metadata": {},
   "outputs": [
    {
     "data": {
      "image/png": "[encoded data removed]",
      "text/plain": [
       "<Figure size 1600x600 with 1 Axes>"
      ]
     },
     "metadata": {},
     "output_type": "display_data"
    }
   ],
   "source": [
    "plot_loss_accuracy(mergedDf)"
   ]
  },
  {
   "cell_type": "code",
   "execution_count": 15,
   "metadata": {},
   "outputs": [],
   "source": [
    "from sklearn import metrics\n",
    "\n",
    "def plot_confusion_matrix(dataset, predictions, labels=None):\n",
    "    #calcula a acurácia balanceada\n",
    "    labels = dataset['Sentiment']\n",
    "    preds = [0 if pred['label'] == 'LABEL_0' else 1 for pred in predictions]\n",
    "    \n",
    "    \n",
    "    print('balanced Accuracy:', balanced_accuracy_score(labels, preds))\n",
    "    print('accuracy', metrics.accuracy_score(labels, preds))\n",
    "\n",
    "    # Calculo da matriz de confusão.\n",
    "    c = metrics.confusion_matrix(labels, preds)\n",
    "    r = c / c.sum(axis=1, keepdims=True)\n",
    "\n",
    "    plt.figure(figsize=(10, 8))\n",
    "    sns.heatmap(r, annot=True, fmt=\".2f\", cmap=\"Blues\")\n",
    "    plt.xlabel(\"Classe predita\")\n",
    "    plt.ylabel(\"Classe verdadeira\")\n",
    "    plt.title(\"Matriz de confusão relativa\")\n",
    "    plt.show()"
   ]
  },
  {
   "cell_type": "code",
   "execution_count": 16,
   "metadata": {},
   "outputs": [
    {
     "name": "stderr",
     "output_type": "stream",
     "text": [
      "Hardware accelerator e.g. GPU is available in the environment, but no `device` argument is passed to the `Pipeline` object. Model will be on CPU.\n"
     ]
    },
    {
     "name": "stdout",
     "output_type": "stream",
     "text": [
      "balanced Accuracy: 0.8468025102830199\n",
      "accuracy 0.8483333333333334\n"
     ]
    },
    {
     "data": {
      "image/png": "[encoded data removed]",
      "text/plain": [
       "<Figure size 1000x800 with 2 Axes>"
      ]
     },
     "metadata": {},
     "output_type": "display_data"
    }
   ],
   "source": [
    "from transformers import pipeline\n",
    "classifier = pipeline('text-classification', model=model, tokenizer=tokenizer)\n",
    "\n",
    "predictions = classifier(train_val_set[\"test\"][\"Review\"], batch_size=16)\n",
    "\n",
    "\n",
    "plot_confusion_matrix(train_val_set[\"test\"], predictions)\n"
   ]
  }
 ],
 "metadata": {
  "kernelspec": {
   "display_name": ".venv",
   "language": "python",
   "name": "python3"
  },
  "language_info": {
   "codemirror_mode": {
    "name": "ipython",
    "version": 3
   },
   "file_extension": ".py",
   "mimetype": "text/x-python",
   "name": "python",
   "nbconvert_exporter": "python",
   "pygments_lexer": "ipython3",
   "version": "3.12.3"
  }
 },
 "nbformat": 4,
 "nbformat_minor": 2
}
