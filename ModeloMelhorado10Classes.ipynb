{
 "cells": [
  {
   "cell_type": "code",
   "execution_count": null,
   "metadata": {},
   "outputs": [],
   "source": [
    "import pandas as pd\n",
    "\n",
    "train_df = pd.read_csv(\"train_audience.csv\").dropna()  # Carregando dados de treino\n",
    "test_df = pd.read_csv(\"test_audience.csv\").dropna() # Carregando dados de teste"
   ]
  },
  {
   "cell_type": "code",
   "execution_count": null,
   "metadata": {},
   "outputs": [],
   "source": [
    "from transformers import  Trainer, Trainer, TrainingArguments, AutoModelForSequenceClassification, AutoTokenizer, BatchEncoding\n",
    "import torch\n",
    "\n",
    "NUM_LABELS = 10  # Número de classes\n",
    "# model_name = \"xlnet-large-cased\"  # Escolha o modelo conforme sua necessidade\n",
    "model_name = \"xlnet-base-cased\"\n",
    "tokenizer = AutoTokenizer.from_pretrained(model_name)  # Carregar o tokenizer\n",
    "model = AutoModelForSequenceClassification.from_pretrained(model_name, num_labels=NUM_LABELS)  # Carregar o modelo de classificação"
   ]
  },
  {
   "cell_type": "code",
   "execution_count": null,
   "metadata": {},
   "outputs": [],
   "source": [
    "from datasets import Dataset, DatasetDict\n",
    "import tensorflow as tf\n",
    "import random\n",
    "import numpy as np\n",
    "tf.random.set_seed(42)\n",
    "np.random.seed(42)\n",
    "random.seed(42)\n",
    "\n",
    "\n",
    "distinct_rating = train_df[\"Rating\"].unique()\n",
    "distinct_rating_dict = {}\n",
    "for index, label in enumerate(distinct_rating):\n",
    "    distinct_rating_dict[label] = index\n",
    "\n",
    "\n",
    "distinct_rating_test = test_df[\"Rating\"].unique()\n",
    "distinct_rating_dict_test = {}\n",
    "for index, label in enumerate(distinct_rating_test):\n",
    "    distinct_rating_dict_test[label] = index\n",
    "\n",
    "train_df['Rating'] = train_df[\"Rating\"].replace(distinct_rating_dict).astype(int)\n",
    "test_df['Rating'] = test_df[\"Rating\"].replace(distinct_rating_dict_test).astype(int)\n",
    "\n",
    "\n",
    "\n",
    "train_data_set = Dataset.from_pandas(train_df)\n",
    "test_set = Dataset.from_pandas(test_df)\n",
    "train_val_set = train_data_set.train_test_split (test_size = 0.2)\n",
    "\n",
    "datasets  = DatasetDict({\n",
    "    \"train\": train_val_set[\"train\"],\n",
    "    \"test\": test_set,\n",
    "    \"validation\": train_val_set[\"test\"],\n",
    "})\n",
    "\n",
    "print (datasets)"
   ]
  },
  {
   "cell_type": "code",
   "execution_count": null,
   "metadata": {},
   "outputs": [],
   "source": [
    "import seaborn as sns\n",
    "import matplotlib.pyplot as plt\n",
    "\n",
    "def  plot_loss_accuracy(df):\n",
    "    plt.figure(figsize=(16, 6))\n",
    "    plt.subplot(121)\n",
    "    sns.lineplot(data=df[['loss', 'eval_loss']])"
   ]
  },
  {
   "cell_type": "code",
   "execution_count": null,
   "metadata": {},
   "outputs": [],
   "source": [
    "\n",
    "\n",
    "# funcao de preprocessamento\n",
    "def preprocess_function(examples):\n",
    "    return tokenizer(examples[\"Review\"], truncation=True, padding=True, max_length=256)\n",
    "\n",
    "# roda a funcao de preprocessamento em todos os datasets\n",
    "tokenized_dataset = datasets.map(preprocess_function, batched=True)\n",
    "print(tokenized_dataset)"
   ]
  },
  {
   "cell_type": "code",
   "execution_count": null,
   "metadata": {},
   "outputs": [],
   "source": [
    "train_encodings = BatchEncoding({\n",
    "    'input_ids': tokenized_dataset['train']['input_ids'],\n",
    "    'token_type_ids': tokenized_dataset['train']['token_type_ids'],\n",
    "    'attention_mask': tokenized_dataset['train']['attention_mask'],\n",
    "})\n",
    "\n",
    "valid_encodings = BatchEncoding({\n",
    "    'input_ids': tokenized_dataset['validation']['input_ids'],\n",
    "    'token_type_ids': tokenized_dataset['validation']['token_type_ids'],\n",
    "    'attention_mask': tokenized_dataset['validation']['attention_mask'],\n",
    "})\n",
    "\n"
   ]
  },
  {
   "cell_type": "code",
   "execution_count": null,
   "metadata": {},
   "outputs": [],
   "source": [
    "class DatasetLoader(torch.utils.data.Dataset):\n",
    "    def __init__(self, encodings, labels):\n",
    "        self.encodings = encodings\n",
    "        self.labels = labels\n",
    "\n",
    "    def __getitem__(self, idx):\n",
    "        item = {key: torch.tensor(val[idx]) for key, val in self.encodings.items()}\n",
    "        item['labels'] = torch.tensor(self.labels[idx])\n",
    "        return item\n",
    "\n",
    "    def __len__(self):\n",
    "        return len(self.labels)\n",
    "    \n",
    "train_dataset = DatasetLoader(train_encodings, list(datasets['train']['Rating']))\n",
    "valid_dataset = DatasetLoader(valid_encodings, list(datasets['validation']['Rating']))"
   ]
  },
  {
   "cell_type": "code",
   "execution_count": null,
   "metadata": {},
   "outputs": [],
   "source": [
    "training_args = TrainingArguments(\n",
    "per_device_train_batch_size=4,\n",
    "    per_device_eval_batch_size=2,\n",
    "    num_train_epochs=8,\n",
    "    logging_steps=2000,\n",
    "    evaluation_strategy=\"steps\",\n",
    "    eval_steps=2000,\n",
    "    output_dir='./results1',\n",
    "    learning_rate=0.00001,\n",
    "    lr_scheduler_type=\"constant\",\n",
    "    remove_unused_columns=False,\n",
    ")\n"
   ]
  },
  {
   "cell_type": "code",
   "execution_count": null,
   "metadata": {},
   "outputs": [],
   "source": [
    "def make_model_contiguous(model):\n",
    "    # Aplica .contiguous() a todos os tensores dos parâmetros do modelo\n",
    "    for param in model.parameters():\n",
    "        if not param.is_contiguous():\n",
    "            param.data = param.data.contiguous()"
   ]
  },
  {
   "cell_type": "code",
   "execution_count": null,
   "metadata": {},
   "outputs": [],
   "source": [
    "from sklearn.metrics import balanced_accuracy_score\n",
    "\n",
    "def compute_metrics(p):\n",
    "    return {\"balanced_accuracy\": balanced_accuracy_score(p.label_ids, np.argmax(p.predictions, axis=1))}"
   ]
  },
  {
   "cell_type": "code",
   "execution_count": null,
   "metadata": {},
   "outputs": [],
   "source": [
    "make_model_contiguous(model)\n",
    "\n",
    "\n",
    "trainer = Trainer(\n",
    "    model=model,\n",
    "    args=training_args,\n",
    "    train_dataset=train_dataset,\n",
    "    eval_dataset=valid_dataset,\n",
    "    compute_metrics=compute_metrics\n",
    ")"
   ]
  },
  {
   "cell_type": "code",
   "execution_count": null,
   "metadata": {},
   "outputs": [],
   "source": [
    "trainer.train()"
   ]
  },
  {
   "cell_type": "code",
   "execution_count": null,
   "metadata": {},
   "outputs": [],
   "source": [
    "df_loss = pd.DataFrame(columns=['epoch', 'loss'])\n",
    "df_val_loss = pd.DataFrame(columns=['epoch', 'eval_loss','eval_balanced_accuracy'])\n",
    "\n",
    "for values in trainer.state.log_history:\n",
    "    if values.get('loss') is not None:\n",
    "         df_new_row = pd.DataFrame.from_records({'epoch': values['epoch'], 'loss': values['loss']}, index=[0])\n",
    "         df_loss = pd.concat([df_loss, df_new_row], ignore_index=True)\n",
    "    elif values.get('eval_loss') is not None:\n",
    "         df_val_new_row = pd.DataFrame.from_records({'epoch': values['epoch'], 'eval_loss': values['eval_loss'], 'eval_balanced_accuracy': values['eval_balanced_accuracy']}, index=[0])\n",
    "         df_val_loss = pd.concat([df_val_loss, df_val_new_row], ignore_index=True)\n",
    "\n",
    "mergedDf = pd.merge(df_loss, df_val_loss)"
   ]
  },
  {
   "cell_type": "code",
   "execution_count": null,
   "metadata": {},
   "outputs": [],
   "source": [
    "plot_loss_accuracy(mergedDf)"
   ]
  },
  {
   "cell_type": "code",
   "execution_count": null,
   "metadata": {},
   "outputs": [],
   "source": [
    "from sklearn import metrics\n",
    "\n",
    "def plot_confusion_matrix(dataset, predictions, labels=None):\n",
    "    #calcula a acurácia balanceada\n",
    "    labels = dataset['Rating']\n",
    "    preds = [int(pred['label'].split('_')[-1]) for pred in predictions]\n",
    "    \n",
    "    \n",
    "    print('balanced Accuracy:', balanced_accuracy_score(labels, preds))\n",
    "    print('accuracy', metrics.accuracy_score(labels, preds))\n",
    "\n",
    "    # Calculo da matriz de confusão.\n",
    "    c = metrics.confusion_matrix(labels, preds)\n",
    "    r = c / c.sum(axis=1, keepdims=True)\n",
    "\n",
    "    plt.figure(figsize=(10, 8))\n",
    "    sns.heatmap(r, annot=True, fmt=\".2f\", cmap=\"Blues\",  annot_kws={'size': 16})\n",
    "    plt.xlabel(\"Classe predita\")\n",
    "    plt.ylabel(\"Classe verdadeira\")\n",
    "    plt.title(\"Matriz de confusão relativa\")\n",
    "    plt.show()"
   ]
  },
  {
   "cell_type": "code",
   "execution_count": null,
   "metadata": {},
   "outputs": [],
   "source": [
    "from transformers import pipeline\n",
    "classifier = pipeline('text-classification', model=model, tokenizer=tokenizer)\n",
    "\n",
    "def classify_reviews(dataset, classifier): \n",
    "    predictions = [] \n",
    "    for i in range(0, len(dataset[\"Review\"]), 1): \n",
    "        batch_reviews = dataset[\"Review\"][i] \n",
    "        preds = classifier(batch_reviews) \n",
    "        predictions.extend(preds) \n",
    "    return predictions\n",
    "\n",
    "predictions = classify_reviews(datasets[\"validation\"], classifier)\n",
    "\n",
    "\n",
    "plot_confusion_matrix(datasets[\"validation\"], predictions)"
   ]
  }
 ],
 "metadata": {
  "kernelspec": {
   "display_name": ".venv",
   "language": "python",
   "name": "python3"
  },
  "language_info": {
   "codemirror_mode": {
    "name": "ipython",
    "version": 3
   },
   "file_extension": ".py",
   "mimetype": "text/x-python",
   "name": "python",
   "nbconvert_exporter": "python",
   "pygments_lexer": "ipython3",
   "version": "3.12.3"
  }
 },
 "nbformat": 4,
 "nbformat_minor": 2
}
